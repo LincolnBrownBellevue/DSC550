{
 "cells": [
  {
   "cell_type": "markdown",
   "id": "ffe15548-9dd1-470c-a7dd-536fb170aba4",
   "metadata": {},
   "source": [
    "## Wk5 Assignment\n",
    "\n",
    "## Lincoln Brown\n",
    "\n",
    "## DSC550-T302\n",
    "\n",
    "## Professor Werner\n"
   ]
  },
  {
   "cell_type": "code",
   "execution_count": 44,
   "id": "0bb1e2a5-adae-4fff-b7f0-62db515125b0",
   "metadata": {},
   "outputs": [
    {
     "name": "stderr",
     "output_type": "stream",
     "text": [
      "[nltk_data] Downloading package stopwords to /Users/x/nltk_data...\n",
      "[nltk_data]   Package stopwords is already up-to-date!\n"
     ]
    },
    {
     "data": {
      "text/plain": [
       "True"
      ]
     },
     "execution_count": 44,
     "metadata": {},
     "output_type": "execute_result"
    }
   ],
   "source": [
    "# Import libraries\n",
    "import matplotlib.pyplot as plt\n",
    "import nltk\n",
    "from nltk.corpus import stopwords\n",
    "from nltk.stem.porter import PorterStemmer\n",
    "import numpy as np\n",
    "import pandas as pd\n",
    "import re\n",
    "import seaborn as sns\n",
    "from sklearn.feature_extraction.text import TfidfVectorizer\n",
    "from sklearn.linear_model import LogisticRegression\n",
    "from sklearn.model_selection import train_test_split\n",
    "from sklearn.metrics import accuracy_score \n",
    "from sklearn.metrics import confusion_matrix\n",
    "from sklearn.metrics import classification_report\n",
    "from sklearn.metrics import roc_curve, roc_auc_score\n",
    "from sklearn.svm import LinearSVC, SVC\n",
    "\n",
    "nltk.download('stopwords')"
   ]
  },
  {
   "cell_type": "markdown",
   "id": "99d50e37-a9ab-475d-a3c0-2dd3b1ad02be",
   "metadata": {},
   "source": [
    "## Step 1: Get the Stemmed Data\n",
    "Get the stemmed data using the same process you did in Week 3 \n"
   ]
  },
  {
   "cell_type": "code",
   "execution_count": 10,
   "id": "1e4a516c-ed81-4f54-94f6-7ea6f1a764a2",
   "metadata": {},
   "outputs": [
    {
     "name": "stdout",
     "output_type": "stream",
     "text": [
      "There are 25000 rows and 3 columns\n"
     ]
    }
   ],
   "source": [
    "# Import the data\n",
    "f_name = \"labeledTrainData.tsv\"\n",
    "\n",
    "df = pd.read_csv(f_name, delimiter='\\t')\n",
    "\n",
    "print(f\"There are {df.shape[0]} rows and {df.shape[1]} columns\")\n"
   ]
  },
  {
   "cell_type": "code",
   "execution_count": 11,
   "id": "333cb847-5d0b-4538-83fa-6d7ff7a53b5e",
   "metadata": {},
   "outputs": [
    {
     "data": {
      "text/html": [
       "<div>\n",
       "<style scoped>\n",
       "    .dataframe tbody tr th:only-of-type {\n",
       "        vertical-align: middle;\n",
       "    }\n",
       "\n",
       "    .dataframe tbody tr th {\n",
       "        vertical-align: top;\n",
       "    }\n",
       "\n",
       "    .dataframe thead th {\n",
       "        text-align: right;\n",
       "    }\n",
       "</style>\n",
       "<table border=\"1\" class=\"dataframe\">\n",
       "  <thead>\n",
       "    <tr style=\"text-align: right;\">\n",
       "      <th></th>\n",
       "      <th>id</th>\n",
       "      <th>sentiment</th>\n",
       "      <th>review</th>\n",
       "    </tr>\n",
       "  </thead>\n",
       "  <tbody>\n",
       "    <tr>\n",
       "      <th>0</th>\n",
       "      <td>5814_8</td>\n",
       "      <td>1</td>\n",
       "      <td>With all this stuff going down at the moment w...</td>\n",
       "    </tr>\n",
       "    <tr>\n",
       "      <th>1</th>\n",
       "      <td>2381_9</td>\n",
       "      <td>1</td>\n",
       "      <td>\\The Classic War of the Worlds\\\" by Timothy Hi...</td>\n",
       "    </tr>\n",
       "    <tr>\n",
       "      <th>2</th>\n",
       "      <td>7759_3</td>\n",
       "      <td>0</td>\n",
       "      <td>The film starts with a manager (Nicholas Bell)...</td>\n",
       "    </tr>\n",
       "    <tr>\n",
       "      <th>3</th>\n",
       "      <td>3630_4</td>\n",
       "      <td>0</td>\n",
       "      <td>It must be assumed that those who praised this...</td>\n",
       "    </tr>\n",
       "    <tr>\n",
       "      <th>4</th>\n",
       "      <td>9495_8</td>\n",
       "      <td>1</td>\n",
       "      <td>Superbly trashy and wondrously unpretentious 8...</td>\n",
       "    </tr>\n",
       "    <tr>\n",
       "      <th>...</th>\n",
       "      <td>...</td>\n",
       "      <td>...</td>\n",
       "      <td>...</td>\n",
       "    </tr>\n",
       "    <tr>\n",
       "      <th>24995</th>\n",
       "      <td>3453_3</td>\n",
       "      <td>0</td>\n",
       "      <td>It seems like more consideration has gone into...</td>\n",
       "    </tr>\n",
       "    <tr>\n",
       "      <th>24996</th>\n",
       "      <td>5064_1</td>\n",
       "      <td>0</td>\n",
       "      <td>I don't believe they made this film. Completel...</td>\n",
       "    </tr>\n",
       "    <tr>\n",
       "      <th>24997</th>\n",
       "      <td>10905_3</td>\n",
       "      <td>0</td>\n",
       "      <td>Guy is a loser. Can't get girls, needs to buil...</td>\n",
       "    </tr>\n",
       "    <tr>\n",
       "      <th>24998</th>\n",
       "      <td>10194_3</td>\n",
       "      <td>0</td>\n",
       "      <td>This 30 minute documentary Buñuel made in the ...</td>\n",
       "    </tr>\n",
       "    <tr>\n",
       "      <th>24999</th>\n",
       "      <td>8478_8</td>\n",
       "      <td>1</td>\n",
       "      <td>I saw this movie as a child and it broke my he...</td>\n",
       "    </tr>\n",
       "  </tbody>\n",
       "</table>\n",
       "<p>25000 rows × 3 columns</p>\n",
       "</div>"
      ],
      "text/plain": [
       "            id  sentiment                                             review\n",
       "0       5814_8          1  With all this stuff going down at the moment w...\n",
       "1       2381_9          1  \\The Classic War of the Worlds\\\" by Timothy Hi...\n",
       "2       7759_3          0  The film starts with a manager (Nicholas Bell)...\n",
       "3       3630_4          0  It must be assumed that those who praised this...\n",
       "4       9495_8          1  Superbly trashy and wondrously unpretentious 8...\n",
       "...        ...        ...                                                ...\n",
       "24995   3453_3          0  It seems like more consideration has gone into...\n",
       "24996   5064_1          0  I don't believe they made this film. Completel...\n",
       "24997  10905_3          0  Guy is a loser. Can't get girls, needs to buil...\n",
       "24998  10194_3          0  This 30 minute documentary Buñuel made in the ...\n",
       "24999   8478_8          1  I saw this movie as a child and it broke my he...\n",
       "\n",
       "[25000 rows x 3 columns]"
      ]
     },
     "execution_count": 11,
     "metadata": {},
     "output_type": "execute_result"
    }
   ],
   "source": [
    "nltk_df = df.copy()\n",
    "nltk_df"
   ]
  },
  {
   "cell_type": "code",
   "execution_count": 12,
   "id": "3abc2278-6516-4090-9980-ff70782e8054",
   "metadata": {},
   "outputs": [
    {
     "data": {
      "text/plain": [
       "25000"
      ]
     },
     "execution_count": 12,
     "metadata": {},
     "output_type": "execute_result"
    }
   ],
   "source": [
    "nltk_reviews = nltk_df['review'].values\n",
    "len(nltk_reviews)"
   ]
  },
  {
   "cell_type": "markdown",
   "id": "9ac6eb4c-eb6f-47ff-934b-7efa80dac970",
   "metadata": {},
   "source": [
    "## Cleaning Function Goals:\n",
    "<ul>\n",
    "    <li>Convert all words to lowercase</li>\n",
    "    <li>Remove punctuation and special characters</li>\n",
    "    <li>Remove stop words</li>\n",
    "</ul>\n"
   ]
  },
  {
   "cell_type": "code",
   "execution_count": 13,
   "id": "cc94c586-fb81-492a-84b8-0cfd8a2ec545",
   "metadata": {},
   "outputs": [],
   "source": [
    "# Let's make a function to clean up the text\n",
    "def clean_text(text):\n",
    "    stop_words = stopwords.words('english')\n",
    "    # Remove punctuation and special characters\n",
    "    pattern = r'([A-Za-z]*)'\n",
    "    pattern = re.compile(pattern)\n",
    "    cleaned = pattern.findall(text)\n",
    "    # Convert to lower case\n",
    "    words = [word.lower() for word in cleaned if word]     \n",
    "    words = [word.lower() for word in words if word not in stop_words]\n",
    "    return words"
   ]
  },
  {
   "cell_type": "code",
   "execution_count": 14,
   "id": "c18fd485-551b-4715-95f0-afd005d9b53b",
   "metadata": {},
   "outputs": [
    {
     "data": {
      "text/plain": [
       "['stuff',\n",
       " 'going',\n",
       " 'moment',\n",
       " 'mj',\n",
       " 'started',\n",
       " 'listening',\n",
       " 'music',\n",
       " 'watching',\n",
       " 'odd',\n",
       " 'documentary',\n",
       " 'watched',\n",
       " 'wiz',\n",
       " 'watched',\n",
       " 'moonwalker',\n",
       " 'maybe',\n",
       " 'want',\n",
       " 'get',\n",
       " 'certain',\n",
       " 'insight',\n",
       " 'guy',\n",
       " 'thought',\n",
       " 'really',\n",
       " 'cool',\n",
       " 'eighties',\n",
       " 'maybe',\n",
       " 'make',\n",
       " 'mind',\n",
       " 'whether',\n",
       " 'guilty',\n",
       " 'innocent',\n",
       " 'moonwalker',\n",
       " 'part',\n",
       " 'biography',\n",
       " 'part',\n",
       " 'feature',\n",
       " 'film',\n",
       " 'remember',\n",
       " 'going',\n",
       " 'see',\n",
       " 'cinema',\n",
       " 'originally',\n",
       " 'released',\n",
       " 'subtle',\n",
       " 'messages',\n",
       " 'mj',\n",
       " 'feeling',\n",
       " 'towards',\n",
       " 'press',\n",
       " 'also',\n",
       " 'obvious',\n",
       " 'message',\n",
       " 'drugs',\n",
       " 'bad',\n",
       " 'kay',\n",
       " 'br',\n",
       " 'br',\n",
       " 'visually',\n",
       " 'impressive',\n",
       " 'course',\n",
       " 'michael',\n",
       " 'jackson',\n",
       " 'unless',\n",
       " 'remotely',\n",
       " 'like',\n",
       " 'mj',\n",
       " 'anyway',\n",
       " 'going',\n",
       " 'hate',\n",
       " 'find',\n",
       " 'boring',\n",
       " 'may',\n",
       " 'call',\n",
       " 'mj',\n",
       " 'egotist',\n",
       " 'consenting',\n",
       " 'making',\n",
       " 'movie',\n",
       " 'mj',\n",
       " 'fans',\n",
       " 'would',\n",
       " 'say',\n",
       " 'made',\n",
       " 'fans',\n",
       " 'true',\n",
       " 'really',\n",
       " 'nice',\n",
       " 'br',\n",
       " 'br',\n",
       " 'actual',\n",
       " 'feature',\n",
       " 'film',\n",
       " 'bit',\n",
       " 'finally',\n",
       " 'starts',\n",
       " 'minutes',\n",
       " 'excluding',\n",
       " 'smooth',\n",
       " 'criminal',\n",
       " 'sequence',\n",
       " 'joe',\n",
       " 'pesci',\n",
       " 'convincing',\n",
       " 'psychopathic',\n",
       " 'powerful',\n",
       " 'drug',\n",
       " 'lord',\n",
       " 'wants',\n",
       " 'mj',\n",
       " 'dead',\n",
       " 'bad',\n",
       " 'beyond',\n",
       " 'mj',\n",
       " 'overheard',\n",
       " 'plans',\n",
       " 'nah',\n",
       " 'joe',\n",
       " 'pesci',\n",
       " 'character',\n",
       " 'ranted',\n",
       " 'wanted',\n",
       " 'people',\n",
       " 'know',\n",
       " 'supplying',\n",
       " 'drugs',\n",
       " 'etc',\n",
       " 'dunno',\n",
       " 'maybe',\n",
       " 'hates',\n",
       " 'mj',\n",
       " 'music',\n",
       " 'br',\n",
       " 'br',\n",
       " 'lots',\n",
       " 'cool',\n",
       " 'things',\n",
       " 'like',\n",
       " 'mj',\n",
       " 'turning',\n",
       " 'car',\n",
       " 'robot',\n",
       " 'whole',\n",
       " 'speed',\n",
       " 'demon',\n",
       " 'sequence',\n",
       " 'also',\n",
       " 'director',\n",
       " 'must',\n",
       " 'patience',\n",
       " 'saint',\n",
       " 'came',\n",
       " 'filming',\n",
       " 'kiddy',\n",
       " 'bad',\n",
       " 'sequence',\n",
       " 'usually',\n",
       " 'directors',\n",
       " 'hate',\n",
       " 'working',\n",
       " 'one',\n",
       " 'kid',\n",
       " 'let',\n",
       " 'alone',\n",
       " 'whole',\n",
       " 'bunch',\n",
       " 'performing',\n",
       " 'complex',\n",
       " 'dance',\n",
       " 'scene',\n",
       " 'br',\n",
       " 'br',\n",
       " 'bottom',\n",
       " 'line',\n",
       " 'movie',\n",
       " 'people',\n",
       " 'like',\n",
       " 'mj',\n",
       " 'one',\n",
       " 'level',\n",
       " 'another',\n",
       " 'think',\n",
       " 'people',\n",
       " 'stay',\n",
       " 'away',\n",
       " 'try',\n",
       " 'give',\n",
       " 'wholesome',\n",
       " 'message',\n",
       " 'ironically',\n",
       " 'mj',\n",
       " 'bestest',\n",
       " 'buddy',\n",
       " 'movie',\n",
       " 'girl',\n",
       " 'michael',\n",
       " 'jackson',\n",
       " 'truly',\n",
       " 'one',\n",
       " 'talented',\n",
       " 'people',\n",
       " 'ever',\n",
       " 'grace',\n",
       " 'planet',\n",
       " 'guilty',\n",
       " 'well',\n",
       " 'attention',\n",
       " 'gave',\n",
       " 'subject',\n",
       " 'hmmm',\n",
       " 'well',\n",
       " 'know',\n",
       " 'people',\n",
       " 'different',\n",
       " 'behind',\n",
       " 'closed',\n",
       " 'doors',\n",
       " 'know',\n",
       " 'fact',\n",
       " 'either',\n",
       " 'extremely',\n",
       " 'nice',\n",
       " 'stupid',\n",
       " 'guy',\n",
       " 'one',\n",
       " 'sickest',\n",
       " 'liars',\n",
       " 'hope',\n",
       " 'latter']"
      ]
     },
     "execution_count": 14,
     "metadata": {},
     "output_type": "execute_result"
    }
   ],
   "source": [
    "# Test clean_text function\n",
    "x = nltk_df.loc[0,'review']\n",
    "test_clean = clean_text(nltk_reviews[0])\n",
    "test_clean"
   ]
  },
  {
   "cell_type": "code",
   "execution_count": 15,
   "id": "4afad498-e7f6-4b9c-a63c-e7915c87cc49",
   "metadata": {},
   "outputs": [
    {
     "data": {
      "text/html": [
       "<div>\n",
       "<style scoped>\n",
       "    .dataframe tbody tr th:only-of-type {\n",
       "        vertical-align: middle;\n",
       "    }\n",
       "\n",
       "    .dataframe tbody tr th {\n",
       "        vertical-align: top;\n",
       "    }\n",
       "\n",
       "    .dataframe thead th {\n",
       "        text-align: right;\n",
       "    }\n",
       "</style>\n",
       "<table border=\"1\" class=\"dataframe\">\n",
       "  <thead>\n",
       "    <tr style=\"text-align: right;\">\n",
       "      <th></th>\n",
       "      <th>id</th>\n",
       "      <th>sentiment</th>\n",
       "      <th>review</th>\n",
       "      <th>clean_review</th>\n",
       "    </tr>\n",
       "  </thead>\n",
       "  <tbody>\n",
       "    <tr>\n",
       "      <th>0</th>\n",
       "      <td>5814_8</td>\n",
       "      <td>1</td>\n",
       "      <td>With all this stuff going down at the moment w...</td>\n",
       "      <td>[stuff, going, moment, mj, started, listening,...</td>\n",
       "    </tr>\n",
       "    <tr>\n",
       "      <th>1</th>\n",
       "      <td>2381_9</td>\n",
       "      <td>1</td>\n",
       "      <td>\\The Classic War of the Worlds\\\" by Timothy Hi...</td>\n",
       "      <td>[classic, war, worlds, timothy, hines, enterta...</td>\n",
       "    </tr>\n",
       "    <tr>\n",
       "      <th>2</th>\n",
       "      <td>7759_3</td>\n",
       "      <td>0</td>\n",
       "      <td>The film starts with a manager (Nicholas Bell)...</td>\n",
       "      <td>[film, starts, manager, nicholas, bell, giving...</td>\n",
       "    </tr>\n",
       "    <tr>\n",
       "      <th>3</th>\n",
       "      <td>3630_4</td>\n",
       "      <td>0</td>\n",
       "      <td>It must be assumed that those who praised this...</td>\n",
       "      <td>[must, assumed, praised, film, greatest, filme...</td>\n",
       "    </tr>\n",
       "    <tr>\n",
       "      <th>4</th>\n",
       "      <td>9495_8</td>\n",
       "      <td>1</td>\n",
       "      <td>Superbly trashy and wondrously unpretentious 8...</td>\n",
       "      <td>[superbly, trashy, wondrously, unpretentious, ...</td>\n",
       "    </tr>\n",
       "    <tr>\n",
       "      <th>...</th>\n",
       "      <td>...</td>\n",
       "      <td>...</td>\n",
       "      <td>...</td>\n",
       "      <td>...</td>\n",
       "    </tr>\n",
       "    <tr>\n",
       "      <th>24995</th>\n",
       "      <td>3453_3</td>\n",
       "      <td>0</td>\n",
       "      <td>It seems like more consideration has gone into...</td>\n",
       "      <td>[seems, like, consideration, gone, imdb, revie...</td>\n",
       "    </tr>\n",
       "    <tr>\n",
       "      <th>24996</th>\n",
       "      <td>5064_1</td>\n",
       "      <td>0</td>\n",
       "      <td>I don't believe they made this film. Completel...</td>\n",
       "      <td>[believe, made, film, completely, unnecessary,...</td>\n",
       "    </tr>\n",
       "    <tr>\n",
       "      <th>24997</th>\n",
       "      <td>10905_3</td>\n",
       "      <td>0</td>\n",
       "      <td>Guy is a loser. Can't get girls, needs to buil...</td>\n",
       "      <td>[guy, loser, get, girls, needs, build, picked,...</td>\n",
       "    </tr>\n",
       "    <tr>\n",
       "      <th>24998</th>\n",
       "      <td>10194_3</td>\n",
       "      <td>0</td>\n",
       "      <td>This 30 minute documentary Buñuel made in the ...</td>\n",
       "      <td>[minute, documentary, bu, uel, made, early, on...</td>\n",
       "    </tr>\n",
       "    <tr>\n",
       "      <th>24999</th>\n",
       "      <td>8478_8</td>\n",
       "      <td>1</td>\n",
       "      <td>I saw this movie as a child and it broke my he...</td>\n",
       "      <td>[saw, movie, child, broke, heart, story, unfin...</td>\n",
       "    </tr>\n",
       "  </tbody>\n",
       "</table>\n",
       "<p>25000 rows × 4 columns</p>\n",
       "</div>"
      ],
      "text/plain": [
       "            id  sentiment                                             review  \\\n",
       "0       5814_8          1  With all this stuff going down at the moment w...   \n",
       "1       2381_9          1  \\The Classic War of the Worlds\\\" by Timothy Hi...   \n",
       "2       7759_3          0  The film starts with a manager (Nicholas Bell)...   \n",
       "3       3630_4          0  It must be assumed that those who praised this...   \n",
       "4       9495_8          1  Superbly trashy and wondrously unpretentious 8...   \n",
       "...        ...        ...                                                ...   \n",
       "24995   3453_3          0  It seems like more consideration has gone into...   \n",
       "24996   5064_1          0  I don't believe they made this film. Completel...   \n",
       "24997  10905_3          0  Guy is a loser. Can't get girls, needs to buil...   \n",
       "24998  10194_3          0  This 30 minute documentary Buñuel made in the ...   \n",
       "24999   8478_8          1  I saw this movie as a child and it broke my he...   \n",
       "\n",
       "                                            clean_review  \n",
       "0      [stuff, going, moment, mj, started, listening,...  \n",
       "1      [classic, war, worlds, timothy, hines, enterta...  \n",
       "2      [film, starts, manager, nicholas, bell, giving...  \n",
       "3      [must, assumed, praised, film, greatest, filme...  \n",
       "4      [superbly, trashy, wondrously, unpretentious, ...  \n",
       "...                                                  ...  \n",
       "24995  [seems, like, consideration, gone, imdb, revie...  \n",
       "24996  [believe, made, film, completely, unnecessary,...  \n",
       "24997  [guy, loser, get, girls, needs, build, picked,...  \n",
       "24998  [minute, documentary, bu, uel, made, early, on...  \n",
       "24999  [saw, movie, child, broke, heart, story, unfin...  \n",
       "\n",
       "[25000 rows x 4 columns]"
      ]
     },
     "execution_count": 15,
     "metadata": {},
     "output_type": "execute_result"
    }
   ],
   "source": [
    "nltk_df['clean_review'] = nltk_df['review'].apply(clean_text)\n",
    "nltk_df"
   ]
  },
  {
   "cell_type": "code",
   "execution_count": 16,
   "id": "098988e8-fa9e-49af-97d0-2a56990f659b",
   "metadata": {},
   "outputs": [],
   "source": [
    "# Create a stemmer\n",
    "porter = PorterStemmer()\n",
    "\n",
    "nltk_df['stemmed_review'] = nltk_df['clean_review'].apply(lambda word_list: [porter.stem(word) for word in word_list])\n",
    "nltk_df['stemmed_review'] = nltk_df['stemmed_review'].apply(lambda word: ' '.join(word))"
   ]
  },
  {
   "cell_type": "code",
   "execution_count": 17,
   "id": "dd259fa3-3f15-4d93-b7d3-4ee27f423926",
   "metadata": {},
   "outputs": [
    {
     "data": {
      "text/html": [
       "<div>\n",
       "<style scoped>\n",
       "    .dataframe tbody tr th:only-of-type {\n",
       "        vertical-align: middle;\n",
       "    }\n",
       "\n",
       "    .dataframe tbody tr th {\n",
       "        vertical-align: top;\n",
       "    }\n",
       "\n",
       "    .dataframe thead th {\n",
       "        text-align: right;\n",
       "    }\n",
       "</style>\n",
       "<table border=\"1\" class=\"dataframe\">\n",
       "  <thead>\n",
       "    <tr style=\"text-align: right;\">\n",
       "      <th></th>\n",
       "      <th>id</th>\n",
       "      <th>sentiment</th>\n",
       "      <th>review</th>\n",
       "      <th>clean_review</th>\n",
       "      <th>stemmed_review</th>\n",
       "    </tr>\n",
       "  </thead>\n",
       "  <tbody>\n",
       "    <tr>\n",
       "      <th>0</th>\n",
       "      <td>5814_8</td>\n",
       "      <td>1</td>\n",
       "      <td>With all this stuff going down at the moment w...</td>\n",
       "      <td>[stuff, going, moment, mj, started, listening,...</td>\n",
       "      <td>stuff go moment mj start listen music watch od...</td>\n",
       "    </tr>\n",
       "    <tr>\n",
       "      <th>1</th>\n",
       "      <td>2381_9</td>\n",
       "      <td>1</td>\n",
       "      <td>\\The Classic War of the Worlds\\\" by Timothy Hi...</td>\n",
       "      <td>[classic, war, worlds, timothy, hines, enterta...</td>\n",
       "      <td>classic war world timothi hine entertain film ...</td>\n",
       "    </tr>\n",
       "    <tr>\n",
       "      <th>2</th>\n",
       "      <td>7759_3</td>\n",
       "      <td>0</td>\n",
       "      <td>The film starts with a manager (Nicholas Bell)...</td>\n",
       "      <td>[film, starts, manager, nicholas, bell, giving...</td>\n",
       "      <td>film start manag nichola bell give welcom inve...</td>\n",
       "    </tr>\n",
       "    <tr>\n",
       "      <th>3</th>\n",
       "      <td>3630_4</td>\n",
       "      <td>0</td>\n",
       "      <td>It must be assumed that those who praised this...</td>\n",
       "      <td>[must, assumed, praised, film, greatest, filme...</td>\n",
       "      <td>must assum prais film greatest film opera ever...</td>\n",
       "    </tr>\n",
       "    <tr>\n",
       "      <th>4</th>\n",
       "      <td>9495_8</td>\n",
       "      <td>1</td>\n",
       "      <td>Superbly trashy and wondrously unpretentious 8...</td>\n",
       "      <td>[superbly, trashy, wondrously, unpretentious, ...</td>\n",
       "      <td>superbl trashi wondrous unpretenti exploit hoo...</td>\n",
       "    </tr>\n",
       "    <tr>\n",
       "      <th>...</th>\n",
       "      <td>...</td>\n",
       "      <td>...</td>\n",
       "      <td>...</td>\n",
       "      <td>...</td>\n",
       "      <td>...</td>\n",
       "    </tr>\n",
       "    <tr>\n",
       "      <th>24995</th>\n",
       "      <td>3453_3</td>\n",
       "      <td>0</td>\n",
       "      <td>It seems like more consideration has gone into...</td>\n",
       "      <td>[seems, like, consideration, gone, imdb, revie...</td>\n",
       "      <td>seem like consider gone imdb review film went ...</td>\n",
       "    </tr>\n",
       "    <tr>\n",
       "      <th>24996</th>\n",
       "      <td>5064_1</td>\n",
       "      <td>0</td>\n",
       "      <td>I don't believe they made this film. Completel...</td>\n",
       "      <td>[believe, made, film, completely, unnecessary,...</td>\n",
       "      <td>believ made film complet unnecessari first fil...</td>\n",
       "    </tr>\n",
       "    <tr>\n",
       "      <th>24997</th>\n",
       "      <td>10905_3</td>\n",
       "      <td>0</td>\n",
       "      <td>Guy is a loser. Can't get girls, needs to buil...</td>\n",
       "      <td>[guy, loser, get, girls, needs, build, picked,...</td>\n",
       "      <td>guy loser get girl need build pick stronger su...</td>\n",
       "    </tr>\n",
       "    <tr>\n",
       "      <th>24998</th>\n",
       "      <td>10194_3</td>\n",
       "      <td>0</td>\n",
       "      <td>This 30 minute documentary Buñuel made in the ...</td>\n",
       "      <td>[minute, documentary, bu, uel, made, early, on...</td>\n",
       "      <td>minut documentari bu uel made earli one spain ...</td>\n",
       "    </tr>\n",
       "    <tr>\n",
       "      <th>24999</th>\n",
       "      <td>8478_8</td>\n",
       "      <td>1</td>\n",
       "      <td>I saw this movie as a child and it broke my he...</td>\n",
       "      <td>[saw, movie, child, broke, heart, story, unfin...</td>\n",
       "      <td>saw movi child broke heart stori unfinish end ...</td>\n",
       "    </tr>\n",
       "  </tbody>\n",
       "</table>\n",
       "<p>25000 rows × 5 columns</p>\n",
       "</div>"
      ],
      "text/plain": [
       "            id  sentiment                                             review  \\\n",
       "0       5814_8          1  With all this stuff going down at the moment w...   \n",
       "1       2381_9          1  \\The Classic War of the Worlds\\\" by Timothy Hi...   \n",
       "2       7759_3          0  The film starts with a manager (Nicholas Bell)...   \n",
       "3       3630_4          0  It must be assumed that those who praised this...   \n",
       "4       9495_8          1  Superbly trashy and wondrously unpretentious 8...   \n",
       "...        ...        ...                                                ...   \n",
       "24995   3453_3          0  It seems like more consideration has gone into...   \n",
       "24996   5064_1          0  I don't believe they made this film. Completel...   \n",
       "24997  10905_3          0  Guy is a loser. Can't get girls, needs to buil...   \n",
       "24998  10194_3          0  This 30 minute documentary Buñuel made in the ...   \n",
       "24999   8478_8          1  I saw this movie as a child and it broke my he...   \n",
       "\n",
       "                                            clean_review  \\\n",
       "0      [stuff, going, moment, mj, started, listening,...   \n",
       "1      [classic, war, worlds, timothy, hines, enterta...   \n",
       "2      [film, starts, manager, nicholas, bell, giving...   \n",
       "3      [must, assumed, praised, film, greatest, filme...   \n",
       "4      [superbly, trashy, wondrously, unpretentious, ...   \n",
       "...                                                  ...   \n",
       "24995  [seems, like, consideration, gone, imdb, revie...   \n",
       "24996  [believe, made, film, completely, unnecessary,...   \n",
       "24997  [guy, loser, get, girls, needs, build, picked,...   \n",
       "24998  [minute, documentary, bu, uel, made, early, on...   \n",
       "24999  [saw, movie, child, broke, heart, story, unfin...   \n",
       "\n",
       "                                          stemmed_review  \n",
       "0      stuff go moment mj start listen music watch od...  \n",
       "1      classic war world timothi hine entertain film ...  \n",
       "2      film start manag nichola bell give welcom inve...  \n",
       "3      must assum prais film greatest film opera ever...  \n",
       "4      superbl trashi wondrous unpretenti exploit hoo...  \n",
       "...                                                  ...  \n",
       "24995  seem like consider gone imdb review film went ...  \n",
       "24996  believ made film complet unnecessari first fil...  \n",
       "24997  guy loser get girl need build pick stronger su...  \n",
       "24998  minut documentari bu uel made earli one spain ...  \n",
       "24999  saw movi child broke heart stori unfinish end ...  \n",
       "\n",
       "[25000 rows x 5 columns]"
      ]
     },
     "execution_count": 17,
     "metadata": {},
     "output_type": "execute_result"
    }
   ],
   "source": [
    "nltk_df"
   ]
  },
  {
   "cell_type": "markdown",
   "id": "8f09ba49-9cf7-4ba6-a8e8-6bdcf196b3c2",
   "metadata": {},
   "source": [
    "## Step 2: Split into training and test sets\n",
    "Split this into a training and test set."
   ]
  },
  {
   "cell_type": "code",
   "execution_count": 18,
   "id": "a57bc2e1-a263-4b20-b949-981f028e1b57",
   "metadata": {},
   "outputs": [],
   "source": [
    "X = nltk_df['stemmed_review']\n",
    "y = nltk_df['sentiment']\n",
    "\n",
    "#Split the data into 80% training and 20% test sets\n",
    "X_train, X_test, y_train, y_test = train_test_split(X, y, test_size=0.2, random_state=10)\n"
   ]
  },
  {
   "cell_type": "markdown",
   "id": "a03eec48-1c04-410e-b329-103a6a6d573a",
   "metadata": {},
   "source": [
    "## Step 3: Fit and Apply the tf-idf Vectorization to the Training Set"
   ]
  },
  {
   "cell_type": "code",
   "execution_count": 19,
   "id": "a27d29ff-733e-46f2-acf4-468f2b388bad",
   "metadata": {},
   "outputs": [
    {
     "name": "stdout",
     "output_type": "stream",
     "text": [
      "CPU times: user 1e+03 ns, sys: 1e+03 ns, total: 2 µs\n",
      "Wall time: 2.15 µs\n"
     ]
    }
   ],
   "source": [
    "%time\n",
    "# Create tfidf vectorizer\n",
    "tfidf_vectorizer = TfidfVectorizer()\n",
    "\n",
    "X_train_tfidf = tfidf_vectorizer.fit_transform(X_train)"
   ]
  },
  {
   "cell_type": "markdown",
   "id": "2d27031a-a2ed-4a60-aeaf-163d22f244c3",
   "metadata": {},
   "source": [
    "## Step 4: Transform the Test Set\n",
    "Apply but DO NOT FIT the tf-idf vectorization to the test set (Why?).\n",
    "\n",
    "We need to transform the test set using the tf-idf vectorizer, but we do not want to fit to the test set because it could cause data leakage. Data leakage could mean that since our vectorizer was fitted to the test data, it is not necessarily new, unseen data. This could lead to overly optimistic model performance. "
   ]
  },
  {
   "cell_type": "code",
   "execution_count": 20,
   "id": "842c238c-ab19-462b-b9e7-6d2098502803",
   "metadata": {},
   "outputs": [],
   "source": [
    "# Transform the test set using the same vectorizer, but do not fit\n",
    "X_test_tfidf = tfidf_vectorizer.transform(X_test)"
   ]
  },
  {
   "cell_type": "markdown",
   "id": "f6008258-8595-4c45-a804-ff0964c444da",
   "metadata": {},
   "source": [
    "## Step 5: Train a logistic regression using the training data."
   ]
  },
  {
   "cell_type": "code",
   "execution_count": 21,
   "id": "eadee3b5-6611-4afc-afab-9a7f961ed076",
   "metadata": {},
   "outputs": [
    {
     "name": "stdout",
     "output_type": "stream",
     "text": [
      "CPU times: user 1e+03 ns, sys: 0 ns, total: 1e+03 ns\n",
      "Wall time: 3.1 µs\n"
     ]
    }
   ],
   "source": [
    "%time\n",
    "# Create a Logistic Regression object\n",
    "logistic_regression = LogisticRegression(random_state=10)"
   ]
  },
  {
   "cell_type": "code",
   "execution_count": 22,
   "id": "82159bd4-e237-4d5c-9497-c04c92e2d367",
   "metadata": {},
   "outputs": [
    {
     "name": "stdout",
     "output_type": "stream",
     "text": [
      "CPU times: user 1e+03 ns, sys: 0 ns, total: 1e+03 ns\n",
      "Wall time: 1.91 µs\n"
     ]
    }
   ],
   "source": [
    "%time\n",
    "# Train the logistic regression model\n",
    "log_reg_model = logistic_regression.fit(X_train_tfidf, y_train)"
   ]
  },
  {
   "cell_type": "markdown",
   "id": "b7ec12e9-a8d5-4659-a78f-483714b86ddd",
   "metadata": {},
   "source": [
    "## Step 6: Find the model accuracy on test set."
   ]
  },
  {
   "cell_type": "code",
   "execution_count": 23,
   "id": "6e120d10-bd9f-40d3-a194-03e61bfe5b7f",
   "metadata": {},
   "outputs": [
    {
     "name": "stdout",
     "output_type": "stream",
     "text": [
      "CPU times: user 1e+03 ns, sys: 1e+03 ns, total: 2 µs\n",
      "Wall time: 1.91 µs\n"
     ]
    }
   ],
   "source": [
    "%time\n",
    "# Make predictions on the test set to find the accuracy\n",
    "lr_predictions = log_reg_model.predict(X_test_tfidf)"
   ]
  },
  {
   "cell_type": "code",
   "execution_count": 24,
   "id": "2f878e7e-5870-4454-b387-65c8af3f0ad4",
   "metadata": {},
   "outputs": [
    {
     "name": "stdout",
     "output_type": "stream",
     "text": [
      "Accuracy score: 89.38%\n"
     ]
    }
   ],
   "source": [
    "# Calculate accuracy score on test set\n",
    "acc_score = accuracy_score(y_test, lr_predictions)\n",
    "print(f\"Accuracy score: {acc_score:.2%}\")"
   ]
  },
  {
   "cell_type": "markdown",
   "id": "e175a945-1b5f-48b4-b3fa-eb3685a4d14e",
   "metadata": {},
   "source": [
    "## Step 7: Create a confusion matrix\n"
   ]
  },
  {
   "cell_type": "code",
   "execution_count": 25,
   "id": "5d381be5-711b-49a2-afdf-25912caa0070",
   "metadata": {},
   "outputs": [],
   "source": [
    "labels = \"Negative\", \"Positive\"\n",
    "conf_matrix = confusion_matrix(y_test, lr_predictions)\n",
    "conf_matrix_df = pd.DataFrame(conf_matrix, index=labels, columns=labels)"
   ]
  },
  {
   "cell_type": "code",
   "execution_count": 26,
   "id": "eb2ce7bc-8e79-4a81-92cf-a01082353bbe",
   "metadata": {},
   "outputs": [
    {
     "data": {
      "image/png": "[encoded data removed]",
      "text/plain": [
       "<Figure size 640x480 with 1 Axes>"
      ]
     },
     "metadata": {},
     "output_type": "display_data"
    }
   ],
   "source": [
    "sns.heatmap(conf_matrix_df, fmt='d', annot=True, cbar=None, cmap='Reds')\n",
    "plt.xlabel('Predicted Labels')\n",
    "plt.ylabel('Actual Labels')\n",
    "plt.title('Confusion Matrix')\n",
    "plt.text(.15,.15, 'True Negative', va='center', color='white')\n",
    "plt.text(1.5,1.85, 'True Positive', va='center', color='white')\n",
    "plt.text(.15, 1.85, 'False Negative', va='center', color='black')\n",
    "plt.text(1.5,.15, 'False Positive', va='center', color='black')\n",
    "plt.show()"
   ]
  },
  {
   "cell_type": "markdown",
   "id": "4fbb3e79-d50b-47dc-974a-597c9d2ff90e",
   "metadata": {},
   "source": [
    "## Step 8: Get the precision, recall, and F1-score for the test set predictions"
   ]
  },
  {
   "cell_type": "code",
   "execution_count": 27,
   "id": "61c67b59-6b76-44bf-a38e-857e55129c84",
   "metadata": {},
   "outputs": [
    {
     "name": "stdout",
     "output_type": "stream",
     "text": [
      "              precision    recall  f1-score   support\n",
      "\n",
      "           0       0.91      0.88      0.89      2488\n",
      "           1       0.88      0.91      0.90      2512\n",
      "\n",
      "    accuracy                           0.89      5000\n",
      "   macro avg       0.89      0.89      0.89      5000\n",
      "weighted avg       0.89      0.89      0.89      5000\n",
      "\n"
     ]
    }
   ],
   "source": [
    "# Get the Precision, Recall, and F1-Score for the Test Set Predictions\n",
    "class_report = classification_report(y_test, lr_predictions)\n",
    "print(class_report)"
   ]
  },
  {
   "cell_type": "markdown",
   "id": "1b3d7ccc-e74a-4c19-bca3-8b9a659a6e96",
   "metadata": {},
   "source": [
    "## Step 9: Create a ROC curve for the test set."
   ]
  },
  {
   "cell_type": "code",
   "execution_count": 28,
   "id": "c04ebc13-c8c3-427c-964d-d26cd8496f55",
   "metadata": {},
   "outputs": [],
   "source": [
    "# Get the predicted probabilities \n",
    "target_probabilities = log_reg_model.predict_proba(X_test_tfidf)[:,1]\n",
    "\n",
    "# Get the ROC Curve\n",
    "false_positive_rate, true_positive_rate, threshold = roc_curve(y_test, target_probabilities)\n",
    "\n",
    "# Get the area under the curve\n",
    "roc_auc = roc_auc_score(y_test, target_probabilities)"
   ]
  },
  {
   "cell_type": "code",
   "execution_count": 43,
   "id": "fd52637a-d997-4420-a81e-65e98afb1f67",
   "metadata": {},
   "outputs": [
    {
     "name": "stdout",
     "output_type": "stream",
     "text": [
      "AUC: 0.9575172611976979\n"
     ]
    }
   ],
   "source": [
    "print(f'AUC: {roc_auc}')"
   ]
  },
  {
   "cell_type": "code",
   "execution_count": 29,
   "id": "a6aea914-5571-4e66-af82-32c35ce53452",
   "metadata": {},
   "outputs": [
    {
     "data": {
      "text/plain": [
       "<matplotlib.legend.Legend at 0x2bccfb940>"
      ]
     },
     "execution_count": 29,
     "metadata": {},
     "output_type": "execute_result"
    },
    {
     "data": {
      "image/png": "[encoded data removed]",
      "text/plain": [
       "<Figure size 640x480 with 1 Axes>"
      ]
     },
     "metadata": {},
     "output_type": "display_data"
    }
   ],
   "source": [
    "plt.title(\"Receiver Operating Characteristic\")\n",
    "plt.plot(false_positive_rate, true_positive_rate, lw=2, label=f'AUC: {roc_auc:.2f}')\n",
    "# Create a random guessing model performance line\n",
    "plt.plot([0,1], ls=\"--\")\n",
    "# Create a perfect model performance line\n",
    "plt.plot([0,0], [1,0] , c=\".7\"), plt.plot([1,1], c=\".7\")\n",
    "# Create labels for the graph\n",
    "plt.ylabel(\"True Positive Rate\")\n",
    "plt.xlabel(\"False Positive Rate\")\n",
    "# Show the AUC ROC score\n",
    "plt.legend()"
   ]
  },
  {
   "cell_type": "markdown",
   "id": "203748e3-a580-4aef-ad15-4a800b994046",
   "metadata": {},
   "source": [
    "## ROC Curve Analysis\n",
    "\n",
    "The gray line indicates a model that perfectly predicts every observation. The orange dotted line indicates the performance of random guessing. The closer to the solid gray line, the better our model's performance. The Area Under Curve score is another indicator of a model's performance. The closer this value is to one, the better the model's perforamnce. As we can see our model performs exceptionally well. Receiving an Area Under Curve ROC score of .96, this model has good discrimination. "
   ]
  },
  {
   "cell_type": "markdown",
   "id": "e6b07a01-3a27-45cb-b311-87f85646e51a",
   "metadata": {},
   "source": [
    "## Choose Another Model\n",
    "\n",
    "Choose another model and repeat steps 5-9.\n",
    "\n",
    "For my second model, I will be using a linear Support Vector Classifier"
   ]
  },
  {
   "cell_type": "markdown",
   "id": "fea0fe8a-71e2-4fc5-96b7-f7ff80343484",
   "metadata": {},
   "source": [
    "## Step 5b: Train a Linear SVC using the Training Data"
   ]
  },
  {
   "cell_type": "code",
   "execution_count": 30,
   "id": "78f047d5-08a7-4a20-8dee-06a80e5eb98f",
   "metadata": {},
   "outputs": [
    {
     "name": "stdout",
     "output_type": "stream",
     "text": [
      "CPU times: user 1e+03 ns, sys: 0 ns, total: 1e+03 ns\n",
      "Wall time: 2.15 µs\n"
     ]
    }
   ],
   "source": [
    "%time\n",
    "# Create a support vector classifier object\n",
    "svc = LinearSVC(random_state=10)"
   ]
  },
  {
   "cell_type": "code",
   "execution_count": 31,
   "id": "0897862f-066f-4a5b-a3ef-f3dd3cdf29a4",
   "metadata": {},
   "outputs": [
    {
     "name": "stdout",
     "output_type": "stream",
     "text": [
      "CPU times: user 1e+03 ns, sys: 1e+03 ns, total: 2 µs\n",
      "Wall time: 1.91 µs\n"
     ]
    },
    {
     "name": "stderr",
     "output_type": "stream",
     "text": [
      "/opt/homebrew/Caskroom/miniforge/base/lib/python3.10/site-packages/sklearn/svm/_classes.py:32: FutureWarning: The default value of `dual` will change from `True` to `'auto'` in 1.5. Set the value of `dual` explicitly to suppress the warning.\n",
      "  warnings.warn(\n"
     ]
    }
   ],
   "source": [
    "%time\n",
    "# Train the linear SVC model\n",
    "linear_svc_model = svc.fit(X_train_tfidf, y_train)"
   ]
  },
  {
   "cell_type": "markdown",
   "id": "d2b77e40-a5d9-47da-bde1-0481de40fbc8",
   "metadata": {},
   "source": [
    "## Step 6b: Find the model accuracy on test set."
   ]
  },
  {
   "cell_type": "code",
   "execution_count": 32,
   "id": "47f2a46d-9da8-417e-b794-9909869ae48a",
   "metadata": {},
   "outputs": [
    {
     "name": "stdout",
     "output_type": "stream",
     "text": [
      "CPU times: user 1e+03 ns, sys: 0 ns, total: 1e+03 ns\n",
      "Wall time: 2.86 µs\n"
     ]
    }
   ],
   "source": [
    "%time\n",
    "# Make predictions on the test set to find the accuracy\n",
    "svc_predictions = linear_svc_model.predict(X_test_tfidf)"
   ]
  },
  {
   "cell_type": "code",
   "execution_count": 33,
   "id": "5d4fd371-a3b2-48cb-a06c-d9f143686690",
   "metadata": {},
   "outputs": [
    {
     "name": "stdout",
     "output_type": "stream",
     "text": [
      "Accuracy score: 89.24%\n"
     ]
    }
   ],
   "source": [
    "# Calculate accuracy score on test set\n",
    "svc_acc_score = accuracy_score(y_test, svc_predictions)\n",
    "print(f\"Accuracy score: {svc_acc_score:.2%}\")"
   ]
  },
  {
   "cell_type": "markdown",
   "id": "da92b1bd-b7ff-447c-a1f9-f46466c2657f",
   "metadata": {},
   "source": [
    "## Step 7: Create a confusion matrix\n"
   ]
  },
  {
   "cell_type": "code",
   "execution_count": 34,
   "id": "c3858f1b-a04f-45fb-8df7-aa77c967c0bb",
   "metadata": {},
   "outputs": [],
   "source": [
    "labels = \"Negative\", \"Positive\"\n",
    "svc_conf_matrix = confusion_matrix(y_test, svc_predictions)\n",
    "svc_conf_matrix_df = pd.DataFrame(svc_conf_matrix, index=labels, columns=labels)"
   ]
  },
  {
   "cell_type": "code",
   "execution_count": 35,
   "id": "76dc8d24-3554-458a-8e9b-c1201f066809",
   "metadata": {},
   "outputs": [
    {
     "data": {
      "image/png": "[encoded data removed]",
      "text/plain": [
       "<Figure size 640x480 with 1 Axes>"
      ]
     },
     "metadata": {},
     "output_type": "display_data"
    }
   ],
   "source": [
    "sns.heatmap(svc_conf_matrix_df, fmt='d', annot=True, cbar=None, cmap='Reds')\n",
    "plt.xlabel('Predicted Labels')\n",
    "plt.ylabel('Actual Labels')\n",
    "plt.title('Confusion Matrix')\n",
    "plt.text(.15,.15, 'True Negative', va='center', color='white')\n",
    "plt.text(1.5,1.85, 'True Positive', va='center', color='white')\n",
    "plt.text(.15, 1.85, 'False Negative', va='center', color='black')\n",
    "plt.text(1.5,.15, 'False Positive', va='center', color='black')\n",
    "plt.show()"
   ]
  },
  {
   "cell_type": "markdown",
   "id": "2b0944c2-249c-46b7-9b3d-673196dfad0c",
   "metadata": {},
   "source": [
    "## Step 8b: Get the precision, recall, and F1-score for the test set predictions"
   ]
  },
  {
   "cell_type": "code",
   "execution_count": 36,
   "id": "6265cb15-50a1-447f-9998-d536c743ff38",
   "metadata": {},
   "outputs": [
    {
     "name": "stdout",
     "output_type": "stream",
     "text": [
      "              precision    recall  f1-score   support\n",
      "\n",
      "           0       0.90      0.88      0.89      2488\n",
      "           1       0.88      0.91      0.89      2512\n",
      "\n",
      "    accuracy                           0.89      5000\n",
      "   macro avg       0.89      0.89      0.89      5000\n",
      "weighted avg       0.89      0.89      0.89      5000\n",
      "\n"
     ]
    }
   ],
   "source": [
    "# Get the Precision, Recall, and F1-Score for the Test Set Predictions\n",
    "svc_class_report = classification_report(y_test, svc_predictions)\n",
    "print(svc_class_report)"
   ]
  },
  {
   "cell_type": "markdown",
   "id": "41adfa05-9612-40be-8f9b-a413ed58b437",
   "metadata": {},
   "source": [
    "## Step 9b: Create a ROC curve for the test set."
   ]
  },
  {
   "cell_type": "code",
   "execution_count": 41,
   "id": "ec6ee1dd-db21-40bc-ae26-344482255b8a",
   "metadata": {},
   "outputs": [],
   "source": [
    "decision_scores = linear_svc_model.decision_function(X_test_tfidf)\n",
    "fpr, tpr, thres = roc_curve(y_test, decision_scores)\n",
    "svc_roc_auc = roc_auc_score(y_test, decision_scores)"
   ]
  },
  {
   "cell_type": "code",
   "execution_count": 42,
   "id": "d1d75f1f-7bed-4ce7-b07b-b0200b1110bb",
   "metadata": {},
   "outputs": [
    {
     "name": "stdout",
     "output_type": "stream",
     "text": [
      "AUC: 0.9570527704958323\n"
     ]
    }
   ],
   "source": [
    "print(f'AUC: {svc_roc_auc}')"
   ]
  },
  {
   "cell_type": "code",
   "execution_count": 40,
   "id": "b6dbff68-1048-46e0-80f9-5e7000d0466b",
   "metadata": {},
   "outputs": [
    {
     "data": {
      "text/plain": [
       "<matplotlib.legend.Legend at 0x2bccff850>"
      ]
     },
     "execution_count": 40,
     "metadata": {},
     "output_type": "execute_result"
    },
    {
     "data": {
      "image/png": "[encoded data removed]",
      "text/plain": [
       "<Figure size 640x480 with 1 Axes>"
      ]
     },
     "metadata": {},
     "output_type": "display_data"
    }
   ],
   "source": [
    "plt.title(\"SVC Receiver Operating Characteristic\")\n",
    "plt.plot(false_positive_rate, true_positive_rate, lw=2, label=f'AUC: {svc_roc_auc:.2f}')\n",
    "# Create a random guessing model performance line\n",
    "plt.plot([0,1], ls=\"--\")\n",
    "# Create a perfect model performance line\n",
    "plt.plot([0,0], [1,0] , c=\".7\"), plt.plot([1,1], c=\".7\")\n",
    "# Create labels for the graph\n",
    "plt.ylabel(\"True Positive Rate\")\n",
    "plt.xlabel(\"False Positive Rate\")\n",
    "# Show the AUC ROC score\n",
    "plt.legend()"
   ]
  },
  {
   "cell_type": "markdown",
   "id": "1d768793-b211-4a27-a348-be66fe3925c3",
   "metadata": {},
   "source": [
    "## ROC Curve Analysis\n",
    "\n",
    "The Linear Support Vector Classifer is also good at discriminating the class membership of predicted values, with an AUC of .96. Similar to the previous graph, the gray line indicates a perfect prediction for every observation, and the dotted orange line indicates random guessing. "
   ]
  },
  {
   "cell_type": "markdown",
   "id": "b0be1bd3-df6c-43b0-a5fc-a9cde193649d",
   "metadata": {},
   "source": [
    "## Conclusion\n",
    "\n",
    "Both the Logistic Regression model and Linear Support Vector Classifier performed well. Their resulting accuracy scores were very similar. The Logistic Regression model achieved an accuracy score of 89.38%, whereas the Linear SVC achieved an accuracy score of 89.24% Both the Logistic Regression and Linear SVC models achieved a score of 89% for recall, precision, and F1 Score. \n",
    "\n",
    "Additionally, the AUC of both models rounds to .96, indicating that both models have good performance in regards to predicting the appropriate class for an observation. \n",
    "\n",
    "I initially was confused when trying to use the Linear SVC with predict_proba function. While the use of this function is possible when using a SVC(kernel='linear', probability=True) model. From what I found, it is not recommended to do this. For one, the SVC model is much slower than a LinearSVC model.\n",
    "<br>Additionally, from \n",
    "[this article](https://stackoverflow.com/questions/59227176/how-to-plot-roc-and-calculate-auc-for-binary-classifier-with-no-probabilities-s?noredirect=1#comment104668366_59227176) \n",
    "it indicates that there are possible theoretical issues with Platts scaling, so it is better to use decision_function rather than predict_proba. \n"
   ]
  },
  {
   "cell_type": "code",
   "execution_count": null,
   "id": "54c4a97c-0e50-4b21-a258-43fb979f008e",
   "metadata": {},
   "outputs": [],
   "source": []
  }
 ],
 "metadata": {
  "kernelspec": {
   "display_name": "Python 3 (ipykernel)",
   "language": "python",
   "name": "python3"
  },
  "language_info": {
   "codemirror_mode": {
    "name": "ipython",
    "version": 3
   },
   "file_extension": ".py",
   "mimetype": "text/x-python",
   "name": "python",
   "nbconvert_exporter": "python",
   "pygments_lexer": "ipython3",
   "version": "3.10.12"
  }
 },
 "nbformat": 4,
 "nbformat_minor": 5
}
