{
 "cells": [
  {
   "cell_type": "markdown",
   "id": "3b6d0feb",
   "metadata": {},
   "source": [
    "## DSC550-T302\n",
    "\n",
    "## Lincoln Brown\n",
    "\n",
    "## Wk3 Assignment\n",
    "\n",
    "## Professor Werner"
   ]
  },
  {
   "cell_type": "code",
   "execution_count": 2,
   "id": "2c3c7a60",
   "metadata": {},
   "outputs": [],
   "source": [
    "# Import libraries\n",
    "import pandas as pd\n",
    "import numpy as np\n",
    "from textblob import TextBlob\n",
    "from textblob.classifiers import NaiveBayesClassifier\n",
    "from vaderSentiment.vaderSentiment import SentimentIntensityAnalyzer"
   ]
  },
  {
   "cell_type": "markdown",
   "id": "68c61236-9f50-4970-a1e8-798352a9c2ae",
   "metadata": {},
   "source": [
    "## Part 1: Using the TextBlob Sentiment Analyzer"
   ]
  },
  {
   "cell_type": "markdown",
   "id": "dd9d94dd",
   "metadata": {},
   "source": [
    "## Step 1: Import the Data"
   ]
  },
  {
   "cell_type": "code",
   "execution_count": 3,
   "id": "1b465443",
   "metadata": {},
   "outputs": [
    {
     "name": "stdout",
     "output_type": "stream",
     "text": [
      "There are 25000 rows and 3 columns\n"
     ]
    }
   ],
   "source": [
    "# Import the data\n",
    "f_name = \"labeledTrainData.tsv\"\n",
    "\n",
    "df = pd.read_csv(f_name, delimiter='\\t')\n",
    "\n",
    "print(f\"There are {df.shape[0]} rows and {df.shape[1]} columns\")"
   ]
  },
  {
   "cell_type": "markdown",
   "id": "63dc0e3d",
   "metadata": {},
   "source": [
    "## Step 1 (Cont): Make sure it is loaded properly"
   ]
  },
  {
   "cell_type": "code",
   "execution_count": 4,
   "id": "048ad1d8",
   "metadata": {},
   "outputs": [
    {
     "data": {
      "text/html": [
       "<div>\n",
       "<style scoped>\n",
       "    .dataframe tbody tr th:only-of-type {\n",
       "        vertical-align: middle;\n",
       "    }\n",
       "\n",
       "    .dataframe tbody tr th {\n",
       "        vertical-align: top;\n",
       "    }\n",
       "\n",
       "    .dataframe thead th {\n",
       "        text-align: right;\n",
       "    }\n",
       "</style>\n",
       "<table border=\"1\" class=\"dataframe\">\n",
       "  <thead>\n",
       "    <tr style=\"text-align: right;\">\n",
       "      <th></th>\n",
       "      <th>id</th>\n",
       "      <th>sentiment</th>\n",
       "      <th>review</th>\n",
       "    </tr>\n",
       "  </thead>\n",
       "  <tbody>\n",
       "    <tr>\n",
       "      <th>0</th>\n",
       "      <td>5814_8</td>\n",
       "      <td>1</td>\n",
       "      <td>With all this stuff going down at the moment w...</td>\n",
       "    </tr>\n",
       "    <tr>\n",
       "      <th>1</th>\n",
       "      <td>2381_9</td>\n",
       "      <td>1</td>\n",
       "      <td>\\The Classic War of the Worlds\\\" by Timothy Hi...</td>\n",
       "    </tr>\n",
       "    <tr>\n",
       "      <th>2</th>\n",
       "      <td>7759_3</td>\n",
       "      <td>0</td>\n",
       "      <td>The film starts with a manager (Nicholas Bell)...</td>\n",
       "    </tr>\n",
       "    <tr>\n",
       "      <th>3</th>\n",
       "      <td>3630_4</td>\n",
       "      <td>0</td>\n",
       "      <td>It must be assumed that those who praised this...</td>\n",
       "    </tr>\n",
       "    <tr>\n",
       "      <th>4</th>\n",
       "      <td>9495_8</td>\n",
       "      <td>1</td>\n",
       "      <td>Superbly trashy and wondrously unpretentious 8...</td>\n",
       "    </tr>\n",
       "  </tbody>\n",
       "</table>\n",
       "</div>"
      ],
      "text/plain": [
       "       id  sentiment                                             review\n",
       "0  5814_8          1  With all this stuff going down at the moment w...\n",
       "1  2381_9          1  \\The Classic War of the Worlds\\\" by Timothy Hi...\n",
       "2  7759_3          0  The film starts with a manager (Nicholas Bell)...\n",
       "3  3630_4          0  It must be assumed that those who praised this...\n",
       "4  9495_8          1  Superbly trashy and wondrously unpretentious 8..."
      ]
     },
     "execution_count": 4,
     "metadata": {},
     "output_type": "execute_result"
    }
   ],
   "source": [
    "df.head()"
   ]
  },
  {
   "cell_type": "markdown",
   "id": "cd0fa2dc",
   "metadata": {},
   "source": [
    "## Step 2: How many of each positive and negative reviews are there?"
   ]
  },
  {
   "cell_type": "code",
   "execution_count": 5,
   "id": "90460ecc",
   "metadata": {},
   "outputs": [
    {
     "data": {
      "text/html": [
       "<div>\n",
       "<style scoped>\n",
       "    .dataframe tbody tr th:only-of-type {\n",
       "        vertical-align: middle;\n",
       "    }\n",
       "\n",
       "    .dataframe tbody tr th {\n",
       "        vertical-align: top;\n",
       "    }\n",
       "\n",
       "    .dataframe thead th {\n",
       "        text-align: right;\n",
       "    }\n",
       "</style>\n",
       "<table border=\"1\" class=\"dataframe\">\n",
       "  <thead>\n",
       "    <tr style=\"text-align: right;\">\n",
       "      <th></th>\n",
       "      <th>id</th>\n",
       "      <th>review</th>\n",
       "    </tr>\n",
       "    <tr>\n",
       "      <th>sentiment</th>\n",
       "      <th></th>\n",
       "      <th></th>\n",
       "    </tr>\n",
       "  </thead>\n",
       "  <tbody>\n",
       "    <tr>\n",
       "      <th>0</th>\n",
       "      <td>12500</td>\n",
       "      <td>12500</td>\n",
       "    </tr>\n",
       "    <tr>\n",
       "      <th>1</th>\n",
       "      <td>12500</td>\n",
       "      <td>12500</td>\n",
       "    </tr>\n",
       "  </tbody>\n",
       "</table>\n",
       "</div>"
      ],
      "text/plain": [
       "              id  review\n",
       "sentiment               \n",
       "0          12500   12500\n",
       "1          12500   12500"
      ]
     },
     "execution_count": 5,
     "metadata": {},
     "output_type": "execute_result"
    }
   ],
   "source": [
    "sentiments = df.groupby('sentiment').count()\n",
    "sentiments"
   ]
  },
  {
   "cell_type": "markdown",
   "id": "2e53c5f8",
   "metadata": {},
   "source": [
    "There are 12,500 negative and 12,500 positive reviews"
   ]
  },
  {
   "cell_type": "markdown",
   "id": "3cd61bb4",
   "metadata": {},
   "source": [
    "## Step 3: Use TextBlob to Classify\n",
    "Use TextBlob to classify each movie review as positive or negative. Assume that a polarity score greater than or equal to zero is a positive sentiment and less than 0 is a negative sentiment"
   ]
  },
  {
   "cell_type": "code",
   "execution_count": 6,
   "id": "28347abe",
   "metadata": {},
   "outputs": [],
   "source": [
    "df_sentiments = df.copy()\n",
    "df_sentiments['textblob'] = df_sentiments['review'].apply(lambda x: TextBlob(x).sentiment)\n"
   ]
  },
  {
   "cell_type": "code",
   "execution_count": 7,
   "id": "19a3dc79",
   "metadata": {},
   "outputs": [
    {
     "data": {
      "text/html": [
       "<div>\n",
       "<style scoped>\n",
       "    .dataframe tbody tr th:only-of-type {\n",
       "        vertical-align: middle;\n",
       "    }\n",
       "\n",
       "    .dataframe tbody tr th {\n",
       "        vertical-align: top;\n",
       "    }\n",
       "\n",
       "    .dataframe thead th {\n",
       "        text-align: right;\n",
       "    }\n",
       "</style>\n",
       "<table border=\"1\" class=\"dataframe\">\n",
       "  <thead>\n",
       "    <tr style=\"text-align: right;\">\n",
       "      <th></th>\n",
       "      <th>id</th>\n",
       "      <th>sentiment</th>\n",
       "      <th>review</th>\n",
       "      <th>textblob</th>\n",
       "    </tr>\n",
       "  </thead>\n",
       "  <tbody>\n",
       "    <tr>\n",
       "      <th>0</th>\n",
       "      <td>5814_8</td>\n",
       "      <td>1</td>\n",
       "      <td>With all this stuff going down at the moment w...</td>\n",
       "      <td>(0.001276742581090417, 0.6067460317460317)</td>\n",
       "    </tr>\n",
       "    <tr>\n",
       "      <th>1</th>\n",
       "      <td>2381_9</td>\n",
       "      <td>1</td>\n",
       "      <td>\\The Classic War of the Worlds\\\" by Timothy Hi...</td>\n",
       "      <td>(0.2563492063492064, 0.5311111111111111)</td>\n",
       "    </tr>\n",
       "    <tr>\n",
       "      <th>2</th>\n",
       "      <td>7759_3</td>\n",
       "      <td>0</td>\n",
       "      <td>The film starts with a manager (Nicholas Bell)...</td>\n",
       "      <td>(-0.05394123606889564, 0.5629331306990881)</td>\n",
       "    </tr>\n",
       "    <tr>\n",
       "      <th>3</th>\n",
       "      <td>3630_4</td>\n",
       "      <td>0</td>\n",
       "      <td>It must be assumed that those who praised this...</td>\n",
       "      <td>(0.1347530864197531, 0.4929012345679012)</td>\n",
       "    </tr>\n",
       "    <tr>\n",
       "      <th>4</th>\n",
       "      <td>9495_8</td>\n",
       "      <td>1</td>\n",
       "      <td>Superbly trashy and wondrously unpretentious 8...</td>\n",
       "      <td>(-0.024841720779220786, 0.45981782106782115)</td>\n",
       "    </tr>\n",
       "    <tr>\n",
       "      <th>...</th>\n",
       "      <td>...</td>\n",
       "      <td>...</td>\n",
       "      <td>...</td>\n",
       "      <td>...</td>\n",
       "    </tr>\n",
       "    <tr>\n",
       "      <th>24995</th>\n",
       "      <td>3453_3</td>\n",
       "      <td>0</td>\n",
       "      <td>It seems like more consideration has gone into...</td>\n",
       "      <td>(0.10208333333333333, 0.5428571428571428)</td>\n",
       "    </tr>\n",
       "    <tr>\n",
       "      <th>24996</th>\n",
       "      <td>5064_1</td>\n",
       "      <td>0</td>\n",
       "      <td>I don't believe they made this film. Completel...</td>\n",
       "      <td>(0.09081262939958591, 0.4623706004140787)</td>\n",
       "    </tr>\n",
       "    <tr>\n",
       "      <th>24997</th>\n",
       "      <td>10905_3</td>\n",
       "      <td>0</td>\n",
       "      <td>Guy is a loser. Can't get girls, needs to buil...</td>\n",
       "      <td>(0.14525641025641026, 0.48410256410256414)</td>\n",
       "    </tr>\n",
       "    <tr>\n",
       "      <th>24998</th>\n",
       "      <td>10194_3</td>\n",
       "      <td>0</td>\n",
       "      <td>This 30 minute documentary Buñuel made in the ...</td>\n",
       "      <td>(0.065625, 0.5045138888888889)</td>\n",
       "    </tr>\n",
       "    <tr>\n",
       "      <th>24999</th>\n",
       "      <td>8478_8</td>\n",
       "      <td>1</td>\n",
       "      <td>I saw this movie as a child and it broke my he...</td>\n",
       "      <td>(0.2392948717948718, 0.7358974358974358)</td>\n",
       "    </tr>\n",
       "  </tbody>\n",
       "</table>\n",
       "<p>25000 rows × 4 columns</p>\n",
       "</div>"
      ],
      "text/plain": [
       "            id  sentiment                                             review  \\\n",
       "0       5814_8          1  With all this stuff going down at the moment w...   \n",
       "1       2381_9          1  \\The Classic War of the Worlds\\\" by Timothy Hi...   \n",
       "2       7759_3          0  The film starts with a manager (Nicholas Bell)...   \n",
       "3       3630_4          0  It must be assumed that those who praised this...   \n",
       "4       9495_8          1  Superbly trashy and wondrously unpretentious 8...   \n",
       "...        ...        ...                                                ...   \n",
       "24995   3453_3          0  It seems like more consideration has gone into...   \n",
       "24996   5064_1          0  I don't believe they made this film. Completel...   \n",
       "24997  10905_3          0  Guy is a loser. Can't get girls, needs to buil...   \n",
       "24998  10194_3          0  This 30 minute documentary Buñuel made in the ...   \n",
       "24999   8478_8          1  I saw this movie as a child and it broke my he...   \n",
       "\n",
       "                                           textblob  \n",
       "0        (0.001276742581090417, 0.6067460317460317)  \n",
       "1          (0.2563492063492064, 0.5311111111111111)  \n",
       "2        (-0.05394123606889564, 0.5629331306990881)  \n",
       "3          (0.1347530864197531, 0.4929012345679012)  \n",
       "4      (-0.024841720779220786, 0.45981782106782115)  \n",
       "...                                             ...  \n",
       "24995     (0.10208333333333333, 0.5428571428571428)  \n",
       "24996     (0.09081262939958591, 0.4623706004140787)  \n",
       "24997    (0.14525641025641026, 0.48410256410256414)  \n",
       "24998                (0.065625, 0.5045138888888889)  \n",
       "24999      (0.2392948717948718, 0.7358974358974358)  \n",
       "\n",
       "[25000 rows x 4 columns]"
      ]
     },
     "execution_count": 7,
     "metadata": {},
     "output_type": "execute_result"
    }
   ],
   "source": [
    "df_sentiments"
   ]
  },
  {
   "cell_type": "markdown",
   "id": "7576f6ed",
   "metadata": {},
   "source": [
    "## Create a test score to check function"
   ]
  },
  {
   "cell_type": "code",
   "execution_count": 8,
   "id": "8662e2b2",
   "metadata": {},
   "outputs": [
    {
     "data": {
      "text/plain": [
       "0.001276742581090417"
      ]
     },
     "execution_count": 8,
     "metadata": {},
     "output_type": "execute_result"
    }
   ],
   "source": [
    "test = df_sentiments.loc[0,'textblob']\n",
    "test.polarity"
   ]
  },
  {
   "cell_type": "markdown",
   "id": "00922c8a",
   "metadata": {},
   "source": [
    "## Create a function to assign a polarity score from TextBlob polarity"
   ]
  },
  {
   "cell_type": "code",
   "execution_count": 9,
   "id": "cab2da8e",
   "metadata": {},
   "outputs": [],
   "source": [
    "def assign_score(sentiment):\n",
    "    if sentiment.polarity < 0:\n",
    "        return 0\n",
    "    else:\n",
    "        return 1"
   ]
  },
  {
   "cell_type": "code",
   "execution_count": 10,
   "id": "62c5c734",
   "metadata": {},
   "outputs": [
    {
     "data": {
      "text/plain": [
       "1"
      ]
     },
     "execution_count": 10,
     "metadata": {},
     "output_type": "execute_result"
    }
   ],
   "source": [
    "# Verify function works\n",
    "test_score = assign_score(test)\n",
    "test_score"
   ]
  },
  {
   "cell_type": "markdown",
   "id": "4d80e261",
   "metadata": {},
   "source": [
    "## Assign a TextBlob Score based on polarity"
   ]
  },
  {
   "cell_type": "code",
   "execution_count": 11,
   "id": "8a326e27",
   "metadata": {},
   "outputs": [
    {
     "data": {
      "text/html": [
       "<div>\n",
       "<style scoped>\n",
       "    .dataframe tbody tr th:only-of-type {\n",
       "        vertical-align: middle;\n",
       "    }\n",
       "\n",
       "    .dataframe tbody tr th {\n",
       "        vertical-align: top;\n",
       "    }\n",
       "\n",
       "    .dataframe thead th {\n",
       "        text-align: right;\n",
       "    }\n",
       "</style>\n",
       "<table border=\"1\" class=\"dataframe\">\n",
       "  <thead>\n",
       "    <tr style=\"text-align: right;\">\n",
       "      <th></th>\n",
       "      <th>id</th>\n",
       "      <th>sentiment</th>\n",
       "      <th>review</th>\n",
       "      <th>textblob</th>\n",
       "      <th>textblob_score</th>\n",
       "    </tr>\n",
       "  </thead>\n",
       "  <tbody>\n",
       "    <tr>\n",
       "      <th>0</th>\n",
       "      <td>5814_8</td>\n",
       "      <td>1</td>\n",
       "      <td>With all this stuff going down at the moment w...</td>\n",
       "      <td>(0.001276742581090417, 0.6067460317460317)</td>\n",
       "      <td>1</td>\n",
       "    </tr>\n",
       "    <tr>\n",
       "      <th>1</th>\n",
       "      <td>2381_9</td>\n",
       "      <td>1</td>\n",
       "      <td>\\The Classic War of the Worlds\\\" by Timothy Hi...</td>\n",
       "      <td>(0.2563492063492064, 0.5311111111111111)</td>\n",
       "      <td>1</td>\n",
       "    </tr>\n",
       "    <tr>\n",
       "      <th>2</th>\n",
       "      <td>7759_3</td>\n",
       "      <td>0</td>\n",
       "      <td>The film starts with a manager (Nicholas Bell)...</td>\n",
       "      <td>(-0.05394123606889564, 0.5629331306990881)</td>\n",
       "      <td>0</td>\n",
       "    </tr>\n",
       "    <tr>\n",
       "      <th>3</th>\n",
       "      <td>3630_4</td>\n",
       "      <td>0</td>\n",
       "      <td>It must be assumed that those who praised this...</td>\n",
       "      <td>(0.1347530864197531, 0.4929012345679012)</td>\n",
       "      <td>1</td>\n",
       "    </tr>\n",
       "    <tr>\n",
       "      <th>4</th>\n",
       "      <td>9495_8</td>\n",
       "      <td>1</td>\n",
       "      <td>Superbly trashy and wondrously unpretentious 8...</td>\n",
       "      <td>(-0.024841720779220786, 0.45981782106782115)</td>\n",
       "      <td>0</td>\n",
       "    </tr>\n",
       "    <tr>\n",
       "      <th>...</th>\n",
       "      <td>...</td>\n",
       "      <td>...</td>\n",
       "      <td>...</td>\n",
       "      <td>...</td>\n",
       "      <td>...</td>\n",
       "    </tr>\n",
       "    <tr>\n",
       "      <th>24995</th>\n",
       "      <td>3453_3</td>\n",
       "      <td>0</td>\n",
       "      <td>It seems like more consideration has gone into...</td>\n",
       "      <td>(0.10208333333333333, 0.5428571428571428)</td>\n",
       "      <td>1</td>\n",
       "    </tr>\n",
       "    <tr>\n",
       "      <th>24996</th>\n",
       "      <td>5064_1</td>\n",
       "      <td>0</td>\n",
       "      <td>I don't believe they made this film. Completel...</td>\n",
       "      <td>(0.09081262939958591, 0.4623706004140787)</td>\n",
       "      <td>1</td>\n",
       "    </tr>\n",
       "    <tr>\n",
       "      <th>24997</th>\n",
       "      <td>10905_3</td>\n",
       "      <td>0</td>\n",
       "      <td>Guy is a loser. Can't get girls, needs to buil...</td>\n",
       "      <td>(0.14525641025641026, 0.48410256410256414)</td>\n",
       "      <td>1</td>\n",
       "    </tr>\n",
       "    <tr>\n",
       "      <th>24998</th>\n",
       "      <td>10194_3</td>\n",
       "      <td>0</td>\n",
       "      <td>This 30 minute documentary Buñuel made in the ...</td>\n",
       "      <td>(0.065625, 0.5045138888888889)</td>\n",
       "      <td>1</td>\n",
       "    </tr>\n",
       "    <tr>\n",
       "      <th>24999</th>\n",
       "      <td>8478_8</td>\n",
       "      <td>1</td>\n",
       "      <td>I saw this movie as a child and it broke my he...</td>\n",
       "      <td>(0.2392948717948718, 0.7358974358974358)</td>\n",
       "      <td>1</td>\n",
       "    </tr>\n",
       "  </tbody>\n",
       "</table>\n",
       "<p>25000 rows × 5 columns</p>\n",
       "</div>"
      ],
      "text/plain": [
       "            id  sentiment                                             review  \\\n",
       "0       5814_8          1  With all this stuff going down at the moment w...   \n",
       "1       2381_9          1  \\The Classic War of the Worlds\\\" by Timothy Hi...   \n",
       "2       7759_3          0  The film starts with a manager (Nicholas Bell)...   \n",
       "3       3630_4          0  It must be assumed that those who praised this...   \n",
       "4       9495_8          1  Superbly trashy and wondrously unpretentious 8...   \n",
       "...        ...        ...                                                ...   \n",
       "24995   3453_3          0  It seems like more consideration has gone into...   \n",
       "24996   5064_1          0  I don't believe they made this film. Completel...   \n",
       "24997  10905_3          0  Guy is a loser. Can't get girls, needs to buil...   \n",
       "24998  10194_3          0  This 30 minute documentary Buñuel made in the ...   \n",
       "24999   8478_8          1  I saw this movie as a child and it broke my he...   \n",
       "\n",
       "                                           textblob  textblob_score  \n",
       "0        (0.001276742581090417, 0.6067460317460317)               1  \n",
       "1          (0.2563492063492064, 0.5311111111111111)               1  \n",
       "2        (-0.05394123606889564, 0.5629331306990881)               0  \n",
       "3          (0.1347530864197531, 0.4929012345679012)               1  \n",
       "4      (-0.024841720779220786, 0.45981782106782115)               0  \n",
       "...                                             ...             ...  \n",
       "24995     (0.10208333333333333, 0.5428571428571428)               1  \n",
       "24996     (0.09081262939958591, 0.4623706004140787)               1  \n",
       "24997    (0.14525641025641026, 0.48410256410256414)               1  \n",
       "24998                (0.065625, 0.5045138888888889)               1  \n",
       "24999      (0.2392948717948718, 0.7358974358974358)               1  \n",
       "\n",
       "[25000 rows x 5 columns]"
      ]
     },
     "execution_count": 11,
     "metadata": {},
     "output_type": "execute_result"
    }
   ],
   "source": [
    "df_sentiments['textblob_score'] = df_sentiments['textblob'].apply(lambda x: assign_score(x))\n",
    "df_sentiments"
   ]
  },
  {
   "cell_type": "markdown",
   "id": "3e7b43ad-df8c-4e4d-b8f2-6dddaf618eb5",
   "metadata": {},
   "source": [
    "## Step 3: Check the Accuracy of this Model\n",
    "\n",
    "Is this model better than random guessing?"
   ]
  },
  {
   "cell_type": "code",
   "execution_count": 12,
   "id": "e8711c1c",
   "metadata": {},
   "outputs": [],
   "source": [
    "df_sentiments['Error'] = df_sentiments['textblob_score'] != df_sentiments['sentiment']\n",
    "df_sentiments['Error'] = df_sentiments['Error'].astype(int)"
   ]
  },
  {
   "cell_type": "code",
   "execution_count": 13,
   "id": "569ad061",
   "metadata": {},
   "outputs": [
    {
     "name": "stdout",
     "output_type": "stream",
     "text": [
      "The TextBlog achieved an accuracy score of 68.52% with an error rate of: 31.48%\n"
     ]
    }
   ],
   "source": [
    "errors = df_sentiments.loc[df_sentiments['Error'] == 1]\n",
    "error_rate = len(errors) / len(df_sentiments)\n",
    "accuracy_score = (len(df_sentiments) - len(errors)) / len(df_sentiments)\n",
    "print(f\"The TextBlog achieved an accuracy score of {accuracy_score:.2%} with an error rate of: {error_rate:.2%}\")"
   ]
  },
  {
   "cell_type": "markdown",
   "id": "1ab66ec8-ca3a-4d3f-9269-66257e423576",
   "metadata": {},
   "source": [
    "## Random Guessing\n",
    "\n",
    "Let's create a model to randomly guess and compare the results"
   ]
  },
  {
   "cell_type": "code",
   "execution_count": 14,
   "id": "c6b8b58b-df50-4fe5-8123-840902548fa7",
   "metadata": {},
   "outputs": [
    {
     "data": {
      "text/plain": [
       "RandomGuess\n",
       "0    12510\n",
       "1    12490\n",
       "Name: count, dtype: int64"
      ]
     },
     "execution_count": 14,
     "metadata": {},
     "output_type": "execute_result"
    }
   ],
   "source": [
    "# Create a column of pseudo-random 1s and 0s\n",
    "df_sentiments['RandomGuess'] = np.random.randint(0,2, df_sentiments.shape[0])\n",
    "df_sentiments['RandomGuess'].value_counts()"
   ]
  },
  {
   "cell_type": "code",
   "execution_count": 15,
   "id": "6975ef54-5698-46f9-a150-204fd70de802",
   "metadata": {},
   "outputs": [],
   "source": [
    "df_sentiments['RandomError'] = df_sentiments['RandomGuess'] != df_sentiments['sentiment']\n",
    "df_sentiments['RandomError'] = df_sentiments['RandomError'].astype(int)"
   ]
  },
  {
   "cell_type": "code",
   "execution_count": 16,
   "id": "7be3fd9b-7000-41a9-bf9a-6ee7e667f709",
   "metadata": {},
   "outputs": [
    {
     "name": "stdout",
     "output_type": "stream",
     "text": [
      "Random guessing achieved an accuracy score of 49.87% with an error rate of: 50.13%\n"
     ]
    }
   ],
   "source": [
    "rand_errors = df_sentiments.loc[df_sentiments['RandomError'] == 1]\n",
    "rand_error_rate = len(rand_errors) / len(df_sentiments)\n",
    "rand_accuracy_score = (len(df_sentiments) - len(rand_errors)) / len(df_sentiments)\n",
    "print(f\"Random guessing achieved an accuracy score of {rand_accuracy_score:.2%} with an error rate of: {rand_error_rate:.2%}\")"
   ]
  },
  {
   "cell_type": "markdown",
   "id": "49bf5e62-b583-49fc-9163-1d2cd019acf5",
   "metadata": {},
   "source": [
    "## TextBlog Analysis\n",
    "\n",
    "Given the accuracy rating of 68.52%, I would say that TextBlog did not perform well. It performed better than random guessing, but it is below 75% and there is definitely room for improvement."
   ]
  },
  {
   "cell_type": "markdown",
   "id": "d2e62baf-4950-41a5-b8c5-dc9ebfa44afd",
   "metadata": {},
   "source": [
    "## Extra Credit: Vader Sentiment Analysis"
   ]
  },
  {
   "cell_type": "code",
   "execution_count": 17,
   "id": "a52442e9-7c26-4c49-83a6-da18a3e40054",
   "metadata": {},
   "outputs": [
    {
     "data": {
      "text/plain": [
       "-0.8879"
      ]
     },
     "execution_count": 17,
     "metadata": {},
     "output_type": "execute_result"
    }
   ],
   "source": [
    "# Create a SentimentIntensityAnalyzerb\n",
    "si_analyzer = SentimentIntensityAnalyzer()\n",
    "vader_test_review = df_sentiments.loc[0,'review']\n",
    "vader_polarity = si_analyzer.polarity_scores(vader_test_review)\n",
    "vader_polarity['compound']"
   ]
  },
  {
   "cell_type": "code",
   "execution_count": 18,
   "id": "b7474822-10b4-4d01-baec-863dbb553f90",
   "metadata": {},
   "outputs": [],
   "source": [
    "# Create assign_vader_score function\n",
    "def assign_vader_score(vader_polarity):\n",
    "    if vader_polarity['compound'] < 0.00:\n",
    "        return 0\n",
    "    else:\n",
    "        return 1"
   ]
  },
  {
   "cell_type": "code",
   "execution_count": 19,
   "id": "abca8018-f612-434a-ab13-65c5d1d9a3fd",
   "metadata": {},
   "outputs": [
    {
     "data": {
      "text/plain": [
       "0"
      ]
     },
     "execution_count": 19,
     "metadata": {},
     "output_type": "execute_result"
    }
   ],
   "source": [
    "# Test assign_vader_score function\n",
    "test_vader_score = assign_vader_score(vader_polarity)\n",
    "test_vader_score"
   ]
  },
  {
   "cell_type": "code",
   "execution_count": 20,
   "id": "19f5b9a7-7d46-4d2a-afe6-1fcfa56afe63",
   "metadata": {},
   "outputs": [
    {
     "data": {
      "text/html": [
       "<div>\n",
       "<style scoped>\n",
       "    .dataframe tbody tr th:only-of-type {\n",
       "        vertical-align: middle;\n",
       "    }\n",
       "\n",
       "    .dataframe tbody tr th {\n",
       "        vertical-align: top;\n",
       "    }\n",
       "\n",
       "    .dataframe thead th {\n",
       "        text-align: right;\n",
       "    }\n",
       "</style>\n",
       "<table border=\"1\" class=\"dataframe\">\n",
       "  <thead>\n",
       "    <tr style=\"text-align: right;\">\n",
       "      <th></th>\n",
       "      <th>id</th>\n",
       "      <th>sentiment</th>\n",
       "      <th>review</th>\n",
       "      <th>textblob</th>\n",
       "      <th>textblob_score</th>\n",
       "      <th>Error</th>\n",
       "      <th>RandomGuess</th>\n",
       "      <th>RandomError</th>\n",
       "      <th>vader_polarity</th>\n",
       "    </tr>\n",
       "  </thead>\n",
       "  <tbody>\n",
       "    <tr>\n",
       "      <th>0</th>\n",
       "      <td>5814_8</td>\n",
       "      <td>1</td>\n",
       "      <td>With all this stuff going down at the moment w...</td>\n",
       "      <td>(0.001276742581090417, 0.6067460317460317)</td>\n",
       "      <td>1</td>\n",
       "      <td>0</td>\n",
       "      <td>1</td>\n",
       "      <td>0</td>\n",
       "      <td>{'neg': 0.128, 'neu': 0.751, 'pos': 0.121, 'co...</td>\n",
       "    </tr>\n",
       "    <tr>\n",
       "      <th>1</th>\n",
       "      <td>2381_9</td>\n",
       "      <td>1</td>\n",
       "      <td>\\The Classic War of the Worlds\\\" by Timothy Hi...</td>\n",
       "      <td>(0.2563492063492064, 0.5311111111111111)</td>\n",
       "      <td>1</td>\n",
       "      <td>0</td>\n",
       "      <td>1</td>\n",
       "      <td>0</td>\n",
       "      <td>{'neg': 0.08, 'neu': 0.713, 'pos': 0.207, 'com...</td>\n",
       "    </tr>\n",
       "    <tr>\n",
       "      <th>2</th>\n",
       "      <td>7759_3</td>\n",
       "      <td>0</td>\n",
       "      <td>The film starts with a manager (Nicholas Bell)...</td>\n",
       "      <td>(-0.05394123606889564, 0.5629331306990881)</td>\n",
       "      <td>0</td>\n",
       "      <td>0</td>\n",
       "      <td>0</td>\n",
       "      <td>0</td>\n",
       "      <td>{'neg': 0.135, 'neu': 0.809, 'pos': 0.055, 'co...</td>\n",
       "    </tr>\n",
       "    <tr>\n",
       "      <th>3</th>\n",
       "      <td>3630_4</td>\n",
       "      <td>0</td>\n",
       "      <td>It must be assumed that those who praised this...</td>\n",
       "      <td>(0.1347530864197531, 0.4929012345679012)</td>\n",
       "      <td>1</td>\n",
       "      <td>1</td>\n",
       "      <td>1</td>\n",
       "      <td>1</td>\n",
       "      <td>{'neg': 0.062, 'neu': 0.884, 'pos': 0.054, 'co...</td>\n",
       "    </tr>\n",
       "    <tr>\n",
       "      <th>4</th>\n",
       "      <td>9495_8</td>\n",
       "      <td>1</td>\n",
       "      <td>Superbly trashy and wondrously unpretentious 8...</td>\n",
       "      <td>(-0.024841720779220786, 0.45981782106782115)</td>\n",
       "      <td>0</td>\n",
       "      <td>1</td>\n",
       "      <td>0</td>\n",
       "      <td>1</td>\n",
       "      <td>{'neg': 0.122, 'neu': 0.743, 'pos': 0.135, 'co...</td>\n",
       "    </tr>\n",
       "    <tr>\n",
       "      <th>...</th>\n",
       "      <td>...</td>\n",
       "      <td>...</td>\n",
       "      <td>...</td>\n",
       "      <td>...</td>\n",
       "      <td>...</td>\n",
       "      <td>...</td>\n",
       "      <td>...</td>\n",
       "      <td>...</td>\n",
       "      <td>...</td>\n",
       "    </tr>\n",
       "    <tr>\n",
       "      <th>24995</th>\n",
       "      <td>3453_3</td>\n",
       "      <td>0</td>\n",
       "      <td>It seems like more consideration has gone into...</td>\n",
       "      <td>(0.10208333333333333, 0.5428571428571428)</td>\n",
       "      <td>1</td>\n",
       "      <td>1</td>\n",
       "      <td>0</td>\n",
       "      <td>0</td>\n",
       "      <td>{'neg': 0.026, 'neu': 0.825, 'pos': 0.149, 'co...</td>\n",
       "    </tr>\n",
       "    <tr>\n",
       "      <th>24996</th>\n",
       "      <td>5064_1</td>\n",
       "      <td>0</td>\n",
       "      <td>I don't believe they made this film. Completel...</td>\n",
       "      <td>(0.09081262939958591, 0.4623706004140787)</td>\n",
       "      <td>1</td>\n",
       "      <td>1</td>\n",
       "      <td>0</td>\n",
       "      <td>0</td>\n",
       "      <td>{'neg': 0.082, 'neu': 0.68, 'pos': 0.238, 'com...</td>\n",
       "    </tr>\n",
       "    <tr>\n",
       "      <th>24997</th>\n",
       "      <td>10905_3</td>\n",
       "      <td>0</td>\n",
       "      <td>Guy is a loser. Can't get girls, needs to buil...</td>\n",
       "      <td>(0.14525641025641026, 0.48410256410256414)</td>\n",
       "      <td>1</td>\n",
       "      <td>1</td>\n",
       "      <td>0</td>\n",
       "      <td>0</td>\n",
       "      <td>{'neg': 0.053, 'neu': 0.8, 'pos': 0.147, 'comp...</td>\n",
       "    </tr>\n",
       "    <tr>\n",
       "      <th>24998</th>\n",
       "      <td>10194_3</td>\n",
       "      <td>0</td>\n",
       "      <td>This 30 minute documentary Buñuel made in the ...</td>\n",
       "      <td>(0.065625, 0.5045138888888889)</td>\n",
       "      <td>1</td>\n",
       "      <td>1</td>\n",
       "      <td>1</td>\n",
       "      <td>1</td>\n",
       "      <td>{'neg': 0.154, 'neu': 0.753, 'pos': 0.093, 'co...</td>\n",
       "    </tr>\n",
       "    <tr>\n",
       "      <th>24999</th>\n",
       "      <td>8478_8</td>\n",
       "      <td>1</td>\n",
       "      <td>I saw this movie as a child and it broke my he...</td>\n",
       "      <td>(0.2392948717948718, 0.7358974358974358)</td>\n",
       "      <td>1</td>\n",
       "      <td>0</td>\n",
       "      <td>1</td>\n",
       "      <td>0</td>\n",
       "      <td>{'neg': 0.143, 'neu': 0.729, 'pos': 0.128, 'co...</td>\n",
       "    </tr>\n",
       "  </tbody>\n",
       "</table>\n",
       "<p>25000 rows × 9 columns</p>\n",
       "</div>"
      ],
      "text/plain": [
       "            id  sentiment                                             review  \\\n",
       "0       5814_8          1  With all this stuff going down at the moment w...   \n",
       "1       2381_9          1  \\The Classic War of the Worlds\\\" by Timothy Hi...   \n",
       "2       7759_3          0  The film starts with a manager (Nicholas Bell)...   \n",
       "3       3630_4          0  It must be assumed that those who praised this...   \n",
       "4       9495_8          1  Superbly trashy and wondrously unpretentious 8...   \n",
       "...        ...        ...                                                ...   \n",
       "24995   3453_3          0  It seems like more consideration has gone into...   \n",
       "24996   5064_1          0  I don't believe they made this film. Completel...   \n",
       "24997  10905_3          0  Guy is a loser. Can't get girls, needs to buil...   \n",
       "24998  10194_3          0  This 30 minute documentary Buñuel made in the ...   \n",
       "24999   8478_8          1  I saw this movie as a child and it broke my he...   \n",
       "\n",
       "                                           textblob  textblob_score  Error  \\\n",
       "0        (0.001276742581090417, 0.6067460317460317)               1      0   \n",
       "1          (0.2563492063492064, 0.5311111111111111)               1      0   \n",
       "2        (-0.05394123606889564, 0.5629331306990881)               0      0   \n",
       "3          (0.1347530864197531, 0.4929012345679012)               1      1   \n",
       "4      (-0.024841720779220786, 0.45981782106782115)               0      1   \n",
       "...                                             ...             ...    ...   \n",
       "24995     (0.10208333333333333, 0.5428571428571428)               1      1   \n",
       "24996     (0.09081262939958591, 0.4623706004140787)               1      1   \n",
       "24997    (0.14525641025641026, 0.48410256410256414)               1      1   \n",
       "24998                (0.065625, 0.5045138888888889)               1      1   \n",
       "24999      (0.2392948717948718, 0.7358974358974358)               1      0   \n",
       "\n",
       "       RandomGuess  RandomError  \\\n",
       "0                1            0   \n",
       "1                1            0   \n",
       "2                0            0   \n",
       "3                1            1   \n",
       "4                0            1   \n",
       "...            ...          ...   \n",
       "24995            0            0   \n",
       "24996            0            0   \n",
       "24997            0            0   \n",
       "24998            1            1   \n",
       "24999            1            0   \n",
       "\n",
       "                                          vader_polarity  \n",
       "0      {'neg': 0.128, 'neu': 0.751, 'pos': 0.121, 'co...  \n",
       "1      {'neg': 0.08, 'neu': 0.713, 'pos': 0.207, 'com...  \n",
       "2      {'neg': 0.135, 'neu': 0.809, 'pos': 0.055, 'co...  \n",
       "3      {'neg': 0.062, 'neu': 0.884, 'pos': 0.054, 'co...  \n",
       "4      {'neg': 0.122, 'neu': 0.743, 'pos': 0.135, 'co...  \n",
       "...                                                  ...  \n",
       "24995  {'neg': 0.026, 'neu': 0.825, 'pos': 0.149, 'co...  \n",
       "24996  {'neg': 0.082, 'neu': 0.68, 'pos': 0.238, 'com...  \n",
       "24997  {'neg': 0.053, 'neu': 0.8, 'pos': 0.147, 'comp...  \n",
       "24998  {'neg': 0.154, 'neu': 0.753, 'pos': 0.093, 'co...  \n",
       "24999  {'neg': 0.143, 'neu': 0.729, 'pos': 0.128, 'co...  \n",
       "\n",
       "[25000 rows x 9 columns]"
      ]
     },
     "execution_count": 20,
     "metadata": {},
     "output_type": "execute_result"
    }
   ],
   "source": [
    "# Assign vader polarity\n",
    "df_sentiments['vader_polarity'] = df_sentiments['review'].apply(lambda x: si_analyzer.polarity_scores(x))\n",
    "df_sentiments"
   ]
  },
  {
   "cell_type": "code",
   "execution_count": 21,
   "id": "e184d638-61f1-4c16-9d1b-6c38289d9722",
   "metadata": {},
   "outputs": [
    {
     "data": {
      "text/html": [
       "<div>\n",
       "<style scoped>\n",
       "    .dataframe tbody tr th:only-of-type {\n",
       "        vertical-align: middle;\n",
       "    }\n",
       "\n",
       "    .dataframe tbody tr th {\n",
       "        vertical-align: top;\n",
       "    }\n",
       "\n",
       "    .dataframe thead th {\n",
       "        text-align: right;\n",
       "    }\n",
       "</style>\n",
       "<table border=\"1\" class=\"dataframe\">\n",
       "  <thead>\n",
       "    <tr style=\"text-align: right;\">\n",
       "      <th></th>\n",
       "      <th>id</th>\n",
       "      <th>sentiment</th>\n",
       "      <th>review</th>\n",
       "      <th>textblob</th>\n",
       "      <th>textblob_score</th>\n",
       "      <th>Error</th>\n",
       "      <th>RandomGuess</th>\n",
       "      <th>RandomError</th>\n",
       "      <th>vader_polarity</th>\n",
       "      <th>vader_score</th>\n",
       "    </tr>\n",
       "  </thead>\n",
       "  <tbody>\n",
       "    <tr>\n",
       "      <th>0</th>\n",
       "      <td>5814_8</td>\n",
       "      <td>1</td>\n",
       "      <td>With all this stuff going down at the moment w...</td>\n",
       "      <td>(0.001276742581090417, 0.6067460317460317)</td>\n",
       "      <td>1</td>\n",
       "      <td>0</td>\n",
       "      <td>1</td>\n",
       "      <td>0</td>\n",
       "      <td>{'neg': 0.128, 'neu': 0.751, 'pos': 0.121, 'co...</td>\n",
       "      <td>0</td>\n",
       "    </tr>\n",
       "    <tr>\n",
       "      <th>1</th>\n",
       "      <td>2381_9</td>\n",
       "      <td>1</td>\n",
       "      <td>\\The Classic War of the Worlds\\\" by Timothy Hi...</td>\n",
       "      <td>(0.2563492063492064, 0.5311111111111111)</td>\n",
       "      <td>1</td>\n",
       "      <td>0</td>\n",
       "      <td>1</td>\n",
       "      <td>0</td>\n",
       "      <td>{'neg': 0.08, 'neu': 0.713, 'pos': 0.207, 'com...</td>\n",
       "      <td>1</td>\n",
       "    </tr>\n",
       "    <tr>\n",
       "      <th>2</th>\n",
       "      <td>7759_3</td>\n",
       "      <td>0</td>\n",
       "      <td>The film starts with a manager (Nicholas Bell)...</td>\n",
       "      <td>(-0.05394123606889564, 0.5629331306990881)</td>\n",
       "      <td>0</td>\n",
       "      <td>0</td>\n",
       "      <td>0</td>\n",
       "      <td>0</td>\n",
       "      <td>{'neg': 0.135, 'neu': 0.809, 'pos': 0.055, 'co...</td>\n",
       "      <td>0</td>\n",
       "    </tr>\n",
       "    <tr>\n",
       "      <th>3</th>\n",
       "      <td>3630_4</td>\n",
       "      <td>0</td>\n",
       "      <td>It must be assumed that those who praised this...</td>\n",
       "      <td>(0.1347530864197531, 0.4929012345679012)</td>\n",
       "      <td>1</td>\n",
       "      <td>1</td>\n",
       "      <td>1</td>\n",
       "      <td>1</td>\n",
       "      <td>{'neg': 0.062, 'neu': 0.884, 'pos': 0.054, 'co...</td>\n",
       "      <td>0</td>\n",
       "    </tr>\n",
       "    <tr>\n",
       "      <th>4</th>\n",
       "      <td>9495_8</td>\n",
       "      <td>1</td>\n",
       "      <td>Superbly trashy and wondrously unpretentious 8...</td>\n",
       "      <td>(-0.024841720779220786, 0.45981782106782115)</td>\n",
       "      <td>0</td>\n",
       "      <td>1</td>\n",
       "      <td>0</td>\n",
       "      <td>1</td>\n",
       "      <td>{'neg': 0.122, 'neu': 0.743, 'pos': 0.135, 'co...</td>\n",
       "      <td>1</td>\n",
       "    </tr>\n",
       "    <tr>\n",
       "      <th>...</th>\n",
       "      <td>...</td>\n",
       "      <td>...</td>\n",
       "      <td>...</td>\n",
       "      <td>...</td>\n",
       "      <td>...</td>\n",
       "      <td>...</td>\n",
       "      <td>...</td>\n",
       "      <td>...</td>\n",
       "      <td>...</td>\n",
       "      <td>...</td>\n",
       "    </tr>\n",
       "    <tr>\n",
       "      <th>24995</th>\n",
       "      <td>3453_3</td>\n",
       "      <td>0</td>\n",
       "      <td>It seems like more consideration has gone into...</td>\n",
       "      <td>(0.10208333333333333, 0.5428571428571428)</td>\n",
       "      <td>1</td>\n",
       "      <td>1</td>\n",
       "      <td>0</td>\n",
       "      <td>0</td>\n",
       "      <td>{'neg': 0.026, 'neu': 0.825, 'pos': 0.149, 'co...</td>\n",
       "      <td>1</td>\n",
       "    </tr>\n",
       "    <tr>\n",
       "      <th>24996</th>\n",
       "      <td>5064_1</td>\n",
       "      <td>0</td>\n",
       "      <td>I don't believe they made this film. Completel...</td>\n",
       "      <td>(0.09081262939958591, 0.4623706004140787)</td>\n",
       "      <td>1</td>\n",
       "      <td>1</td>\n",
       "      <td>0</td>\n",
       "      <td>0</td>\n",
       "      <td>{'neg': 0.082, 'neu': 0.68, 'pos': 0.238, 'com...</td>\n",
       "      <td>1</td>\n",
       "    </tr>\n",
       "    <tr>\n",
       "      <th>24997</th>\n",
       "      <td>10905_3</td>\n",
       "      <td>0</td>\n",
       "      <td>Guy is a loser. Can't get girls, needs to buil...</td>\n",
       "      <td>(0.14525641025641026, 0.48410256410256414)</td>\n",
       "      <td>1</td>\n",
       "      <td>1</td>\n",
       "      <td>0</td>\n",
       "      <td>0</td>\n",
       "      <td>{'neg': 0.053, 'neu': 0.8, 'pos': 0.147, 'comp...</td>\n",
       "      <td>1</td>\n",
       "    </tr>\n",
       "    <tr>\n",
       "      <th>24998</th>\n",
       "      <td>10194_3</td>\n",
       "      <td>0</td>\n",
       "      <td>This 30 minute documentary Buñuel made in the ...</td>\n",
       "      <td>(0.065625, 0.5045138888888889)</td>\n",
       "      <td>1</td>\n",
       "      <td>1</td>\n",
       "      <td>1</td>\n",
       "      <td>1</td>\n",
       "      <td>{'neg': 0.154, 'neu': 0.753, 'pos': 0.093, 'co...</td>\n",
       "      <td>0</td>\n",
       "    </tr>\n",
       "    <tr>\n",
       "      <th>24999</th>\n",
       "      <td>8478_8</td>\n",
       "      <td>1</td>\n",
       "      <td>I saw this movie as a child and it broke my he...</td>\n",
       "      <td>(0.2392948717948718, 0.7358974358974358)</td>\n",
       "      <td>1</td>\n",
       "      <td>0</td>\n",
       "      <td>1</td>\n",
       "      <td>0</td>\n",
       "      <td>{'neg': 0.143, 'neu': 0.729, 'pos': 0.128, 'co...</td>\n",
       "      <td>1</td>\n",
       "    </tr>\n",
       "  </tbody>\n",
       "</table>\n",
       "<p>25000 rows × 10 columns</p>\n",
       "</div>"
      ],
      "text/plain": [
       "            id  sentiment                                             review  \\\n",
       "0       5814_8          1  With all this stuff going down at the moment w...   \n",
       "1       2381_9          1  \\The Classic War of the Worlds\\\" by Timothy Hi...   \n",
       "2       7759_3          0  The film starts with a manager (Nicholas Bell)...   \n",
       "3       3630_4          0  It must be assumed that those who praised this...   \n",
       "4       9495_8          1  Superbly trashy and wondrously unpretentious 8...   \n",
       "...        ...        ...                                                ...   \n",
       "24995   3453_3          0  It seems like more consideration has gone into...   \n",
       "24996   5064_1          0  I don't believe they made this film. Completel...   \n",
       "24997  10905_3          0  Guy is a loser. Can't get girls, needs to buil...   \n",
       "24998  10194_3          0  This 30 minute documentary Buñuel made in the ...   \n",
       "24999   8478_8          1  I saw this movie as a child and it broke my he...   \n",
       "\n",
       "                                           textblob  textblob_score  Error  \\\n",
       "0        (0.001276742581090417, 0.6067460317460317)               1      0   \n",
       "1          (0.2563492063492064, 0.5311111111111111)               1      0   \n",
       "2        (-0.05394123606889564, 0.5629331306990881)               0      0   \n",
       "3          (0.1347530864197531, 0.4929012345679012)               1      1   \n",
       "4      (-0.024841720779220786, 0.45981782106782115)               0      1   \n",
       "...                                             ...             ...    ...   \n",
       "24995     (0.10208333333333333, 0.5428571428571428)               1      1   \n",
       "24996     (0.09081262939958591, 0.4623706004140787)               1      1   \n",
       "24997    (0.14525641025641026, 0.48410256410256414)               1      1   \n",
       "24998                (0.065625, 0.5045138888888889)               1      1   \n",
       "24999      (0.2392948717948718, 0.7358974358974358)               1      0   \n",
       "\n",
       "       RandomGuess  RandomError  \\\n",
       "0                1            0   \n",
       "1                1            0   \n",
       "2                0            0   \n",
       "3                1            1   \n",
       "4                0            1   \n",
       "...            ...          ...   \n",
       "24995            0            0   \n",
       "24996            0            0   \n",
       "24997            0            0   \n",
       "24998            1            1   \n",
       "24999            1            0   \n",
       "\n",
       "                                          vader_polarity  vader_score  \n",
       "0      {'neg': 0.128, 'neu': 0.751, 'pos': 0.121, 'co...            0  \n",
       "1      {'neg': 0.08, 'neu': 0.713, 'pos': 0.207, 'com...            1  \n",
       "2      {'neg': 0.135, 'neu': 0.809, 'pos': 0.055, 'co...            0  \n",
       "3      {'neg': 0.062, 'neu': 0.884, 'pos': 0.054, 'co...            0  \n",
       "4      {'neg': 0.122, 'neu': 0.743, 'pos': 0.135, 'co...            1  \n",
       "...                                                  ...          ...  \n",
       "24995  {'neg': 0.026, 'neu': 0.825, 'pos': 0.149, 'co...            1  \n",
       "24996  {'neg': 0.082, 'neu': 0.68, 'pos': 0.238, 'com...            1  \n",
       "24997  {'neg': 0.053, 'neu': 0.8, 'pos': 0.147, 'comp...            1  \n",
       "24998  {'neg': 0.154, 'neu': 0.753, 'pos': 0.093, 'co...            0  \n",
       "24999  {'neg': 0.143, 'neu': 0.729, 'pos': 0.128, 'co...            1  \n",
       "\n",
       "[25000 rows x 10 columns]"
      ]
     },
     "execution_count": 21,
     "metadata": {},
     "output_type": "execute_result"
    }
   ],
   "source": [
    "# Assign sentiment score for vader polarity\n",
    "df_sentiments['vader_score'] = df_sentiments['vader_polarity'].apply(lambda x: assign_vader_score(x))\n",
    "df_sentiments"
   ]
  },
  {
   "cell_type": "markdown",
   "id": "7b51f8a8-ccf9-4c0c-a1b7-6cccea03ecd8",
   "metadata": {},
   "source": [
    "## Vader Score Accuracy\n",
    "Let's check the accuracy of VADER"
   ]
  },
  {
   "cell_type": "code",
   "execution_count": 22,
   "id": "e49d89ed-0139-42e2-ab5d-7152ea43e5e1",
   "metadata": {},
   "outputs": [],
   "source": [
    "df_sentiments['Vader_Error'] = df_sentiments['vader_score'] != df_sentiments['sentiment']\n",
    "df_sentiments['Vader_Error'] = df_sentiments['Vader_Error'].astype(int)"
   ]
  },
  {
   "cell_type": "code",
   "execution_count": 23,
   "id": "4a5cae6f-27db-4479-b2b4-66b4e6c05cf0",
   "metadata": {},
   "outputs": [
    {
     "name": "stdout",
     "output_type": "stream",
     "text": [
      "VADER achieved an accuracy score of 69.40% with an error rate of: 30.60%\n"
     ]
    }
   ],
   "source": [
    "vader_errors = df_sentiments.loc[df_sentiments['Vader_Error'] == 1]\n",
    "vader_error_rate = len(vader_errors) / len(df_sentiments)\n",
    "vader_accuracy_score = (len(df_sentiments) - len(vader_errors)) / len(df_sentiments)\n",
    "print(f\"VADER achieved an accuracy score of {vader_accuracy_score:.2%} with an error rate of: {vader_error_rate:.2%}\")"
   ]
  },
  {
   "cell_type": "markdown",
   "id": "cbee259e-ce3f-4902-a1a7-b3e056d90003",
   "metadata": {},
   "source": [
    "## Vader Accuracy Analysis\n",
    "VADER performed marginally better than TextBlob, with a accuracy score of 69.40% vs 68.52%. I would still prefer to see scores over 75%, but I don't have a great understanding of what would constitute a great score and my desired threshold of 75% is an arbitrary number that I set. "
   ]
  },
  {
   "cell_type": "markdown",
   "id": "43395d5e-b7ef-4649-b465-dd29f876b18b",
   "metadata": {},
   "source": [
    "## Part 2: Prepping Text for a Custom Model\n",
    "If you want to run your own model to classify text, it needs to be in proper form to do so. The following steps will outline a procedure to do this on the movie reviews text."
   ]
  },
  {
   "cell_type": "code",
   "execution_count": 38,
   "id": "98924f18-4ddb-4fa8-9911-e2be242c40d3",
   "metadata": {},
   "outputs": [
    {
     "name": "stderr",
     "output_type": "stream",
     "text": [
      "[nltk_data] Downloading package stopwords to /Users/x/nltk_data...\n",
      "[nltk_data]   Package stopwords is already up-to-date!\n"
     ]
    },
    {
     "data": {
      "text/plain": [
       "True"
      ]
     },
     "execution_count": 38,
     "metadata": {},
     "output_type": "execute_result"
    }
   ],
   "source": [
    "# Import libraries for PorterStemmer and Bag of Words\n",
    "import nltk\n",
    "from nltk.corpus import stopwords\n",
    "from nltk.stem.porter import PorterStemmer\n",
    "import re\n",
    "from sklearn.feature_extraction.text import CountVectorizer\n",
    "from sklearn.feature_extraction import DictVectorizer\n",
    "from sklearn.feature_extraction.text import TfidfVectorizer\n",
    "nltk.download('stopwords')"
   ]
  },
  {
   "cell_type": "code",
   "execution_count": 39,
   "id": "1a7a65af-b55b-4ddc-9d47-c82824d5378e",
   "metadata": {},
   "outputs": [
    {
     "data": {
      "text/html": [
       "<div>\n",
       "<style scoped>\n",
       "    .dataframe tbody tr th:only-of-type {\n",
       "        vertical-align: middle;\n",
       "    }\n",
       "\n",
       "    .dataframe tbody tr th {\n",
       "        vertical-align: top;\n",
       "    }\n",
       "\n",
       "    .dataframe thead th {\n",
       "        text-align: right;\n",
       "    }\n",
       "</style>\n",
       "<table border=\"1\" class=\"dataframe\">\n",
       "  <thead>\n",
       "    <tr style=\"text-align: right;\">\n",
       "      <th></th>\n",
       "      <th>id</th>\n",
       "      <th>sentiment</th>\n",
       "      <th>review</th>\n",
       "    </tr>\n",
       "  </thead>\n",
       "  <tbody>\n",
       "    <tr>\n",
       "      <th>0</th>\n",
       "      <td>5814_8</td>\n",
       "      <td>1</td>\n",
       "      <td>With all this stuff going down at the moment w...</td>\n",
       "    </tr>\n",
       "    <tr>\n",
       "      <th>1</th>\n",
       "      <td>2381_9</td>\n",
       "      <td>1</td>\n",
       "      <td>\\The Classic War of the Worlds\\\" by Timothy Hi...</td>\n",
       "    </tr>\n",
       "    <tr>\n",
       "      <th>2</th>\n",
       "      <td>7759_3</td>\n",
       "      <td>0</td>\n",
       "      <td>The film starts with a manager (Nicholas Bell)...</td>\n",
       "    </tr>\n",
       "    <tr>\n",
       "      <th>3</th>\n",
       "      <td>3630_4</td>\n",
       "      <td>0</td>\n",
       "      <td>It must be assumed that those who praised this...</td>\n",
       "    </tr>\n",
       "    <tr>\n",
       "      <th>4</th>\n",
       "      <td>9495_8</td>\n",
       "      <td>1</td>\n",
       "      <td>Superbly trashy and wondrously unpretentious 8...</td>\n",
       "    </tr>\n",
       "    <tr>\n",
       "      <th>...</th>\n",
       "      <td>...</td>\n",
       "      <td>...</td>\n",
       "      <td>...</td>\n",
       "    </tr>\n",
       "    <tr>\n",
       "      <th>24995</th>\n",
       "      <td>3453_3</td>\n",
       "      <td>0</td>\n",
       "      <td>It seems like more consideration has gone into...</td>\n",
       "    </tr>\n",
       "    <tr>\n",
       "      <th>24996</th>\n",
       "      <td>5064_1</td>\n",
       "      <td>0</td>\n",
       "      <td>I don't believe they made this film. Completel...</td>\n",
       "    </tr>\n",
       "    <tr>\n",
       "      <th>24997</th>\n",
       "      <td>10905_3</td>\n",
       "      <td>0</td>\n",
       "      <td>Guy is a loser. Can't get girls, needs to buil...</td>\n",
       "    </tr>\n",
       "    <tr>\n",
       "      <th>24998</th>\n",
       "      <td>10194_3</td>\n",
       "      <td>0</td>\n",
       "      <td>This 30 minute documentary Buñuel made in the ...</td>\n",
       "    </tr>\n",
       "    <tr>\n",
       "      <th>24999</th>\n",
       "      <td>8478_8</td>\n",
       "      <td>1</td>\n",
       "      <td>I saw this movie as a child and it broke my he...</td>\n",
       "    </tr>\n",
       "  </tbody>\n",
       "</table>\n",
       "<p>25000 rows × 3 columns</p>\n",
       "</div>"
      ],
      "text/plain": [
       "            id  sentiment                                             review\n",
       "0       5814_8          1  With all this stuff going down at the moment w...\n",
       "1       2381_9          1  \\The Classic War of the Worlds\\\" by Timothy Hi...\n",
       "2       7759_3          0  The film starts with a manager (Nicholas Bell)...\n",
       "3       3630_4          0  It must be assumed that those who praised this...\n",
       "4       9495_8          1  Superbly trashy and wondrously unpretentious 8...\n",
       "...        ...        ...                                                ...\n",
       "24995   3453_3          0  It seems like more consideration has gone into...\n",
       "24996   5064_1          0  I don't believe they made this film. Completel...\n",
       "24997  10905_3          0  Guy is a loser. Can't get girls, needs to buil...\n",
       "24998  10194_3          0  This 30 minute documentary Buñuel made in the ...\n",
       "24999   8478_8          1  I saw this movie as a child and it broke my he...\n",
       "\n",
       "[25000 rows x 3 columns]"
      ]
     },
     "execution_count": 39,
     "metadata": {},
     "output_type": "execute_result"
    }
   ],
   "source": [
    "nltk_df = df.copy()\n",
    "nltk_df"
   ]
  },
  {
   "cell_type": "code",
   "execution_count": 40,
   "id": "d53ddc54-a3eb-4410-a9c3-31d782e69b6b",
   "metadata": {},
   "outputs": [
    {
     "data": {
      "text/plain": [
       "25000"
      ]
     },
     "execution_count": 40,
     "metadata": {},
     "output_type": "execute_result"
    }
   ],
   "source": [
    "nltk_reviews = nltk_df['review'].values\n",
    "len(nltk_reviews)"
   ]
  },
  {
   "cell_type": "markdown",
   "id": "430fd7bf-3ae6-40d4-a1e5-a2d96270017f",
   "metadata": {},
   "source": [
    "## Cleaning Function Goals:\n",
    "<ul>\n",
    "    <li>Convert all words to lowercase</li>\n",
    "    <li>Remove punctuation and special characters</li>\n",
    "    <li>Remove stop words</li>\n",
    "</ul>"
   ]
  },
  {
   "cell_type": "code",
   "execution_count": 41,
   "id": "8e0b1071-3574-44e6-9067-e0ba934d2972",
   "metadata": {},
   "outputs": [],
   "source": [
    "# Let's make a function to clean up the text\n",
    "def clean_text(text):\n",
    "    stop_words = stopwords.words('english')\n",
    "    # Remove punctuation and special characters\n",
    "    pattern = r'([A-Za-z]*)'\n",
    "    pattern = re.compile(pattern)\n",
    "    cleaned = pattern.findall(text)\n",
    "    # Convert to lower case\n",
    "    words = [word.lower() for word in cleaned if word]     \n",
    "    words = [word.lower() for word in words if word not in stop_words]\n",
    "    return words"
   ]
  },
  {
   "cell_type": "code",
   "execution_count": 42,
   "id": "4192bd64-0bc3-4774-becd-a960509780dc",
   "metadata": {},
   "outputs": [
    {
     "data": {
      "text/plain": [
       "['stuff',\n",
       " 'going',\n",
       " 'moment',\n",
       " 'mj',\n",
       " 'started',\n",
       " 'listening',\n",
       " 'music',\n",
       " 'watching',\n",
       " 'odd',\n",
       " 'documentary',\n",
       " 'watched',\n",
       " 'wiz',\n",
       " 'watched',\n",
       " 'moonwalker',\n",
       " 'maybe',\n",
       " 'want',\n",
       " 'get',\n",
       " 'certain',\n",
       " 'insight',\n",
       " 'guy',\n",
       " 'thought',\n",
       " 'really',\n",
       " 'cool',\n",
       " 'eighties',\n",
       " 'maybe',\n",
       " 'make',\n",
       " 'mind',\n",
       " 'whether',\n",
       " 'guilty',\n",
       " 'innocent',\n",
       " 'moonwalker',\n",
       " 'part',\n",
       " 'biography',\n",
       " 'part',\n",
       " 'feature',\n",
       " 'film',\n",
       " 'remember',\n",
       " 'going',\n",
       " 'see',\n",
       " 'cinema',\n",
       " 'originally',\n",
       " 'released',\n",
       " 'subtle',\n",
       " 'messages',\n",
       " 'mj',\n",
       " 'feeling',\n",
       " 'towards',\n",
       " 'press',\n",
       " 'also',\n",
       " 'obvious',\n",
       " 'message',\n",
       " 'drugs',\n",
       " 'bad',\n",
       " 'kay',\n",
       " 'br',\n",
       " 'br',\n",
       " 'visually',\n",
       " 'impressive',\n",
       " 'course',\n",
       " 'michael',\n",
       " 'jackson',\n",
       " 'unless',\n",
       " 'remotely',\n",
       " 'like',\n",
       " 'mj',\n",
       " 'anyway',\n",
       " 'going',\n",
       " 'hate',\n",
       " 'find',\n",
       " 'boring',\n",
       " 'may',\n",
       " 'call',\n",
       " 'mj',\n",
       " 'egotist',\n",
       " 'consenting',\n",
       " 'making',\n",
       " 'movie',\n",
       " 'mj',\n",
       " 'fans',\n",
       " 'would',\n",
       " 'say',\n",
       " 'made',\n",
       " 'fans',\n",
       " 'true',\n",
       " 'really',\n",
       " 'nice',\n",
       " 'br',\n",
       " 'br',\n",
       " 'actual',\n",
       " 'feature',\n",
       " 'film',\n",
       " 'bit',\n",
       " 'finally',\n",
       " 'starts',\n",
       " 'minutes',\n",
       " 'excluding',\n",
       " 'smooth',\n",
       " 'criminal',\n",
       " 'sequence',\n",
       " 'joe',\n",
       " 'pesci',\n",
       " 'convincing',\n",
       " 'psychopathic',\n",
       " 'powerful',\n",
       " 'drug',\n",
       " 'lord',\n",
       " 'wants',\n",
       " 'mj',\n",
       " 'dead',\n",
       " 'bad',\n",
       " 'beyond',\n",
       " 'mj',\n",
       " 'overheard',\n",
       " 'plans',\n",
       " 'nah',\n",
       " 'joe',\n",
       " 'pesci',\n",
       " 'character',\n",
       " 'ranted',\n",
       " 'wanted',\n",
       " 'people',\n",
       " 'know',\n",
       " 'supplying',\n",
       " 'drugs',\n",
       " 'etc',\n",
       " 'dunno',\n",
       " 'maybe',\n",
       " 'hates',\n",
       " 'mj',\n",
       " 'music',\n",
       " 'br',\n",
       " 'br',\n",
       " 'lots',\n",
       " 'cool',\n",
       " 'things',\n",
       " 'like',\n",
       " 'mj',\n",
       " 'turning',\n",
       " 'car',\n",
       " 'robot',\n",
       " 'whole',\n",
       " 'speed',\n",
       " 'demon',\n",
       " 'sequence',\n",
       " 'also',\n",
       " 'director',\n",
       " 'must',\n",
       " 'patience',\n",
       " 'saint',\n",
       " 'came',\n",
       " 'filming',\n",
       " 'kiddy',\n",
       " 'bad',\n",
       " 'sequence',\n",
       " 'usually',\n",
       " 'directors',\n",
       " 'hate',\n",
       " 'working',\n",
       " 'one',\n",
       " 'kid',\n",
       " 'let',\n",
       " 'alone',\n",
       " 'whole',\n",
       " 'bunch',\n",
       " 'performing',\n",
       " 'complex',\n",
       " 'dance',\n",
       " 'scene',\n",
       " 'br',\n",
       " 'br',\n",
       " 'bottom',\n",
       " 'line',\n",
       " 'movie',\n",
       " 'people',\n",
       " 'like',\n",
       " 'mj',\n",
       " 'one',\n",
       " 'level',\n",
       " 'another',\n",
       " 'think',\n",
       " 'people',\n",
       " 'stay',\n",
       " 'away',\n",
       " 'try',\n",
       " 'give',\n",
       " 'wholesome',\n",
       " 'message',\n",
       " 'ironically',\n",
       " 'mj',\n",
       " 'bestest',\n",
       " 'buddy',\n",
       " 'movie',\n",
       " 'girl',\n",
       " 'michael',\n",
       " 'jackson',\n",
       " 'truly',\n",
       " 'one',\n",
       " 'talented',\n",
       " 'people',\n",
       " 'ever',\n",
       " 'grace',\n",
       " 'planet',\n",
       " 'guilty',\n",
       " 'well',\n",
       " 'attention',\n",
       " 'gave',\n",
       " 'subject',\n",
       " 'hmmm',\n",
       " 'well',\n",
       " 'know',\n",
       " 'people',\n",
       " 'different',\n",
       " 'behind',\n",
       " 'closed',\n",
       " 'doors',\n",
       " 'know',\n",
       " 'fact',\n",
       " 'either',\n",
       " 'extremely',\n",
       " 'nice',\n",
       " 'stupid',\n",
       " 'guy',\n",
       " 'one',\n",
       " 'sickest',\n",
       " 'liars',\n",
       " 'hope',\n",
       " 'latter']"
      ]
     },
     "execution_count": 42,
     "metadata": {},
     "output_type": "execute_result"
    }
   ],
   "source": [
    "# Test clean_text function\n",
    "x = nltk_df.loc[0,'review']\n",
    "test_clean = clean_text(nltk_reviews[0])\n",
    "test_clean"
   ]
  },
  {
   "cell_type": "code",
   "execution_count": 43,
   "id": "02deba72-8d69-49d9-953a-ebb406b4facb",
   "metadata": {},
   "outputs": [
    {
     "data": {
      "text/html": [
       "<div>\n",
       "<style scoped>\n",
       "    .dataframe tbody tr th:only-of-type {\n",
       "        vertical-align: middle;\n",
       "    }\n",
       "\n",
       "    .dataframe tbody tr th {\n",
       "        vertical-align: top;\n",
       "    }\n",
       "\n",
       "    .dataframe thead th {\n",
       "        text-align: right;\n",
       "    }\n",
       "</style>\n",
       "<table border=\"1\" class=\"dataframe\">\n",
       "  <thead>\n",
       "    <tr style=\"text-align: right;\">\n",
       "      <th></th>\n",
       "      <th>id</th>\n",
       "      <th>sentiment</th>\n",
       "      <th>review</th>\n",
       "      <th>clean_review</th>\n",
       "    </tr>\n",
       "  </thead>\n",
       "  <tbody>\n",
       "    <tr>\n",
       "      <th>0</th>\n",
       "      <td>5814_8</td>\n",
       "      <td>1</td>\n",
       "      <td>With all this stuff going down at the moment w...</td>\n",
       "      <td>[stuff, going, moment, mj, started, listening,...</td>\n",
       "    </tr>\n",
       "    <tr>\n",
       "      <th>1</th>\n",
       "      <td>2381_9</td>\n",
       "      <td>1</td>\n",
       "      <td>\\The Classic War of the Worlds\\\" by Timothy Hi...</td>\n",
       "      <td>[classic, war, worlds, timothy, hines, enterta...</td>\n",
       "    </tr>\n",
       "    <tr>\n",
       "      <th>2</th>\n",
       "      <td>7759_3</td>\n",
       "      <td>0</td>\n",
       "      <td>The film starts with a manager (Nicholas Bell)...</td>\n",
       "      <td>[film, starts, manager, nicholas, bell, giving...</td>\n",
       "    </tr>\n",
       "    <tr>\n",
       "      <th>3</th>\n",
       "      <td>3630_4</td>\n",
       "      <td>0</td>\n",
       "      <td>It must be assumed that those who praised this...</td>\n",
       "      <td>[must, assumed, praised, film, greatest, filme...</td>\n",
       "    </tr>\n",
       "    <tr>\n",
       "      <th>4</th>\n",
       "      <td>9495_8</td>\n",
       "      <td>1</td>\n",
       "      <td>Superbly trashy and wondrously unpretentious 8...</td>\n",
       "      <td>[superbly, trashy, wondrously, unpretentious, ...</td>\n",
       "    </tr>\n",
       "    <tr>\n",
       "      <th>...</th>\n",
       "      <td>...</td>\n",
       "      <td>...</td>\n",
       "      <td>...</td>\n",
       "      <td>...</td>\n",
       "    </tr>\n",
       "    <tr>\n",
       "      <th>24995</th>\n",
       "      <td>3453_3</td>\n",
       "      <td>0</td>\n",
       "      <td>It seems like more consideration has gone into...</td>\n",
       "      <td>[seems, like, consideration, gone, imdb, revie...</td>\n",
       "    </tr>\n",
       "    <tr>\n",
       "      <th>24996</th>\n",
       "      <td>5064_1</td>\n",
       "      <td>0</td>\n",
       "      <td>I don't believe they made this film. Completel...</td>\n",
       "      <td>[believe, made, film, completely, unnecessary,...</td>\n",
       "    </tr>\n",
       "    <tr>\n",
       "      <th>24997</th>\n",
       "      <td>10905_3</td>\n",
       "      <td>0</td>\n",
       "      <td>Guy is a loser. Can't get girls, needs to buil...</td>\n",
       "      <td>[guy, loser, get, girls, needs, build, picked,...</td>\n",
       "    </tr>\n",
       "    <tr>\n",
       "      <th>24998</th>\n",
       "      <td>10194_3</td>\n",
       "      <td>0</td>\n",
       "      <td>This 30 minute documentary Buñuel made in the ...</td>\n",
       "      <td>[minute, documentary, bu, uel, made, early, on...</td>\n",
       "    </tr>\n",
       "    <tr>\n",
       "      <th>24999</th>\n",
       "      <td>8478_8</td>\n",
       "      <td>1</td>\n",
       "      <td>I saw this movie as a child and it broke my he...</td>\n",
       "      <td>[saw, movie, child, broke, heart, story, unfin...</td>\n",
       "    </tr>\n",
       "  </tbody>\n",
       "</table>\n",
       "<p>25000 rows × 4 columns</p>\n",
       "</div>"
      ],
      "text/plain": [
       "            id  sentiment                                             review  \\\n",
       "0       5814_8          1  With all this stuff going down at the moment w...   \n",
       "1       2381_9          1  \\The Classic War of the Worlds\\\" by Timothy Hi...   \n",
       "2       7759_3          0  The film starts with a manager (Nicholas Bell)...   \n",
       "3       3630_4          0  It must be assumed that those who praised this...   \n",
       "4       9495_8          1  Superbly trashy and wondrously unpretentious 8...   \n",
       "...        ...        ...                                                ...   \n",
       "24995   3453_3          0  It seems like more consideration has gone into...   \n",
       "24996   5064_1          0  I don't believe they made this film. Completel...   \n",
       "24997  10905_3          0  Guy is a loser. Can't get girls, needs to buil...   \n",
       "24998  10194_3          0  This 30 minute documentary Buñuel made in the ...   \n",
       "24999   8478_8          1  I saw this movie as a child and it broke my he...   \n",
       "\n",
       "                                            clean_review  \n",
       "0      [stuff, going, moment, mj, started, listening,...  \n",
       "1      [classic, war, worlds, timothy, hines, enterta...  \n",
       "2      [film, starts, manager, nicholas, bell, giving...  \n",
       "3      [must, assumed, praised, film, greatest, filme...  \n",
       "4      [superbly, trashy, wondrously, unpretentious, ...  \n",
       "...                                                  ...  \n",
       "24995  [seems, like, consideration, gone, imdb, revie...  \n",
       "24996  [believe, made, film, completely, unnecessary,...  \n",
       "24997  [guy, loser, get, girls, needs, build, picked,...  \n",
       "24998  [minute, documentary, bu, uel, made, early, on...  \n",
       "24999  [saw, movie, child, broke, heart, story, unfin...  \n",
       "\n",
       "[25000 rows x 4 columns]"
      ]
     },
     "execution_count": 43,
     "metadata": {},
     "output_type": "execute_result"
    }
   ],
   "source": [
    "nltk_df['clean_review'] = nltk_df['review'].apply(clean_text)\n",
    "nltk_df"
   ]
  },
  {
   "cell_type": "markdown",
   "id": "b4ebd1e2-943a-4b57-962e-fb4024a5f53a",
   "metadata": {},
   "source": [
    "## Step 4: Apply NLTK's PorterStemmer"
   ]
  },
  {
   "cell_type": "code",
   "execution_count": 44,
   "id": "a31f95fb-1ef9-49b6-b77b-c0f4e4b52c6f",
   "metadata": {},
   "outputs": [],
   "source": [
    "# Create a stemmer\n",
    "porter = PorterStemmer()\n",
    "\n",
    "nltk_df['stemmed_review'] = nltk_df['clean_review'].apply(lambda word_list: [porter.stem(word) for word in word_list])\n",
    "nltk_df['stemmed_review'] = nltk_df['stemmed_review'].apply(lambda word: ' '.join(word))"
   ]
  },
  {
   "cell_type": "code",
   "execution_count": 45,
   "id": "46aeae5a-0c6f-4de4-818f-1a5f0f14d7dc",
   "metadata": {},
   "outputs": [
    {
     "data": {
      "text/html": [
       "<div>\n",
       "<style scoped>\n",
       "    .dataframe tbody tr th:only-of-type {\n",
       "        vertical-align: middle;\n",
       "    }\n",
       "\n",
       "    .dataframe tbody tr th {\n",
       "        vertical-align: top;\n",
       "    }\n",
       "\n",
       "    .dataframe thead th {\n",
       "        text-align: right;\n",
       "    }\n",
       "</style>\n",
       "<table border=\"1\" class=\"dataframe\">\n",
       "  <thead>\n",
       "    <tr style=\"text-align: right;\">\n",
       "      <th></th>\n",
       "      <th>id</th>\n",
       "      <th>sentiment</th>\n",
       "      <th>review</th>\n",
       "      <th>clean_review</th>\n",
       "      <th>stemmed_review</th>\n",
       "    </tr>\n",
       "  </thead>\n",
       "  <tbody>\n",
       "    <tr>\n",
       "      <th>0</th>\n",
       "      <td>5814_8</td>\n",
       "      <td>1</td>\n",
       "      <td>With all this stuff going down at the moment w...</td>\n",
       "      <td>[stuff, going, moment, mj, started, listening,...</td>\n",
       "      <td>stuff go moment mj start listen music watch od...</td>\n",
       "    </tr>\n",
       "    <tr>\n",
       "      <th>1</th>\n",
       "      <td>2381_9</td>\n",
       "      <td>1</td>\n",
       "      <td>\\The Classic War of the Worlds\\\" by Timothy Hi...</td>\n",
       "      <td>[classic, war, worlds, timothy, hines, enterta...</td>\n",
       "      <td>classic war world timothi hine entertain film ...</td>\n",
       "    </tr>\n",
       "    <tr>\n",
       "      <th>2</th>\n",
       "      <td>7759_3</td>\n",
       "      <td>0</td>\n",
       "      <td>The film starts with a manager (Nicholas Bell)...</td>\n",
       "      <td>[film, starts, manager, nicholas, bell, giving...</td>\n",
       "      <td>film start manag nichola bell give welcom inve...</td>\n",
       "    </tr>\n",
       "    <tr>\n",
       "      <th>3</th>\n",
       "      <td>3630_4</td>\n",
       "      <td>0</td>\n",
       "      <td>It must be assumed that those who praised this...</td>\n",
       "      <td>[must, assumed, praised, film, greatest, filme...</td>\n",
       "      <td>must assum prais film greatest film opera ever...</td>\n",
       "    </tr>\n",
       "    <tr>\n",
       "      <th>4</th>\n",
       "      <td>9495_8</td>\n",
       "      <td>1</td>\n",
       "      <td>Superbly trashy and wondrously unpretentious 8...</td>\n",
       "      <td>[superbly, trashy, wondrously, unpretentious, ...</td>\n",
       "      <td>superbl trashi wondrous unpretenti exploit hoo...</td>\n",
       "    </tr>\n",
       "    <tr>\n",
       "      <th>...</th>\n",
       "      <td>...</td>\n",
       "      <td>...</td>\n",
       "      <td>...</td>\n",
       "      <td>...</td>\n",
       "      <td>...</td>\n",
       "    </tr>\n",
       "    <tr>\n",
       "      <th>24995</th>\n",
       "      <td>3453_3</td>\n",
       "      <td>0</td>\n",
       "      <td>It seems like more consideration has gone into...</td>\n",
       "      <td>[seems, like, consideration, gone, imdb, revie...</td>\n",
       "      <td>seem like consider gone imdb review film went ...</td>\n",
       "    </tr>\n",
       "    <tr>\n",
       "      <th>24996</th>\n",
       "      <td>5064_1</td>\n",
       "      <td>0</td>\n",
       "      <td>I don't believe they made this film. Completel...</td>\n",
       "      <td>[believe, made, film, completely, unnecessary,...</td>\n",
       "      <td>believ made film complet unnecessari first fil...</td>\n",
       "    </tr>\n",
       "    <tr>\n",
       "      <th>24997</th>\n",
       "      <td>10905_3</td>\n",
       "      <td>0</td>\n",
       "      <td>Guy is a loser. Can't get girls, needs to buil...</td>\n",
       "      <td>[guy, loser, get, girls, needs, build, picked,...</td>\n",
       "      <td>guy loser get girl need build pick stronger su...</td>\n",
       "    </tr>\n",
       "    <tr>\n",
       "      <th>24998</th>\n",
       "      <td>10194_3</td>\n",
       "      <td>0</td>\n",
       "      <td>This 30 minute documentary Buñuel made in the ...</td>\n",
       "      <td>[minute, documentary, bu, uel, made, early, on...</td>\n",
       "      <td>minut documentari bu uel made earli one spain ...</td>\n",
       "    </tr>\n",
       "    <tr>\n",
       "      <th>24999</th>\n",
       "      <td>8478_8</td>\n",
       "      <td>1</td>\n",
       "      <td>I saw this movie as a child and it broke my he...</td>\n",
       "      <td>[saw, movie, child, broke, heart, story, unfin...</td>\n",
       "      <td>saw movi child broke heart stori unfinish end ...</td>\n",
       "    </tr>\n",
       "  </tbody>\n",
       "</table>\n",
       "<p>25000 rows × 5 columns</p>\n",
       "</div>"
      ],
      "text/plain": [
       "            id  sentiment                                             review  \\\n",
       "0       5814_8          1  With all this stuff going down at the moment w...   \n",
       "1       2381_9          1  \\The Classic War of the Worlds\\\" by Timothy Hi...   \n",
       "2       7759_3          0  The film starts with a manager (Nicholas Bell)...   \n",
       "3       3630_4          0  It must be assumed that those who praised this...   \n",
       "4       9495_8          1  Superbly trashy and wondrously unpretentious 8...   \n",
       "...        ...        ...                                                ...   \n",
       "24995   3453_3          0  It seems like more consideration has gone into...   \n",
       "24996   5064_1          0  I don't believe they made this film. Completel...   \n",
       "24997  10905_3          0  Guy is a loser. Can't get girls, needs to buil...   \n",
       "24998  10194_3          0  This 30 minute documentary Buñuel made in the ...   \n",
       "24999   8478_8          1  I saw this movie as a child and it broke my he...   \n",
       "\n",
       "                                            clean_review  \\\n",
       "0      [stuff, going, moment, mj, started, listening,...   \n",
       "1      [classic, war, worlds, timothy, hines, enterta...   \n",
       "2      [film, starts, manager, nicholas, bell, giving...   \n",
       "3      [must, assumed, praised, film, greatest, filme...   \n",
       "4      [superbly, trashy, wondrously, unpretentious, ...   \n",
       "...                                                  ...   \n",
       "24995  [seems, like, consideration, gone, imdb, revie...   \n",
       "24996  [believe, made, film, completely, unnecessary,...   \n",
       "24997  [guy, loser, get, girls, needs, build, picked,...   \n",
       "24998  [minute, documentary, bu, uel, made, early, on...   \n",
       "24999  [saw, movie, child, broke, heart, story, unfin...   \n",
       "\n",
       "                                          stemmed_review  \n",
       "0      stuff go moment mj start listen music watch od...  \n",
       "1      classic war world timothi hine entertain film ...  \n",
       "2      film start manag nichola bell give welcom inve...  \n",
       "3      must assum prais film greatest film opera ever...  \n",
       "4      superbl trashi wondrous unpretenti exploit hoo...  \n",
       "...                                                  ...  \n",
       "24995  seem like consider gone imdb review film went ...  \n",
       "24996  believ made film complet unnecessari first fil...  \n",
       "24997  guy loser get girl need build pick stronger su...  \n",
       "24998  minut documentari bu uel made earli one spain ...  \n",
       "24999  saw movi child broke heart stori unfinish end ...  \n",
       "\n",
       "[25000 rows x 5 columns]"
      ]
     },
     "execution_count": 45,
     "metadata": {},
     "output_type": "execute_result"
    }
   ],
   "source": [
    "nltk_df"
   ]
  },
  {
   "cell_type": "markdown",
   "id": "f246a17e-edbe-467e-b314-46870032c8e4",
   "metadata": {},
   "source": [
    "## Create a Bag of Words Matrix\n",
    "Create a bag-of-words matrix from your stemmed text (output from (4)) where each row is a word-count vector for a single movie review (see sections 5.3 & 6.8 in the Machine Learning with Python Cookbook). Display the dimensions of your bag-of-words matrix. The number of rows in this matrix should be the same as the number of rows in your original data frame."
   ]
  },
  {
   "cell_type": "code",
   "execution_count": 46,
   "id": "2d38fe68-ce06-4674-b266-259cf5ce2c85",
   "metadata": {},
   "outputs": [],
   "source": [
    "# Create a bag of words\n",
    "count = CountVectorizer()\n",
    "bag_of_words = count.fit_transform(nltk_df['stemmed_review'])"
   ]
  },
  {
   "cell_type": "code",
   "execution_count": 47,
   "id": "e69a129c-7cc4-46f0-ae78-7d175e54bba9",
   "metadata": {},
   "outputs": [
    {
     "data": {
      "text/plain": [
       "<25000x49642 sparse matrix of type '<class 'numpy.int64'>'\n",
       "\twith 2361996 stored elements in Compressed Sparse Row format>"
      ]
     },
     "execution_count": 47,
     "metadata": {},
     "output_type": "execute_result"
    }
   ],
   "source": [
    "# Check bag of words output\n",
    "bag_of_words"
   ]
  },
  {
   "cell_type": "markdown",
   "id": "68783e59-e798-4c26-88c1-a192158f933f",
   "metadata": {},
   "source": [
    "## Display the dimensions of the bag of words matrix"
   ]
  },
  {
   "cell_type": "code",
   "execution_count": 48,
   "id": "daceaf97-ee00-4d10-81c3-244445760bf3",
   "metadata": {},
   "outputs": [
    {
     "name": "stdout",
     "output_type": "stream",
     "text": [
      "There are 25000 rows and 49642 columns in the bag of words.\n"
     ]
    }
   ],
   "source": [
    "# Display the dimensions of the bag of words matrix\n",
    "print(f\"There are {bag_of_words.shape[0]} rows and {bag_of_words.shape[1]} columns in the bag of words.\")"
   ]
  },
  {
   "cell_type": "code",
   "execution_count": 49,
   "id": "dcb43dca-4581-4810-9152-9d3cdbc7b130",
   "metadata": {},
   "outputs": [],
   "source": [
    "# The number of rows in this matrix should be the same number of rows in your original dataframe. \n",
    "assert(nltk_df.shape[0] == bag_of_words.shape[0])"
   ]
  },
  {
   "cell_type": "code",
   "execution_count": 3,
   "id": "4286fe79-16f3-408a-8304-97f6510c0a4f",
   "metadata": {},
   "outputs": [],
   "source": [
    "# View the vocabulary of the bag of words matrix\n",
    "# This provides a list of feature names and their indices. \n",
    "#count.vocabulary_"
   ]
  },
  {
   "cell_type": "code",
   "execution_count": 38,
   "id": "b5d658e9-809d-4ddc-a2c1-e107dbb1df16",
   "metadata": {},
   "outputs": [
    {
     "name": "stdout",
     "output_type": "stream",
     "text": [
      "CPU times: user 5min 42s, sys: 10.7 s, total: 5min 53s\n",
      "Wall time: 5min 57s\n"
     ]
    }
   ],
   "source": [
    "%%time\n",
    "dense_dict = [dict(zip(count.get_feature_names_out(), row)) for row in bag_of_words.toarray()]"
   ]
  },
  {
   "cell_type": "code",
   "execution_count": 39,
   "id": "86acbdbe-9f3c-42de-8bef-7e24caa386bd",
   "metadata": {},
   "outputs": [
    {
     "name": "stdout",
     "output_type": "stream",
     "text": [
      "CPU times: user 8min 24s, sys: 47.7 s, total: 9min 12s\n",
      "Wall time: 9min 41s\n"
     ]
    }
   ],
   "source": [
    "%%time\n",
    "# Create a sparse dict_vectorizer to create a feature matrix from our bag of words\n",
    "dict_vectorizer = DictVectorizer(sparse=True)\n",
    "cv_feature_matrix = dict_vectorizer.fit_transform(dense_dict)"
   ]
  },
  {
   "cell_type": "markdown",
   "id": "86c014fd-640d-44a1-a39e-ed6843c249e7",
   "metadata": {},
   "source": [
    "## Chunking\n",
    "That was a taxing operation, let's see how it goes with chunking.\n"
   ]
  },
  {
   "cell_type": "code",
   "execution_count": 52,
   "id": "5f0f0b9d-70fd-448a-922f-fecf043a4c34",
   "metadata": {},
   "outputs": [],
   "source": [
    "nltk_df.to_csv(\"nltk_df.csv\")"
   ]
  },
  {
   "cell_type": "code",
   "execution_count": 59,
   "id": "84d1bfd7-6674-4f7f-8ad6-135a04c747f1",
   "metadata": {},
   "outputs": [
    {
     "name": "stdout",
     "output_type": "stream",
     "text": [
      "CPU times: user 1min 14s, sys: 2.74 s, total: 1min 17s\n",
      "Wall time: 1min 17s\n"
     ]
    }
   ],
   "source": [
    "%%time\n",
    "corpus = nltk_df['stemmed_review']\n",
    "chunk_size = 1000\n",
    "count_vec = CountVectorizer()\n",
    "dense_dict_list = []\n",
    "\n",
    "for chunk in pd.read_csv('nltk_df.csv', chunksize=chunk_size, usecols=['stemmed_review']):\n",
    "    # Transform the chunk into a sparse matrix\n",
    "    X_chunk = count_vec.fit_transform(chunk['stemmed_review'])\n",
    "\n",
    "    # Convert the matrix into a dense_dict\n",
    "    dense_dict_chunk = [dict(zip(count_vec.get_feature_names_out(), row)) for row in X_chunk.toarray()]\n",
    "\n",
    "    # Append the dense_dict to the dense_dict_list\n",
    "    dense_dict_list.extend(dense_dict_chunk)\n"
   ]
  },
  {
   "cell_type": "markdown",
   "id": "a3697df9-c44f-468e-9ecf-35f95393e0d4",
   "metadata": {},
   "source": [
    "## Step 6: Create a Term Frequency Inverse Document Frequency Matrix\n",
    "\n",
    "Create a term frequency-inverse document frequency (tf-idf) matrix from your stemmed text, for your movie reviews (see section 6.9 in the Machine Learning with Python Cookbook). Display the dimensions of your tf-idf matrix. These dimensions should be the same as your bag-of-words matrix."
   ]
  },
  {
   "cell_type": "code",
   "execution_count": 61,
   "id": "b91318db-85be-4242-a030-820230f0d2f6",
   "metadata": {},
   "outputs": [],
   "source": [
    "tfidf = TfidfVectorizer()\n",
    "feature_matrix = tfidf.fit_transform(nltk_df['stemmed_review'])"
   ]
  },
  {
   "cell_type": "code",
   "execution_count": 62,
   "id": "b8571a5b-3449-42af-b071-e785459905dc",
   "metadata": {},
   "outputs": [
    {
     "data": {
      "text/plain": [
       "<25000x49642 sparse matrix of type '<class 'numpy.float64'>'\n",
       "\twith 2361996 stored elements in Compressed Sparse Row format>"
      ]
     },
     "execution_count": 62,
     "metadata": {},
     "output_type": "execute_result"
    }
   ],
   "source": [
    "feature_matrix"
   ]
  },
  {
   "cell_type": "code",
   "execution_count": 63,
   "id": "4355f4a9-3525-4f94-8dae-74e64014cfb7",
   "metadata": {},
   "outputs": [
    {
     "name": "stdout",
     "output_type": "stream",
     "text": [
      "There are 25000 rows and 49642 columns in the feature matrix.\n"
     ]
    }
   ],
   "source": [
    "## Display the dimensions of the feature matrix, these should be the same as your bag of words matrix\n",
    "print(f\"There are {feature_matrix.shape[0]} rows and {feature_matrix.shape[1]} columns in the feature matrix.\")\n",
    "assert(feature_matrix.shape == bag_of_words.shape)"
   ]
  },
  {
   "cell_type": "code",
   "execution_count": 4,
   "id": "07bc1b3c-bf2e-4839-bcff-2b55c3dbb2a8",
   "metadata": {},
   "outputs": [],
   "source": [
    "# View the vocabulary of the tfidf matrix\n",
    "#tfidf.vocabulary_"
   ]
  },
  {
   "cell_type": "markdown",
   "id": "c067e665-bc78-4fdc-b3ac-f2131e545501",
   "metadata": {},
   "source": [
    "## Conclusion\n",
    "\n",
    "This was a good lesson for learning more about preprocessing text data, classifying text data with different models, and working with Bag of Words and Term Frequency Inverse Document Frequency matrices. \n",
    "\n",
    "I took the opportunity to learn more about working with large datasets using chunking and created a feature matrix using a DictVectorizer on the Bag of Words matrix. "
   ]
  }
 ],
 "metadata": {
  "kernelspec": {
   "display_name": "Python 3 (ipykernel)",
   "language": "python",
   "name": "python3"
  },
  "language_info": {
   "codemirror_mode": {
    "name": "ipython",
    "version": 3
   },
   "file_extension": ".py",
   "mimetype": "text/x-python",
   "name": "python",
   "nbconvert_exporter": "python",
   "pygments_lexer": "ipython3",
   "version": "3.10.12"
  }
 },
 "nbformat": 4,
 "nbformat_minor": 5
}
