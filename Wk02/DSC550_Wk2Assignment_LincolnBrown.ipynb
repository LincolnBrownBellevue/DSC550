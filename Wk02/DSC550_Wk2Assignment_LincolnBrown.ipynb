{
 "cells": [
  {
   "cell_type": "markdown",
   "id": "c979fd45-edd1-4e8d-a710-f9cef64b6330",
   "metadata": {},
   "source": [
    "## DSC 550-T302\n",
    "## Week 2 Assignment\n",
    "## Lincoln Brown\n",
    "## Professor Werner"
   ]
  },
  {
   "cell_type": "markdown",
   "id": "0e98fcd0-408d-45c4-a19d-b891ab55d020",
   "metadata": {},
   "source": [
    "## Adult or Census Income Dataset\n",
    "### https://archive.ics.uci.edu/dataset/2/adult\n",
    "\n",
    "For the assignment this week, we will be working with the adult dataset also known as the Census Income Dataset. \n",
    "This dataset was extracted from the 1994 Census database by Barry Becker. \n",
    "\n",
    "This dataset was designed for predicting whether a person's income will be over $50K a year. The dataset is likely to be imbalanced and not an adequate representative respresentation of the enitre population. However, it will be good to look at the characteristics of the dataset and understand how the different attributes are distributed to see just how imbalanced it is. \n",
    "\n",
    "I chose this dataset because it contains attributes including education level, income, age, and job type. I want to investigate the relationship between education level and other demographic attributes. I also want to investigate the factors that are used in predicting income levels. Predicting whether income is above or below $50k is the primary use of the dataset, but I will not be doing that at this time. Creating data visualizations will help me explore this dataset more clearly and I will primarily be focusing on bar graphs, box plots, and a pie chart to accomplish this.  \n",
    "\n"
   ]
  },
  {
   "cell_type": "code",
   "execution_count": 1,
   "id": "b112a15a-3f74-4703-a3e8-cc75e82f5237",
   "metadata": {},
   "outputs": [],
   "source": [
    "# Import libraries \n",
    "import matplotlib.pyplot as plt\n",
    "import numpy as np\n",
    "import pandas as pd\n",
    "import re\n",
    "import seaborn as sns"
   ]
  },
  {
   "cell_type": "code",
   "execution_count": 2,
   "id": "fa7d73fd-ad82-49d9-bd05-7b37bebad819",
   "metadata": {},
   "outputs": [],
   "source": [
    "# Load adult.names file to extract column names\n",
    "names_file = \"adult.names\"\n",
    "with open(names_file, 'r') as data:\n",
    "    names_data = data.readlines()"
   ]
  },
  {
   "cell_type": "markdown",
   "id": "af520f9f-569a-4b73-a639-1a6c8f126df3",
   "metadata": {},
   "source": [
    "## Add headers to the dataframe\n",
    "We need to add headers to the dataframe. To do this, we will extract them from the names text file that accompanies the dataset. After working with the file, I realized that the income column header was missing, so I went ahead and added it to the text file to make the process consistent."
   ]
  },
  {
   "cell_type": "code",
   "execution_count": 3,
   "id": "0d87b4f1-0706-47cb-947d-bd3257d78e3a",
   "metadata": {},
   "outputs": [
    {
     "name": "stdout",
     "output_type": "stream",
     "text": [
      "['age', 'workclass', 'fnlwgt', 'education', 'education-num', 'marital-status', 'occupation', 'relationship', 'race', 'sex', 'capital-gain', 'capital-loss', 'hours-per-week', 'native-country', 'income']\n"
     ]
    }
   ],
   "source": [
    "# The column names are contained in the last 15 lines of the text file\n",
    "# Each column name ends with a colon, some of them also contain hyphens\n",
    "# We will use regex to extract based on this pattern\n",
    "col_names = []\n",
    "#pattern = re.compile(r'\\w+(?:-\\w+)?:')\n",
    "pattern = re.compile(r'\\w+(?:-\\w+)?(?:-\\w+)?:')\n",
    "for line in names_data[-15:]:\n",
    "    col_name = pattern.findall(line)\n",
    "    if len(col_name) > 0:\n",
    "        col_names.append(str(col_name[0]).strip(':'))\n",
    "\n",
    "print(col_names)"
   ]
  },
  {
   "cell_type": "code",
   "execution_count": 4,
   "id": "d3a7814c-f3af-4ecb-8299-45d2704c48dd",
   "metadata": {},
   "outputs": [
    {
     "data": {
      "text/html": [
       "<div>\n",
       "<style scoped>\n",
       "    .dataframe tbody tr th:only-of-type {\n",
       "        vertical-align: middle;\n",
       "    }\n",
       "\n",
       "    .dataframe tbody tr th {\n",
       "        vertical-align: top;\n",
       "    }\n",
       "\n",
       "    .dataframe thead th {\n",
       "        text-align: right;\n",
       "    }\n",
       "</style>\n",
       "<table border=\"1\" class=\"dataframe\">\n",
       "  <thead>\n",
       "    <tr style=\"text-align: right;\">\n",
       "      <th></th>\n",
       "      <th>age</th>\n",
       "      <th>workclass</th>\n",
       "      <th>fnlwgt</th>\n",
       "      <th>education</th>\n",
       "      <th>education-num</th>\n",
       "      <th>marital-status</th>\n",
       "      <th>occupation</th>\n",
       "      <th>relationship</th>\n",
       "      <th>race</th>\n",
       "      <th>sex</th>\n",
       "      <th>capital-gain</th>\n",
       "      <th>capital-loss</th>\n",
       "      <th>hours-per-week</th>\n",
       "      <th>native-country</th>\n",
       "      <th>income</th>\n",
       "    </tr>\n",
       "  </thead>\n",
       "  <tbody>\n",
       "    <tr>\n",
       "      <th>0</th>\n",
       "      <td>39</td>\n",
       "      <td>State-gov</td>\n",
       "      <td>77516</td>\n",
       "      <td>Bachelors</td>\n",
       "      <td>13</td>\n",
       "      <td>Never-married</td>\n",
       "      <td>Adm-clerical</td>\n",
       "      <td>Not-in-family</td>\n",
       "      <td>White</td>\n",
       "      <td>Male</td>\n",
       "      <td>2174</td>\n",
       "      <td>0</td>\n",
       "      <td>40</td>\n",
       "      <td>United-States</td>\n",
       "      <td>&lt;=50K</td>\n",
       "    </tr>\n",
       "    <tr>\n",
       "      <th>1</th>\n",
       "      <td>50</td>\n",
       "      <td>Self-emp-not-inc</td>\n",
       "      <td>83311</td>\n",
       "      <td>Bachelors</td>\n",
       "      <td>13</td>\n",
       "      <td>Married-civ-spouse</td>\n",
       "      <td>Exec-managerial</td>\n",
       "      <td>Husband</td>\n",
       "      <td>White</td>\n",
       "      <td>Male</td>\n",
       "      <td>0</td>\n",
       "      <td>0</td>\n",
       "      <td>13</td>\n",
       "      <td>United-States</td>\n",
       "      <td>&lt;=50K</td>\n",
       "    </tr>\n",
       "    <tr>\n",
       "      <th>2</th>\n",
       "      <td>38</td>\n",
       "      <td>Private</td>\n",
       "      <td>215646</td>\n",
       "      <td>HS-grad</td>\n",
       "      <td>9</td>\n",
       "      <td>Divorced</td>\n",
       "      <td>Handlers-cleaners</td>\n",
       "      <td>Not-in-family</td>\n",
       "      <td>White</td>\n",
       "      <td>Male</td>\n",
       "      <td>0</td>\n",
       "      <td>0</td>\n",
       "      <td>40</td>\n",
       "      <td>United-States</td>\n",
       "      <td>&lt;=50K</td>\n",
       "    </tr>\n",
       "    <tr>\n",
       "      <th>3</th>\n",
       "      <td>53</td>\n",
       "      <td>Private</td>\n",
       "      <td>234721</td>\n",
       "      <td>11th</td>\n",
       "      <td>7</td>\n",
       "      <td>Married-civ-spouse</td>\n",
       "      <td>Handlers-cleaners</td>\n",
       "      <td>Husband</td>\n",
       "      <td>Black</td>\n",
       "      <td>Male</td>\n",
       "      <td>0</td>\n",
       "      <td>0</td>\n",
       "      <td>40</td>\n",
       "      <td>United-States</td>\n",
       "      <td>&lt;=50K</td>\n",
       "    </tr>\n",
       "    <tr>\n",
       "      <th>4</th>\n",
       "      <td>28</td>\n",
       "      <td>Private</td>\n",
       "      <td>338409</td>\n",
       "      <td>Bachelors</td>\n",
       "      <td>13</td>\n",
       "      <td>Married-civ-spouse</td>\n",
       "      <td>Prof-specialty</td>\n",
       "      <td>Wife</td>\n",
       "      <td>Black</td>\n",
       "      <td>Female</td>\n",
       "      <td>0</td>\n",
       "      <td>0</td>\n",
       "      <td>40</td>\n",
       "      <td>Cuba</td>\n",
       "      <td>&lt;=50K</td>\n",
       "    </tr>\n",
       "  </tbody>\n",
       "</table>\n",
       "</div>"
      ],
      "text/plain": [
       "   age          workclass  fnlwgt   education  education-num  \\\n",
       "0   39          State-gov   77516   Bachelors             13   \n",
       "1   50   Self-emp-not-inc   83311   Bachelors             13   \n",
       "2   38            Private  215646     HS-grad              9   \n",
       "3   53            Private  234721        11th              7   \n",
       "4   28            Private  338409   Bachelors             13   \n",
       "\n",
       "        marital-status          occupation    relationship    race      sex  \\\n",
       "0        Never-married        Adm-clerical   Not-in-family   White     Male   \n",
       "1   Married-civ-spouse     Exec-managerial         Husband   White     Male   \n",
       "2             Divorced   Handlers-cleaners   Not-in-family   White     Male   \n",
       "3   Married-civ-spouse   Handlers-cleaners         Husband   Black     Male   \n",
       "4   Married-civ-spouse      Prof-specialty            Wife   Black   Female   \n",
       "\n",
       "   capital-gain  capital-loss  hours-per-week  native-country  income  \n",
       "0          2174             0              40   United-States   <=50K  \n",
       "1             0             0              13   United-States   <=50K  \n",
       "2             0             0              40   United-States   <=50K  \n",
       "3             0             0              40   United-States   <=50K  \n",
       "4             0             0              40            Cuba   <=50K  "
      ]
     },
     "execution_count": 4,
     "metadata": {},
     "output_type": "execute_result"
    }
   ],
   "source": [
    "# Load the adult.data dataframe using the pd.read_csv function.\n",
    "# We will also specify the headers at this time\n",
    "data_file = \"adult.data\"\n",
    "#adult_df = pd.read_csv(data_file, header=None)\n",
    "adult_df = pd.read_csv(data_file, header=None)\n",
    "adult_df.columns = col_names\n",
    "adult_df.head()"
   ]
  },
  {
   "cell_type": "code",
   "execution_count": 5,
   "id": "44248dca-75d3-4f04-bb39-19c790c57066",
   "metadata": {},
   "outputs": [
    {
     "name": "stdout",
     "output_type": "stream",
     "text": [
      "There are 32561 rows and 15 columns in this dataset\n"
     ]
    }
   ],
   "source": [
    "print(f\"There are {adult_df.shape[0]} rows and {adult_df.shape[1]} columns in this dataset\")"
   ]
  },
  {
   "cell_type": "markdown",
   "id": "45ba4a47-7dd2-4809-b5bc-06f80d87907d",
   "metadata": {},
   "source": [
    "## Describe the dataset\n",
    "Looking at the descriptive statistics of the quantitative columns, we can see that the mean age is 38, the mean number of hours per week is 43, and mean grade attained is 10 (more on this later). "
   ]
  },
  {
   "cell_type": "code",
   "execution_count": 6,
   "id": "62f58d3f-7754-405d-8475-1646993a286a",
   "metadata": {},
   "outputs": [
    {
     "data": {
      "text/html": [
       "<div>\n",
       "<style scoped>\n",
       "    .dataframe tbody tr th:only-of-type {\n",
       "        vertical-align: middle;\n",
       "    }\n",
       "\n",
       "    .dataframe tbody tr th {\n",
       "        vertical-align: top;\n",
       "    }\n",
       "\n",
       "    .dataframe thead th {\n",
       "        text-align: right;\n",
       "    }\n",
       "</style>\n",
       "<table border=\"1\" class=\"dataframe\">\n",
       "  <thead>\n",
       "    <tr style=\"text-align: right;\">\n",
       "      <th></th>\n",
       "      <th>age</th>\n",
       "      <th>fnlwgt</th>\n",
       "      <th>education-num</th>\n",
       "      <th>capital-gain</th>\n",
       "      <th>capital-loss</th>\n",
       "      <th>hours-per-week</th>\n",
       "    </tr>\n",
       "  </thead>\n",
       "  <tbody>\n",
       "    <tr>\n",
       "      <th>count</th>\n",
       "      <td>32561.000000</td>\n",
       "      <td>3.256100e+04</td>\n",
       "      <td>32561.000000</td>\n",
       "      <td>32561.000000</td>\n",
       "      <td>32561.000000</td>\n",
       "      <td>32561.000000</td>\n",
       "    </tr>\n",
       "    <tr>\n",
       "      <th>mean</th>\n",
       "      <td>38.581647</td>\n",
       "      <td>1.897784e+05</td>\n",
       "      <td>10.080679</td>\n",
       "      <td>1077.648844</td>\n",
       "      <td>87.303830</td>\n",
       "      <td>40.437456</td>\n",
       "    </tr>\n",
       "    <tr>\n",
       "      <th>std</th>\n",
       "      <td>13.640433</td>\n",
       "      <td>1.055500e+05</td>\n",
       "      <td>2.572720</td>\n",
       "      <td>7385.292085</td>\n",
       "      <td>402.960219</td>\n",
       "      <td>12.347429</td>\n",
       "    </tr>\n",
       "    <tr>\n",
       "      <th>min</th>\n",
       "      <td>17.000000</td>\n",
       "      <td>1.228500e+04</td>\n",
       "      <td>1.000000</td>\n",
       "      <td>0.000000</td>\n",
       "      <td>0.000000</td>\n",
       "      <td>1.000000</td>\n",
       "    </tr>\n",
       "    <tr>\n",
       "      <th>25%</th>\n",
       "      <td>28.000000</td>\n",
       "      <td>1.178270e+05</td>\n",
       "      <td>9.000000</td>\n",
       "      <td>0.000000</td>\n",
       "      <td>0.000000</td>\n",
       "      <td>40.000000</td>\n",
       "    </tr>\n",
       "    <tr>\n",
       "      <th>50%</th>\n",
       "      <td>37.000000</td>\n",
       "      <td>1.783560e+05</td>\n",
       "      <td>10.000000</td>\n",
       "      <td>0.000000</td>\n",
       "      <td>0.000000</td>\n",
       "      <td>40.000000</td>\n",
       "    </tr>\n",
       "    <tr>\n",
       "      <th>75%</th>\n",
       "      <td>48.000000</td>\n",
       "      <td>2.370510e+05</td>\n",
       "      <td>12.000000</td>\n",
       "      <td>0.000000</td>\n",
       "      <td>0.000000</td>\n",
       "      <td>45.000000</td>\n",
       "    </tr>\n",
       "    <tr>\n",
       "      <th>max</th>\n",
       "      <td>90.000000</td>\n",
       "      <td>1.484705e+06</td>\n",
       "      <td>16.000000</td>\n",
       "      <td>99999.000000</td>\n",
       "      <td>4356.000000</td>\n",
       "      <td>99.000000</td>\n",
       "    </tr>\n",
       "  </tbody>\n",
       "</table>\n",
       "</div>"
      ],
      "text/plain": [
       "                age        fnlwgt  education-num  capital-gain  capital-loss  \\\n",
       "count  32561.000000  3.256100e+04   32561.000000  32561.000000  32561.000000   \n",
       "mean      38.581647  1.897784e+05      10.080679   1077.648844     87.303830   \n",
       "std       13.640433  1.055500e+05       2.572720   7385.292085    402.960219   \n",
       "min       17.000000  1.228500e+04       1.000000      0.000000      0.000000   \n",
       "25%       28.000000  1.178270e+05       9.000000      0.000000      0.000000   \n",
       "50%       37.000000  1.783560e+05      10.000000      0.000000      0.000000   \n",
       "75%       48.000000  2.370510e+05      12.000000      0.000000      0.000000   \n",
       "max       90.000000  1.484705e+06      16.000000  99999.000000   4356.000000   \n",
       "\n",
       "       hours-per-week  \n",
       "count    32561.000000  \n",
       "mean        40.437456  \n",
       "std         12.347429  \n",
       "min          1.000000  \n",
       "25%         40.000000  \n",
       "50%         40.000000  \n",
       "75%         45.000000  \n",
       "max         99.000000  "
      ]
     },
     "execution_count": 6,
     "metadata": {},
     "output_type": "execute_result"
    }
   ],
   "source": [
    "adult_df.describe()"
   ]
  },
  {
   "cell_type": "markdown",
   "id": "114b70c2-bef5-4377-9527-91c6cf439492",
   "metadata": {},
   "source": [
    "## Check for missing values \n",
    "This dataset has three columns that contain missing values: workclass and occupation. <br>\n",
    "However, these values are currently ' ?' not NaN. <br>\n",
    "We need to address this by replacing with NaN so that they are detectable by Pandas."
   ]
  },
  {
   "cell_type": "code",
   "execution_count": 7,
   "id": "4d00880f-b556-4080-bdfa-9701a4ee9b6e",
   "metadata": {},
   "outputs": [
    {
     "data": {
      "text/plain": [
       "array([' State-gov', ' Self-emp-not-inc', ' Private', ' Federal-gov',\n",
       "       ' Local-gov', ' ?', ' Self-emp-inc', ' Without-pay',\n",
       "       ' Never-worked'], dtype=object)"
      ]
     },
     "execution_count": 7,
     "metadata": {},
     "output_type": "execute_result"
    }
   ],
   "source": [
    "adult_df['workclass'].unique()"
   ]
  },
  {
   "cell_type": "code",
   "execution_count": 8,
   "id": "d5907142-f2ed-42c0-b383-077b996a9d61",
   "metadata": {},
   "outputs": [
    {
     "data": {
      "text/plain": [
       "array([' Adm-clerical', ' Exec-managerial', ' Handlers-cleaners',\n",
       "       ' Prof-specialty', ' Other-service', ' Sales', ' Craft-repair',\n",
       "       ' Transport-moving', ' Farming-fishing', ' Machine-op-inspct',\n",
       "       ' Tech-support', ' ?', ' Protective-serv', ' Armed-Forces',\n",
       "       ' Priv-house-serv'], dtype=object)"
      ]
     },
     "execution_count": 8,
     "metadata": {},
     "output_type": "execute_result"
    }
   ],
   "source": [
    "adult_df['occupation'].unique()"
   ]
  },
  {
   "cell_type": "code",
   "execution_count": 9,
   "id": "690a7c35-1847-40b7-b703-0e68ea2d3f53",
   "metadata": {},
   "outputs": [],
   "source": [
    "# Create a new copy of the dataset and replace ' ?' with np.nan\n",
    "cleaned_df = adult_df.copy()\n",
    "cleaned_df.replace(' ?', np.nan, inplace=True)"
   ]
  },
  {
   "cell_type": "code",
   "execution_count": 10,
   "id": "5e7bb1c1-b093-44c0-a5d0-95c201b3af1d",
   "metadata": {
    "scrolled": true
   },
   "outputs": [
    {
     "data": {
      "text/plain": [
       "age                  0\n",
       "workclass         1836\n",
       "fnlwgt               0\n",
       "education            0\n",
       "education-num        0\n",
       "marital-status       0\n",
       "occupation        1843\n",
       "relationship         0\n",
       "race                 0\n",
       "sex                  0\n",
       "capital-gain         0\n",
       "capital-loss         0\n",
       "hours-per-week       0\n",
       "native-country     583\n",
       "income               0\n",
       "dtype: int64"
      ]
     },
     "execution_count": 10,
     "metadata": {},
     "output_type": "execute_result"
    }
   ],
   "source": [
    "# Looking at the number of NaNs can help us determine whether to drop the missing values\n",
    "# Or use another method to handle them\n",
    "cleaned_df.isna().sum()"
   ]
  },
  {
   "cell_type": "markdown",
   "id": "1b9d1750-8a3e-495a-8ff0-1fc9010b08a5",
   "metadata": {},
   "source": [
    "## Drop NaNs\n",
    "\n",
    "It will be easiest to handle these missing values by removing them from the dataset.\n",
    "Now, we will drop these missing values from our dataset so that we do not have any missing values."
   ]
  },
  {
   "cell_type": "code",
   "execution_count": 11,
   "id": "44ba7b39-f3f2-4680-961c-1b1f0e480ac7",
   "metadata": {},
   "outputs": [
    {
     "name": "stdout",
     "output_type": "stream",
     "text": [
      "There are 30162 rows and 15 columns left after dropping NaNs\n"
     ]
    }
   ],
   "source": [
    "# Drop the NaNs \n",
    "cleaned_df.dropna(inplace=True)\n",
    "print(f'There are {cleaned_df.shape[0]} rows and {cleaned_df.shape[1]} columns left after dropping NaNs')"
   ]
  },
  {
   "cell_type": "code",
   "execution_count": 12,
   "id": "268a5ff7-f11e-4625-8f33-a62f1eb2ae4a",
   "metadata": {},
   "outputs": [
    {
     "data": {
      "text/plain": [
       "age               False\n",
       "workclass         False\n",
       "fnlwgt            False\n",
       "education         False\n",
       "education-num     False\n",
       "marital-status    False\n",
       "occupation        False\n",
       "relationship      False\n",
       "race              False\n",
       "sex               False\n",
       "capital-gain      False\n",
       "capital-loss      False\n",
       "hours-per-week    False\n",
       "native-country    False\n",
       "income            False\n",
       "dtype: bool"
      ]
     },
     "execution_count": 12,
     "metadata": {},
     "output_type": "execute_result"
    }
   ],
   "source": [
    "# Verify that our dataset does not contain any NaNs\n",
    "cleaned_df.isna().any()"
   ]
  },
  {
   "cell_type": "markdown",
   "id": "becff062-1aee-45ec-8595-b74e29988c61",
   "metadata": {},
   "source": [
    "## Visualizations"
   ]
  },
  {
   "cell_type": "markdown",
   "id": "27968f9c-588b-44b2-a501-e67c177ad8d6",
   "metadata": {},
   "source": [
    "## Distribution of Education Levels\n",
    "The first visualization we will look at is a bar graph. \n",
    "<br>\n",
    "This graph represents the distribution of the number of people who have attained specific education levels. \n"
   ]
  },
  {
   "cell_type": "code",
   "execution_count": 13,
   "id": "f782df8e-69e2-4cfa-9665-9f3a36e502db",
   "metadata": {},
   "outputs": [
    {
     "ename": "TypeError",
     "evalue": "matplotlib.axes._axes.Axes.bar() got multiple values for keyword argument 'align'",
     "output_type": "error",
     "traceback": [
      "\u001b[0;31m---------------------------------------------------------------------------\u001b[0m",
      "\u001b[0;31mTypeError\u001b[0m                                 Traceback (most recent call last)",
      "Cell \u001b[0;32mIn[13], line 3\u001b[0m\n\u001b[1;32m      1\u001b[0m plt\u001b[38;5;241m.\u001b[39mfigure(figsize\u001b[38;5;241m=\u001b[39m(\u001b[38;5;241m12\u001b[39m,\u001b[38;5;241m6\u001b[39m))\n\u001b[0;32m----> 3\u001b[0m sns\u001b[38;5;241m.\u001b[39mbarplot(x\u001b[38;5;241m=\u001b[39mcleaned_df[\u001b[38;5;124m'\u001b[39m\u001b[38;5;124meducation\u001b[39m\u001b[38;5;124m'\u001b[39m]\u001b[38;5;241m.\u001b[39mvalue_counts()\u001b[38;5;241m.\u001b[39mindex, \n\u001b[1;32m      4\u001b[0m             y\u001b[38;5;241m=\u001b[39mcleaned_df[\u001b[38;5;124m'\u001b[39m\u001b[38;5;124meducation\u001b[39m\u001b[38;5;124m'\u001b[39m]\u001b[38;5;241m.\u001b[39mvalue_counts(), \n\u001b[1;32m      5\u001b[0m             hue\u001b[38;5;241m=\u001b[39mcleaned_df[\u001b[38;5;124m'\u001b[39m\u001b[38;5;124meducation\u001b[39m\u001b[38;5;124m'\u001b[39m]\u001b[38;5;241m.\u001b[39mvalue_counts(), \n\u001b[1;32m      6\u001b[0m             palette\u001b[38;5;241m=\u001b[39m\u001b[38;5;124m'\u001b[39m\u001b[38;5;124mviridis\u001b[39m\u001b[38;5;124m'\u001b[39m, \n\u001b[1;32m      7\u001b[0m             legend\u001b[38;5;241m=\u001b[39m\u001b[38;5;28;01mFalse\u001b[39;00m,\n\u001b[1;32m      8\u001b[0m             align\u001b[38;5;241m=\u001b[39m\u001b[38;5;124m'\u001b[39m\u001b[38;5;124medge\u001b[39m\u001b[38;5;124m'\u001b[39m)\n\u001b[1;32m     10\u001b[0m \u001b[38;5;66;03m# Set labels and titleå\u001b[39;00m\n\u001b[1;32m     11\u001b[0m plt\u001b[38;5;241m.\u001b[39mxlabel(\u001b[38;5;124m\"\u001b[39m\u001b[38;5;124mEducation Level\u001b[39m\u001b[38;5;124m\"\u001b[39m)\n",
      "File \u001b[0;32m~/anaconda3/lib/python3.11/site-packages/seaborn/categorical.py:2763\u001b[0m, in \u001b[0;36mbarplot\u001b[0;34m(data, x, y, hue, order, hue_order, estimator, errorbar, n_boot, units, seed, orient, color, palette, saturation, width, errcolor, errwidth, capsize, dodge, ci, ax, **kwargs)\u001b[0m\n\u001b[1;32m   2760\u001b[0m \u001b[38;5;28;01mif\u001b[39;00m ax \u001b[38;5;129;01mis\u001b[39;00m \u001b[38;5;28;01mNone\u001b[39;00m:\n\u001b[1;32m   2761\u001b[0m     ax \u001b[38;5;241m=\u001b[39m plt\u001b[38;5;241m.\u001b[39mgca()\n\u001b[0;32m-> 2763\u001b[0m plotter\u001b[38;5;241m.\u001b[39mplot(ax, kwargs)\n\u001b[1;32m   2764\u001b[0m \u001b[38;5;28;01mreturn\u001b[39;00m ax\n",
      "File \u001b[0;32m~/anaconda3/lib/python3.11/site-packages/seaborn/categorical.py:1586\u001b[0m, in \u001b[0;36m_BarPlotter.plot\u001b[0;34m(self, ax, bar_kws)\u001b[0m\n\u001b[1;32m   1584\u001b[0m \u001b[38;5;28;01mdef\u001b[39;00m \u001b[38;5;21mplot\u001b[39m(\u001b[38;5;28mself\u001b[39m, ax, bar_kws):\n\u001b[1;32m   1585\u001b[0m \u001b[38;5;250m    \u001b[39m\u001b[38;5;124;03m\"\"\"Make the plot.\"\"\"\u001b[39;00m\n\u001b[0;32m-> 1586\u001b[0m     \u001b[38;5;28mself\u001b[39m\u001b[38;5;241m.\u001b[39mdraw_bars(ax, bar_kws)\n\u001b[1;32m   1587\u001b[0m     \u001b[38;5;28mself\u001b[39m\u001b[38;5;241m.\u001b[39mannotate_axes(ax)\n\u001b[1;32m   1588\u001b[0m     \u001b[38;5;28;01mif\u001b[39;00m \u001b[38;5;28mself\u001b[39m\u001b[38;5;241m.\u001b[39morient \u001b[38;5;241m==\u001b[39m \u001b[38;5;124m\"\u001b[39m\u001b[38;5;124mh\u001b[39m\u001b[38;5;124m\"\u001b[39m:\n",
      "File \u001b[0;32m~/anaconda3/lib/python3.11/site-packages/seaborn/categorical.py:1569\u001b[0m, in \u001b[0;36m_BarPlotter.draw_bars\u001b[0;34m(self, ax, kws)\u001b[0m\n\u001b[1;32m   1565\u001b[0m \u001b[38;5;28;01mfor\u001b[39;00m j, hue_level \u001b[38;5;129;01min\u001b[39;00m \u001b[38;5;28menumerate\u001b[39m(\u001b[38;5;28mself\u001b[39m\u001b[38;5;241m.\u001b[39mhue_names):\n\u001b[1;32m   1566\u001b[0m \n\u001b[1;32m   1567\u001b[0m     \u001b[38;5;66;03m# Draw the bars\u001b[39;00m\n\u001b[1;32m   1568\u001b[0m     offpos \u001b[38;5;241m=\u001b[39m barpos \u001b[38;5;241m+\u001b[39m \u001b[38;5;28mself\u001b[39m\u001b[38;5;241m.\u001b[39mhue_offsets[j]\n\u001b[0;32m-> 1569\u001b[0m     barfunc(offpos, \u001b[38;5;28mself\u001b[39m\u001b[38;5;241m.\u001b[39mstatistic[:, j], \u001b[38;5;28mself\u001b[39m\u001b[38;5;241m.\u001b[39mnested_width,\n\u001b[1;32m   1570\u001b[0m             color\u001b[38;5;241m=\u001b[39m\u001b[38;5;28mself\u001b[39m\u001b[38;5;241m.\u001b[39mcolors[j], align\u001b[38;5;241m=\u001b[39m\u001b[38;5;124m\"\u001b[39m\u001b[38;5;124mcenter\u001b[39m\u001b[38;5;124m\"\u001b[39m,\n\u001b[1;32m   1571\u001b[0m             label\u001b[38;5;241m=\u001b[39mhue_level, \u001b[38;5;241m*\u001b[39m\u001b[38;5;241m*\u001b[39mkws)\n\u001b[1;32m   1573\u001b[0m     \u001b[38;5;66;03m# Draw the confidence intervals\u001b[39;00m\n\u001b[1;32m   1574\u001b[0m     \u001b[38;5;28;01mif\u001b[39;00m \u001b[38;5;28mself\u001b[39m\u001b[38;5;241m.\u001b[39mconfint\u001b[38;5;241m.\u001b[39msize:\n",
      "\u001b[0;31mTypeError\u001b[0m: matplotlib.axes._axes.Axes.bar() got multiple values for keyword argument 'align'"
     ]
    },
    {
     "data": {
      "image/png": "[encoded data removed]",
      "text/plain": [
       "<Figure size 1200x600 with 1 Axes>"
      ]
     },
     "metadata": {},
     "output_type": "display_data"
    }
   ],
   "source": [
    "plt.figure(figsize=(12,6))\n",
    "\n",
    "sns.barplot(x=cleaned_df['education'].value_counts().index, \n",
    "            y=cleaned_df['education'].value_counts(), \n",
    "            hue=cleaned_df['education'].value_counts(), \n",
    "            palette='viridis', \n",
    "            legend=False,\n",
    "            align='edge')\n",
    "\n",
    "# Set labels and titleå\n",
    "plt.xlabel(\"Education Level\")\n",
    "plt.ylabel(\"Count\")\n",
    "plt.title(\"Distribution of Education Levels\")\n",
    "\n",
    "# Rotate x-axis labels for better readability\n",
    "plt.xticks(rotation=90)\n",
    "\n",
    "# Show the plot\n",
    "plt.show()\n"
   ]
  },
  {
   "cell_type": "markdown",
   "id": "94ab41e1-9907-4ead-acbd-e74a736dbc1c",
   "metadata": {},
   "source": [
    "## Distribution of Education Levels Discussion\n",
    "A majority of the participants graduated high school. Particpants that have completed some college or received a Bachelor's degree are the next two major groups. \n"
   ]
  },
  {
   "cell_type": "markdown",
   "id": "37e1c7e7-9b42-4296-9fca-1cee84a44464",
   "metadata": {},
   "source": [
    "## Distribution of Education Grade"
   ]
  },
  {
   "cell_type": "code",
   "execution_count": null,
   "id": "fa1946e5-060d-4290-ac29-78f572cbae67",
   "metadata": {},
   "outputs": [],
   "source": [
    "plt.figure(figsize=(12,6))\n",
    "\n",
    "sns.barplot(x=cleaned_df['education-num'].value_counts().index, \n",
    "            y=cleaned_df['education-num'].value_counts(), \n",
    "            hue=cleaned_df['education-num'].value_counts(), \n",
    "            palette='viridis', \n",
    "            legend=False,\n",
    "            align='edge')\n",
    "\n",
    "# Set labels and titleå\n",
    "plt.xlabel(\"Education Grade\")\n",
    "plt.ylabel(\"Count\")\n",
    "plt.title(\"Distribution of Education Grades\")\n",
    "\n",
    "# Rotate x-axis labels for better readability\n",
    "plt.xticks(rotation=90)\n",
    "\n",
    "# Show the plot\n",
    "plt.show()\n"
   ]
  },
  {
   "cell_type": "markdown",
   "id": "1516a7ba-8ecc-423c-bf97-e9863b6bb583",
   "metadata": {},
   "source": [
    "## Distribution of Education Grade Discussion\n",
    "From the above graph, we can see a discrepancy between the Education Level and the Education Grade in the dataset. It appears that a High School Diploma is recognized as education grade 9, some college is education grade 10, and a Bachelor's degree is grade 13. This numbering runs contrary to conventional numbering which would put High School graduate at 12th grade. This discrepancy can create a bias in viewers and needs to be addressed. To address this, we will use custom xticks in the box plots below. This will allow us to maintain a horizontal graph layout using the education-num along the x-axis, but have the naming scheme from the Education column.  "
   ]
  },
  {
   "cell_type": "markdown",
   "id": "3265b158-9089-4de1-9842-8410ca7617a8",
   "metadata": {},
   "source": [
    "## Distribution of Work Sectors"
   ]
  },
  {
   "cell_type": "code",
   "execution_count": null,
   "id": "c5f9888a-bbbe-4043-895d-ad2b55c50ed2",
   "metadata": {},
   "outputs": [],
   "source": [
    "## Bar graph to show the distribution of participants in each work sector\n",
    "plt.figure(figsize=(12,6))\n",
    "\n",
    "sns.barplot(x=cleaned_df['workclass'].value_counts().index, \n",
    "            y=cleaned_df['workclass'].value_counts(), \n",
    "            hue=cleaned_df['workclass'].value_counts(), \n",
    "            palette='viridis', \n",
    "            legend=False,\n",
    "            align='edge')\n",
    "\n",
    "# Set labels and titleå\n",
    "plt.xlabel(\"Work Sector\")\n",
    "plt.ylabel(\"Count\")\n",
    "plt.title(\"Distribution of Work Sectors\")\n",
    "\n",
    "# Rotate x-axis labels for better readability\n",
    "plt.xticks(rotation=90)\n",
    "\n",
    "# Show the plot\n",
    "plt.show()"
   ]
  },
  {
   "cell_type": "markdown",
   "id": "fe91633a-ea8b-416d-b8bc-7171a6f4900a",
   "metadata": {},
   "source": [
    "## Distribution of Work Sector Discussion\n",
    "Predictably, the private work sector had the most participants."
   ]
  },
  {
   "cell_type": "markdown",
   "id": "96ff216d-d6cf-4a80-8143-aba29b6b6e77",
   "metadata": {},
   "source": [
    "## Distribution of Sex Graph"
   ]
  },
  {
   "cell_type": "code",
   "execution_count": null,
   "id": "7a347c3e-be9d-4a54-8a12-073690145b71",
   "metadata": {},
   "outputs": [],
   "source": [
    "plt.figure(figsize=(12,6))\n",
    "\n",
    "sns.barplot(x=cleaned_df['sex'].value_counts().index, \n",
    "            y=cleaned_df['sex'].value_counts(), \n",
    "            hue=cleaned_df['sex'].value_counts(), \n",
    "            palette='viridis', \n",
    "            legend=False,\n",
    "            align='edge')\n",
    "\n",
    "# Set labels and titleå\n",
    "plt.xlabel(\"Sex\")\n",
    "plt.ylabel(\"Count\")\n",
    "plt.title(\"Distribution of Sex\")\n",
    "\n",
    "# Rotate x-axis labels for better readability\n",
    "plt.xticks(rotation=90)\n",
    "\n",
    "# Show the plot\n",
    "plt.show()"
   ]
  },
  {
   "cell_type": "markdown",
   "id": "a5175aa4-e89a-4f33-9488-40e8f37a5c16",
   "metadata": {},
   "source": [
    "## Distribution of Sex Discussion\n",
    "It appears that the majority of participants in this survey were male. "
   ]
  },
  {
   "cell_type": "markdown",
   "id": "bdf65e60-5188-460f-ac4c-bf63c2b08753",
   "metadata": {},
   "source": [
    "## Create Labels for Use in x-axis\n",
    "\n",
    "To address the numbering scheme of education grades and conventional wisdom, I will be creating a dictionary of education values that tie the education-num to the education level. "
   ]
  },
  {
   "cell_type": "code",
   "execution_count": null,
   "id": "40e1cd8b-df78-4b54-ae80-36edb6b91eca",
   "metadata": {},
   "outputs": [],
   "source": [
    "education_values = dict(zip(cleaned_df['education-num'].unique(), cleaned_df['education'].unique()))\n",
    "education_values = dict(sorted(education_values.items()))\n",
    "education_values"
   ]
  },
  {
   "cell_type": "markdown",
   "id": "b956ba96-05c2-4c85-b294-bde51ec08b49",
   "metadata": {},
   "source": [
    "## Distribution of Grade Attained by Work Sector\n",
    "\n",
    "We will use a filtered dataframe to exclude any work sectors that did not have more than 1500 participants. This will help keep the graphs less skewed by outlier categories."
   ]
  },
  {
   "cell_type": "code",
   "execution_count": null,
   "id": "580e2ae0-4c1f-4ebb-a647-35a2fe88e051",
   "metadata": {},
   "outputs": [],
   "source": [
    "# Create a boxplot to visualize the relationship between Job Employment and Education Level\n",
    "plt.figure(figsize=(12,6))\n",
    "filtered_df = cleaned_df.groupby('workclass').filter(lambda x: len(x) >= 1500)\n",
    "sns.boxplot(x=\"education-num\", \n",
    "            y=\"workclass\", \n",
    "            data=filtered_df, \n",
    "            palette=\"viridis\", \n",
    "            hue='workclass', \n",
    "            orient=\"h\")\n",
    "\n",
    "# Set labels and title\n",
    "plt.xlabel(\"Grade of Education Attained\")\n",
    "plt.ylabel(\"Work Sector\")\n",
    "plt.xticks(ticks=list(education_values.keys()),\n",
    "           labels=list(education_values[key] for key in education_values.keys()))\n",
    "plt.xticks(rotation=90)\n",
    "plt.title(\"Distribution of Grade Attained by Work Sector\")\n",
    "plt.show()"
   ]
  },
  {
   "cell_type": "markdown",
   "id": "02bcf0eb-d7a1-4bbd-94c6-a860a89d2ccb",
   "metadata": {},
   "source": [
    "## Distribution of Grade Attained by Work Sector\n",
    "It is important to note that the circles represent outliers in this graph. For a clearer reading, we will create another boxplot that excludes these datapoints. "
   ]
  },
  {
   "cell_type": "code",
   "execution_count": null,
   "id": "3cb902e8-2607-4b07-bde7-038831a7f3fd",
   "metadata": {},
   "outputs": [],
   "source": [
    "# Create a boxplot to visualize the distribution of attained grade level by work sector\n",
    "# Omitting outliers\n",
    "plt.figure(figsize=(12,6))\n",
    "filtered_df = cleaned_df.groupby('workclass').filter(lambda x: len(x) >= 1500)\n",
    "sns.boxplot(x=\"education-num\", \n",
    "            y=\"workclass\", \n",
    "            data=filtered_df, \n",
    "            palette=\"viridis\", \n",
    "            hue='workclass', \n",
    "            orient=\"h\",\n",
    "            showfliers=False)\n",
    "\n",
    "# Set labels and title\n",
    "plt.xlabel(\"Attained Grade Level\")\n",
    "plt.ylabel(\"Work Sector\")\n",
    "plt.xticks(ticks=list(education_values.keys()),\n",
    "           labels=list(education_values[key] for key in education_values.keys()))\n",
    "plt.xticks(rotation=90)\n",
    "plt.title(\"Distribution of Attained Grade Level by Work Sector\")\n",
    "plt.show()"
   ]
  },
  {
   "cell_type": "markdown",
   "id": "4664a913-a1ba-45d7-8d43-fbc15ed59397",
   "metadata": {},
   "source": [
    "## Distribution of Grade Attained by Work Sector Discussion\n",
    "\n",
    "This box plot reveals that Some College is the median Education Level for all work sectors. The private work sector has a smaller interquartile range, indicating that most of the participants for this sector attained an education between High School Graduate and Associates-Voc. in the local government and self-employeed not Incorporated work sectors, the interquartile ranges were identical."
   ]
  },
  {
   "cell_type": "markdown",
   "id": "987a97cf-bf91-44a7-8739-8644eb41a20d",
   "metadata": {},
   "source": [
    "## Distribution of Attained Grade Level By Sex\n",
    "This distribution also contains outliers, which will be omitted from the graph."
   ]
  },
  {
   "cell_type": "code",
   "execution_count": null,
   "id": "8fbf4e74-6afa-4e8c-af8d-267444618584",
   "metadata": {},
   "outputs": [],
   "source": [
    "# Create a boxplot to view the distribution of attained grade level by sex\n",
    "plt.figure(figsize=(12,6))\n",
    "\n",
    "sns.boxplot(x='education-num',\n",
    "            y='sex',\n",
    "            data=cleaned_df,\n",
    "            palette='viridis',\n",
    "            hue='sex',\n",
    "            showfliers=False)\n",
    "\n",
    "# Set the labels and title\n",
    "plt.xlabel(\"Attained Grade Level\")\n",
    "plt.ylabel(\"Sex\")\n",
    "plt.xticks(ticks=list(education_values.keys()),\n",
    "           labels=list(education_values[key] for key in education_values.keys()))\n",
    "plt.xticks(rotation=90)\n",
    "plt.title(\"Distribution of Attained Grade Level by Sex\")\n",
    "plt.show()"
   ]
  },
  {
   "cell_type": "markdown",
   "id": "02b4fe43-50a1-4c7e-b093-b6197d06162b",
   "metadata": {},
   "source": [
    "## Distribution of Attained Grade Level by Sex Discussion\n",
    "From the box plot above, we can see that males that particpated in the 1994 census attained a slightly higher grade level than females.\n",
    "<br>\n",
    "The median grade level attained is the same for both sexes, but more males attained a Bachelor's degree than females.\n",
    "<br>\n",
    "I would be interested to see similar census data results for later years, because I anticipate that more females have attained higher education. \n",
    "<br><br>\n",
    "Interestingly, the minimum grade level for males is lower than that for females, indicating that although the female particpants of this  census do not achieve a Bachelor's degree as often as their male counterparts - the spread of their educational attainment is smaller. This indicates that more females did not drop out of school as early as males. "
   ]
  },
  {
   "cell_type": "markdown",
   "id": "c5899a09-b8d1-43a2-bd11-e6e00f2c0e2e",
   "metadata": {},
   "source": [
    "## Pie Chart to Show Distribution of the Races"
   ]
  },
  {
   "cell_type": "code",
   "execution_count": null,
   "id": "ab7682f5-d04b-4e95-acc5-d388de0800a0",
   "metadata": {},
   "outputs": [],
   "source": [
    "# Pie chart of the Race categories\n",
    "plt.figure(figsize=(8,8))\n",
    "sns.color_palette('viridis', n_colors=len(cleaned_df['race'].unique()))\n",
    "plt.title(\"Distribution of Races Pie\")\n",
    "plt.pie(cleaned_df['race'].value_counts(), autopct='%1.1f%%', labels=cleaned_df['race'].unique())\n",
    "plt.show()"
   ]
  },
  {
   "cell_type": "markdown",
   "id": "43eedfc0-039f-4529-b11c-e6f1f1e9549f",
   "metadata": {},
   "source": [
    "## Distribution of Attained Grade Level by Race Discussion\n",
    "I'd like to pause here and address the ethical implications of visual representations of education levels by race. These education levels are from a census survey in 1994. From the pie chart above, we can see that the overwhelming majority of participants were white, which can skew results and may lead to incorrect assumptions. Due to this, I will not be showing a breakdown of educational attainment by race. "
   ]
  },
  {
   "cell_type": "markdown",
   "id": "921a779f-6528-4937-8b54-92f5944612ed",
   "metadata": {},
   "source": [
    "## Conclusion\n",
    "\n",
    "From the graphs we have learned that the majority of the survey participants were white males employed in the Private sector. The median educational level of attainment was \"Some College\" across all work sectors. The interquartile range spanned from High School Graduate to Bachelor's Degree for all work sectors except for Private, which had an interquartile range from High School Graduate to Associates-Vocational. The male category had a larger interquartile range, but it's overall variance was wider than that of the female category. Racial examinations were omitted due to an imbalanced representation. \n",
    "\n",
    "<br><br>"
   ]
  },
  {
   "cell_type": "markdown",
   "id": "5b6a6f97-e704-4d3e-9578-45b2076c73d3",
   "metadata": {},
   "source": [
    "## ASSIGNMENT END\n",
    "Work completed after this cell is for my attempt at applying a classification algorithm to the dataset. \n",
    "\n",
    "I am following along using the examples provided at: \n",
    "[Imbalanced Classifaction - machinelearningmastery.com](https://machinelearningmastery.com/imbalanced-classification-with-the-adult-income-dataset/)\n",
    "\n",
    "Special thanks to Jason Brownlee for this helpful tutorial."
   ]
  },
  {
   "cell_type": "code",
   "execution_count": 20,
   "id": "65cdcb89-6090-4646-b835-c78f6f676a46",
   "metadata": {},
   "outputs": [],
   "source": [
    "from collections import Counter\n",
    "from numpy import mean\n",
    "from numpy import std\n",
    "from pandas import read_csv\n",
    "from matplotlib import pyplot as plt\n",
    "from sklearn.dummy import DummyClassifier\n",
    "from sklearn.preprocessing import LabelEncoder\n",
    "from sklearn.preprocessing import OneHotEncoder\n",
    "from sklearn.preprocessing import MinMaxScaler\n",
    "from sklearn.pipeline import Pipeline\n",
    "from sklearn.compose import ColumnTransformer\n",
    "from sklearn.model_selection import cross_val_score\n",
    "from sklearn.model_selection import RepeatedStratifiedKFold\n",
    "from sklearn.tree import DecisionTreeClassifier\n",
    "from sklearn.svm import SVC\n",
    "from sklearn.ensemble import RandomForestClassifier\n",
    "from sklearn.ensemble import GradientBoostingClassifier\n",
    "from sklearn.ensemble import BaggingClassifier"
   ]
  },
  {
   "cell_type": "code",
   "execution_count": 21,
   "id": "a98b7769-a45e-4e06-9a4c-ff7aa4bab834",
   "metadata": {},
   "outputs": [
    {
     "data": {
      "image/png": "[encoded data removed]",
      "text/plain": [
       "<Figure size 800x800 with 1 Axes>"
      ]
     },
     "metadata": {},
     "output_type": "display_data"
    }
   ],
   "source": [
    "# First we will create a pie chart to see how imbalanced the distribution of income is\n",
    "plt.figure(figsize=(8,8))\n",
    "sns.color_palette('viridis', n_colors=len(cleaned_df['income'].unique()))\n",
    "plt.title(\"Distribution of income\")\n",
    "plt.pie(cleaned_df['income'].value_counts(), autopct='%1.1f%%', labels=cleaned_df['income'].unique())\n",
    "plt.show()"
   ]
  },
  {
   "cell_type": "markdown",
   "id": "8fdd2139-d915-4c67-a226-94053e8ce14c",
   "metadata": {},
   "source": [
    "From the graph above, we can see that there is an imbalance with a skew toward less than $50k income."
   ]
  },
  {
   "cell_type": "markdown",
   "id": "18bcb7df-cd0a-4d32-8907-e26f06dca47c",
   "metadata": {},
   "source": [
    "## K-Fold Cross Validation Using Stratified Groups Explanation\n",
    "\n",
    "Jason recommends using repeated, stratified, 10-fold cross-validation to estimate model performance.\n",
    "K-fold (10-fold in our case) cross-validation splits the training data into k-groups (again 10 groups in our example). He also recommends using stratified groups, which contain the same mixture 75/25 (75% less than 50k, 25% more than 50k) to maintain the same example mixtures by class as the original dataset. Repeated means that the evaluation process will be run more than once to better capture the variance of the chosen model. \n",
    "\n",
    "K-fold cross-validation gives each training group 1 opportunity to be withheld as holdout data and k-1 opportunities to be test data.\n",
    "\n",
    "To accomplish this, we will be using the scikit-learn class RepeatedStratifiedKFold. \n"
   ]
  },
  {
   "cell_type": "markdown",
   "id": "61220eeb-7093-471f-8171-40022bcbc95b",
   "metadata": {},
   "source": [
    "## Step 1 Create an Evaluation Function\n",
    "The evaluate_model() function will be used to take the loaded dataset and classification model and evaluate it using Repeated Stratified k-fold cross-validation. It's return value with be a list of accuracy scores that can later be summarized. "
   ]
  },
  {
   "cell_type": "code",
   "execution_count": 22,
   "id": "c88e3472-5221-47b1-98ab-7bb7298f03b7",
   "metadata": {},
   "outputs": [],
   "source": [
    "# Model Evaluation Function\n",
    "def evaluate_model(X, y, model):\n",
    " # define evaluation procedure\n",
    " cv = RepeatedStratifiedKFold(n_splits=10, n_repeats=3, random_state=1)\n",
    " # evaluate model\n",
    " scores = cross_val_score(model, X, y, scoring='accuracy', cv=cv, n_jobs=-1)\n",
    " return scores"
   ]
  },
  {
   "cell_type": "markdown",
   "id": "ec99038c-8c12-45d3-b901-4f9c39f6d86d",
   "metadata": {},
   "source": [
    "## Step 2 Create a load_dataset() Function\n",
    "\n",
    "This function will load the dataset and label encode the target column. We will also return a list of categorical and numeric columns so that we have them available if we wish to transform them when fitting models."
   ]
  },
  {
   "cell_type": "code",
   "execution_count": 23,
   "id": "1c47df2f-bd91-4693-934e-a7f5f3a6bb64",
   "metadata": {},
   "outputs": [],
   "source": [
    "# Dataset Loading Function\n",
    "def load_dataset(f_name):\n",
    "    # Load the dataset as a numpy array\n",
    "    dataframe = read_csv(f_name, header=None, na_values=' ?')\n",
    "    # Drop the rows with missing values\n",
    "    dataframe = dataframe.dropna()\n",
    "    # Split into inputs and outputs\n",
    "    last_col = len(dataframe.columns) - 1 # Income column\n",
    "    # Jason uses a capital X, after some research, I discovered that it is in line with linear algebra notation,\n",
    "    # to denote a matrix, rather than an array.\n",
    "    # Matrices are capitalized, arrays are lowercase\n",
    "    X, y = dataframe.drop(last_col, axis=1), dataframe[last_col]\n",
    "    # Select categorical and numerical features\n",
    "    cat_ix = X.select_dtypes(include=['object', 'bool']).columns\n",
    "    num_ix = X.select_dtypes(include=['int64', 'float64']).columns\n",
    "    # Label encode the target variable to have classes 0 and 1 (income column)\n",
    "    y = LabelEncoder().fit_transform(y)\n",
    "    return X.values, y, cat_ix, num_ix"
   ]
  },
  {
   "cell_type": "markdown",
   "id": "a823a192-6461-4100-83e1-0fb392ddb947",
   "metadata": {},
   "source": [
    "## Step 3 Evaluate Baseline Model\n",
    "When using classification accuracy, a naive model will predict the majority class for all cases. This provides a baseline in model performance on this problem by which all other models can be compared. (Brownlee, 2020)\n",
    "\n",
    "This can be achieved using the DummyClassifier class from the scikit-learn library and setting the “strategy” argument to ‘most_frequent‘."
   ]
  },
  {
   "cell_type": "code",
   "execution_count": 24,
   "id": "75e99758-797c-40f4-bb7c-80ad2cc59541",
   "metadata": {},
   "outputs": [
    {
     "name": "stdout",
     "output_type": "stream",
     "text": [
      "(30162, 14) (30162,) Counter({0: 22654, 1: 7508})\n"
     ]
    }
   ],
   "source": [
    "# Load the Dataset\n",
    "f_name = 'adult.data'\n",
    "X, y, cat_ix, num_ix = load_dataset(f_name)\n",
    "# Summarize the loaded dataset\n",
    "print(X.shape, y.shape, Counter(y))"
   ]
  },
  {
   "cell_type": "code",
   "execution_count": 25,
   "id": "720f42ba-81fc-42c5-ba8a-1f2f191aabc8",
   "metadata": {},
   "outputs": [],
   "source": [
    "# Define the Reference Model\n",
    "model = DummyClassifier(strategy='most_frequent')"
   ]
  },
  {
   "cell_type": "code",
   "execution_count": 26,
   "id": "0d36541b-a291-4157-a2de-43c35bbeebea",
   "metadata": {},
   "outputs": [
    {
     "name": "stdout",
     "output_type": "stream",
     "text": [
      "Mean Accuracy: 0.751 0.000\n"
     ]
    }
   ],
   "source": [
    "# Evaluate the model\n",
    "scores = evaluate_model(X, y, model)\n",
    "# Summarize the performance\n",
    "print(f'Mean Accuracy: {mean(scores):.3f} {std(scores):.3f}')"
   ]
  },
  {
   "cell_type": "markdown",
   "id": "00db6126-59dd-4dd2-8413-52af02383992",
   "metadata": {},
   "source": [
    "## Evaluate Models\n",
    "\n",
    "Create a function to evaulate models. We will be evaluating the following models:\n",
    "<ul>\n",
    "    <li>    Support Vector Machine (SVM) </li>\n",
    "    <li> Bagged Decision Trees (BAG) </li>\n",
    "    <li> Random Forest (RF) </li>\n",
    "    <li> Gradient Boosting Machine (GBM) </li>\n",
    "</ul>"
   ]
  },
  {
   "cell_type": "code",
   "execution_count": 27,
   "id": "5fbe8131-f2cf-4446-ab31-d5d2b1022485",
   "metadata": {},
   "outputs": [],
   "source": [
    "def get_models():\n",
    " models, names = list(), list()\n",
    " # CART\n",
    " models.append(DecisionTreeClassifier())\n",
    " names.append('CART')\n",
    " # SVM\n",
    " models.append(SVC(gamma='scale'))\n",
    " names.append('SVM')\n",
    " # Bagging\n",
    " models.append(BaggingClassifier(n_estimators=100))\n",
    " names.append('BAG')\n",
    " # RF\n",
    " models.append(RandomForestClassifier(n_estimators=100))\n",
    " names.append('RF')\n",
    " # GBM\n",
    " models.append(GradientBoostingClassifier(n_estimators=100))\n",
    " names.append('GBM')\n",
    " return models, names"
   ]
  },
  {
   "cell_type": "markdown",
   "id": "c574f9a5-bec5-4fd9-b3dd-572b3ad99bca",
   "metadata": {},
   "source": [
    "## Pipeline Creation \n",
    "\n",
    "We need to create a pipeline to properly one-hot encode the categorical input variables and normalize the numerical input variables using MinMaxScaler. \n"
   ]
  },
  {
   "cell_type": "code",
   "execution_count": 28,
   "id": "224cb763-b367-466b-8fb8-552a163c9611",
   "metadata": {},
   "outputs": [
    {
     "name": "stdout",
     "output_type": "stream",
     "text": [
      "['CART', 'SVM', 'BAG', 'RF', 'GBM']\n"
     ]
    }
   ],
   "source": [
    "# Define models\n",
    "models, names = get_models()\n",
    "results = list()\n",
    "print(names)"
   ]
  },
  {
   "cell_type": "code",
   "execution_count": null,
   "id": "68583d48-3041-441e-bb5a-dc7601bf3e6f",
   "metadata": {},
   "outputs": [],
   "source": [
    "%%time # MBP\n",
    "# Evaluate each model\n",
    "for i in range(len(models)):\n",
    "    # Define Steps\n",
    "    steps = [('c', OneHotEncoder(handle_unknown='ignore'),cat_ix), ('n',MinMaxScaler(),num_ix)]\n",
    "    # One Hot Encode Categorical, normalize numerical\n",
    "    ct = ColumnTransformer(steps)\n",
    "    # Wrap the model in a pipeline\n",
    "    pipeline = Pipeline(steps=[('t', ct),('m',models[i])])\n",
    "    # Evaluate the model and store the results\n",
    "    scores = evaluate_model(X, y, pipeline)\n",
    "    results.append(scores)\n",
    "    # Summarize Performance\n",
    "    print('>%s %.3f (%.3f)' % (names[i], mean(scores), std(scores)))"
   ]
  },
  {
   "cell_type": "markdown",
   "id": "3ca17cfe",
   "metadata": {},
   "source": [
    "## Using Precision 7500"
   ]
  },
  {
   "cell_type": "code",
   "execution_count": null,
   "id": "a4dd7a3b-2ba7-4472-9ab6-f3179db4acb7",
   "metadata": {},
   "outputs": [
    {
     "name": "stdout",
     "output_type": "stream",
     "text": [
      ">CART 0.812 (0.008)\n",
      ">SVM 0.835 (0.006)\n",
      ">BAG 0.852 (0.006)\n"
     ]
    }
   ],
   "source": [
    "%%time\n",
    "\n",
    "# Evaluate each model\n",
    "for i in range(len(models)):\n",
    "    # Define Steps\n",
    "    steps = [('c', OneHotEncoder(handle_unknown='ignore'),cat_ix), ('n',MinMaxScaler(),num_ix)]\n",
    "    # One Hot Encode Categorical, normalize numerical\n",
    "    ct = ColumnTransformer(steps)\n",
    "    # Wrap the model in a pipeline\n",
    "    pipeline = Pipeline(steps=[('t', ct),('m',models[i])])\n",
    "    # Evaluate the model and store the results\n",
    "    scores = evaluate_model(X, y, pipeline)\n",
    "    results.append(scores)\n",
    "    # Summarize Performance\n",
    "    print('>%s %.3f (%.3f)' % (names[i], mean(scores), std(scores)))"
   ]
  },
  {
   "cell_type": "code",
   "execution_count": null,
   "id": "5299846c",
   "metadata": {},
   "outputs": [],
   "source": []
  }
 ],
 "metadata": {
  "kernelspec": {
   "display_name": "Python 3 (ipykernel)",
   "language": "python",
   "name": "python3"
  },
  "language_info": {
   "codemirror_mode": {
    "name": "ipython",
    "version": 3
   },
   "file_extension": ".py",
   "mimetype": "text/x-python",
   "name": "python",
   "nbconvert_exporter": "python",
   "pygments_lexer": "ipython3",
   "version": "3.11.5"
  }
 },
 "nbformat": 4,
 "nbformat_minor": 5
}
