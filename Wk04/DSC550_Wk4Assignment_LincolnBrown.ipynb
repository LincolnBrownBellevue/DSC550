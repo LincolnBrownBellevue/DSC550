{
 "cells": [
  {
   "cell_type": "markdown",
   "id": "1fab4a9e",
   "metadata": {},
   "source": [
    "## Wk4 Assignment\n",
    "\n",
    "## Lincoln Brown\n",
    "\n",
    "## DSC550-T302\n",
    "\n",
    "## Professor Werner\n",
    "\n"
   ]
  },
  {
   "cell_type": "markdown",
   "id": "3f5c0dae-bb28-4c55-81fc-8fe165e8ce30",
   "metadata": {},
   "source": [
    "## Step 1: Import the Data"
   ]
  },
  {
   "cell_type": "code",
   "execution_count": 36,
   "id": "3b9278ce",
   "metadata": {},
   "outputs": [],
   "source": [
    "import pandas as pd\n",
    "import matplotlib.pyplot as plt\n",
    "import numpy as np\n",
    "import seaborn as sns\n",
    "from sklearn.model_selection import train_test_split\n",
    "from sklearn.linear_model import LinearRegression\n",
    "from sklearn.metrics import r2_score, mean_squared_error, mean_absolute_error, mean_absolute_percentage_error\n",
    "from sklearn.ensemble import GradientBoostingRegressor "
   ]
  },
  {
   "cell_type": "code",
   "execution_count": 2,
   "id": "d2124dc4-0029-44ee-9c6a-d51b0aee6471",
   "metadata": {},
   "outputs": [
    {
     "data": {
      "text/plain": [
       "array(['chevrolet chevelle malibu', 'buick skylark 320',\n",
       "       'plymouth satellite', 'amc rebel sst', 'ford torino',\n",
       "       'ford galaxie 500', 'chevrolet impala', 'plymouth fury iii',\n",
       "       'pontiac catalina', 'amc ambassador dpl', 'dodge challenger se',\n",
       "       \"plymouth 'cuda 340\", 'chevrolet monte carlo',\n",
       "       'buick estate wagon (sw)', 'toyota corona mark ii',\n",
       "       'plymouth duster', 'amc hornet', 'ford maverick', 'datsun pl510',\n",
       "       'volkswagen 1131 deluxe sedan', 'peugeot 504', 'audi 100 ls',\n",
       "       'saab 99e', 'bmw 2002', 'amc gremlin', 'ford f250', 'chevy c20',\n",
       "       'dodge d200', 'hi 1200d', 'chevrolet vega 2300', 'toyota corona',\n",
       "       'ford pinto', 'plymouth satellite custom', 'ford torino 500',\n",
       "       'amc matador', 'pontiac catalina brougham', 'dodge monaco (sw)',\n",
       "       'ford country squire (sw)', 'pontiac safari (sw)',\n",
       "       'amc hornet sportabout (sw)', 'chevrolet vega (sw)',\n",
       "       'pontiac firebird', 'ford mustang', 'mercury capri 2000',\n",
       "       'opel 1900', 'peugeot 304', 'fiat 124b', 'toyota corolla 1200',\n",
       "       'datsun 1200', 'volkswagen model 111', 'plymouth cricket',\n",
       "       'toyota corona hardtop', 'dodge colt hardtop', 'volkswagen type 3',\n",
       "       'chevrolet vega', 'ford pinto runabout', 'amc ambassador sst',\n",
       "       'mercury marquis', 'buick lesabre custom',\n",
       "       'oldsmobile delta 88 royale', 'chrysler newport royal',\n",
       "       'mazda rx2 coupe', 'amc matador (sw)',\n",
       "       'chevrolet chevelle concours (sw)', 'ford gran torino (sw)',\n",
       "       'plymouth satellite custom (sw)', 'volvo 145e (sw)',\n",
       "       'volkswagen 411 (sw)', 'peugeot 504 (sw)', 'renault 12 (sw)',\n",
       "       'ford pinto (sw)', 'datsun 510 (sw)',\n",
       "       'toyouta corona mark ii (sw)', 'dodge colt (sw)',\n",
       "       'toyota corolla 1600 (sw)', 'buick century 350',\n",
       "       'chevrolet malibu', 'ford gran torino', 'dodge coronet custom',\n",
       "       'mercury marquis brougham', 'chevrolet caprice classic',\n",
       "       'ford ltd', 'plymouth fury gran sedan',\n",
       "       'chrysler new yorker brougham', 'buick electra 225 custom',\n",
       "       'amc ambassador brougham', 'plymouth valiant',\n",
       "       'chevrolet nova custom', 'volkswagen super beetle', 'ford country',\n",
       "       'plymouth custom suburb', 'oldsmobile vista cruiser',\n",
       "       'toyota carina', 'datsun 610', 'maxda rx3', 'mercury capri v6',\n",
       "       'fiat 124 sport coupe', 'chevrolet monte carlo s',\n",
       "       'pontiac grand prix', 'fiat 128', 'opel manta', 'audi 100ls',\n",
       "       'volvo 144ea', 'dodge dart custom', 'saab 99le', 'toyota mark ii',\n",
       "       'oldsmobile omega', 'chevrolet nova', 'datsun b210',\n",
       "       'chevrolet chevelle malibu classic', 'plymouth satellite sebring',\n",
       "       'buick century luxus (sw)', 'dodge coronet custom (sw)',\n",
       "       'audi fox', 'volkswagen dasher', 'datsun 710', 'dodge colt',\n",
       "       'fiat 124 tc', 'honda civic', 'subaru', 'fiat x1.9',\n",
       "       'plymouth valiant custom', 'mercury monarch', 'chevrolet bel air',\n",
       "       'plymouth grand fury', 'buick century',\n",
       "       'chevroelt chevelle malibu', 'plymouth fury', 'buick skyhawk',\n",
       "       'chevrolet monza 2+2', 'ford mustang ii', 'toyota corolla',\n",
       "       'pontiac astro', 'volkswagen rabbit', 'amc pacer', 'volvo 244dl',\n",
       "       'honda civic cvcc', 'fiat 131', 'capri ii', 'renault 12tl',\n",
       "       'dodge coronet brougham', 'chevrolet chevette', 'chevrolet woody',\n",
       "       'vw rabbit', 'dodge aspen se', 'ford granada ghia',\n",
       "       'pontiac ventura sj', 'amc pacer d/l', 'datsun b-210', 'volvo 245',\n",
       "       'plymouth volare premier v8', 'mercedes-benz 280s',\n",
       "       'cadillac seville', 'chevy c10', 'ford f108', 'dodge d100',\n",
       "       'honda accord cvcc', 'buick opel isuzu deluxe', 'renault 5 gtl',\n",
       "       'plymouth arrow gs', 'datsun f-10 hatchback',\n",
       "       'oldsmobile cutlass supreme', 'dodge monaco brougham',\n",
       "       'mercury cougar brougham', 'chevrolet concours', 'buick skylark',\n",
       "       'plymouth volare custom', 'ford granada', 'pontiac grand prix lj',\n",
       "       'chevrolet monte carlo landau', 'chrysler cordoba',\n",
       "       'ford thunderbird', 'volkswagen rabbit custom',\n",
       "       'pontiac sunbird coupe', 'toyota corolla liftback',\n",
       "       'ford mustang ii 2+2', 'dodge colt m/m', 'subaru dl', 'datsun 810',\n",
       "       'bmw 320i', 'mazda rx-4', 'volkswagen rabbit custom diesel',\n",
       "       'ford fiesta', 'mazda glc deluxe', 'datsun b210 gx',\n",
       "       'oldsmobile cutlass salon brougham', 'dodge diplomat',\n",
       "       'mercury monarch ghia', 'pontiac phoenix lj',\n",
       "       'ford fairmont (auto)', 'ford fairmont (man)', 'plymouth volare',\n",
       "       'amc concord', 'buick century special', 'mercury zephyr',\n",
       "       'dodge aspen', 'amc concord d/l',\n",
       "       'buick regal sport coupe (turbo)', 'ford futura',\n",
       "       'dodge magnum xe', 'datsun 510', 'dodge omni',\n",
       "       'toyota celica gt liftback', 'plymouth sapporo',\n",
       "       'oldsmobile starfire sx', 'datsun 200-sx', 'audi 5000',\n",
       "       'volvo 264gl', 'saab 99gle', 'peugeot 604sl',\n",
       "       'volkswagen scirocco', 'honda accord lx', 'pontiac lemans v6',\n",
       "       'mercury zephyr 6', 'ford fairmont 4', 'amc concord dl 6',\n",
       "       'dodge aspen 6', 'ford ltd landau', 'mercury grand marquis',\n",
       "       'dodge st. regis', 'chevrolet malibu classic (sw)',\n",
       "       'chrysler lebaron town @ country (sw)', 'vw rabbit custom',\n",
       "       'maxda glc deluxe', 'dodge colt hatchback custom', 'amc spirit dl',\n",
       "       'mercedes benz 300d', 'cadillac eldorado', 'plymouth horizon',\n",
       "       'plymouth horizon tc3', 'datsun 210', 'fiat strada custom',\n",
       "       'buick skylark limited', 'chevrolet citation',\n",
       "       'oldsmobile omega brougham', 'pontiac phoenix',\n",
       "       'toyota corolla tercel', 'datsun 310', 'ford fairmont',\n",
       "       'audi 4000', 'toyota corona liftback', 'mazda 626',\n",
       "       'datsun 510 hatchback', 'mazda glc', 'vw rabbit c (diesel)',\n",
       "       'vw dasher (diesel)', 'audi 5000s (diesel)', 'mercedes-benz 240d',\n",
       "       'honda civic 1500 gl', 'renault lecar deluxe', 'vokswagen rabbit',\n",
       "       'datsun 280-zx', 'mazda rx-7 gs', 'triumph tr7 coupe',\n",
       "       'ford mustang cobra', 'honda accord', 'plymouth reliant',\n",
       "       'dodge aries wagon (sw)', 'toyota starlet', 'plymouth champ',\n",
       "       'honda civic 1300', 'datsun 210 mpg', 'toyota tercel',\n",
       "       'mazda glc 4', 'plymouth horizon 4', 'ford escort 4w',\n",
       "       'ford escort 2h', 'volkswagen jetta', 'renault 18i',\n",
       "       'honda prelude', 'datsun 200sx', 'peugeot 505s turbo diesel',\n",
       "       'volvo diesel', 'toyota cressida', 'datsun 810 maxima',\n",
       "       'oldsmobile cutlass ls', 'ford granada gl',\n",
       "       'chrysler lebaron salon', 'chevrolet cavalier',\n",
       "       'chevrolet cavalier wagon', 'chevrolet cavalier 2-door',\n",
       "       'pontiac j2000 se hatchback', 'dodge aries se',\n",
       "       'ford fairmont futura', 'amc concord dl', 'volkswagen rabbit l',\n",
       "       'mazda glc custom l', 'mazda glc custom', 'plymouth horizon miser',\n",
       "       'mercury lynx l', 'nissan stanza xe', 'honda civic (auto)',\n",
       "       'datsun 310 gx', 'buick century limited',\n",
       "       'oldsmobile cutlass ciera (diesel)', 'chrysler lebaron medallion',\n",
       "       'ford granada l', 'toyota celica gt', 'dodge charger 2.2',\n",
       "       'chevrolet camaro', 'ford mustang gl', 'vw pickup',\n",
       "       'dodge rampage', 'ford ranger', 'chevy s-10'], dtype=object)"
      ]
     },
     "execution_count": 2,
     "metadata": {},
     "output_type": "execute_result"
    }
   ],
   "source": [
    "# Import Data File\n",
    "f_name = \"auto-mpg.csv\"\n",
    "\n",
    "# Load the dataframe and make sure it imported properly\n",
    "df = pd.read_csv(f_name)\n",
    "df['car name'].unique()"
   ]
  },
  {
   "cell_type": "markdown",
   "id": "bf41a938-41be-40ff-aae6-daf686a8a0d1",
   "metadata": {},
   "source": [
    "## Step 2: Begin Prepping the Dataset\n",
    "\n",
    "<ul>\n",
    "    <li>Remove the car name column</li>\n",
    "    <li>The horsepower column values likely imported as a string data type. Figure out why and replace any strings with the column mean.</li>\n",
    "    <li>Create dummy variables for the origin column</li>\n",
    "</ul>"
   ]
  },
  {
   "cell_type": "code",
   "execution_count": 3,
   "id": "44ecec76-ece2-4149-8eea-341cb50f4cef",
   "metadata": {},
   "outputs": [
    {
     "data": {
      "text/html": [
       "<div>\n",
       "<style scoped>\n",
       "    .dataframe tbody tr th:only-of-type {\n",
       "        vertical-align: middle;\n",
       "    }\n",
       "\n",
       "    .dataframe tbody tr th {\n",
       "        vertical-align: top;\n",
       "    }\n",
       "\n",
       "    .dataframe thead th {\n",
       "        text-align: right;\n",
       "    }\n",
       "</style>\n",
       "<table border=\"1\" class=\"dataframe\">\n",
       "  <thead>\n",
       "    <tr style=\"text-align: right;\">\n",
       "      <th></th>\n",
       "      <th>mpg</th>\n",
       "      <th>cylinders</th>\n",
       "      <th>displacement</th>\n",
       "      <th>horsepower</th>\n",
       "      <th>weight</th>\n",
       "      <th>acceleration</th>\n",
       "      <th>model year</th>\n",
       "      <th>origin</th>\n",
       "    </tr>\n",
       "  </thead>\n",
       "  <tbody>\n",
       "    <tr>\n",
       "      <th>0</th>\n",
       "      <td>18.0</td>\n",
       "      <td>8</td>\n",
       "      <td>307.0</td>\n",
       "      <td>130</td>\n",
       "      <td>3504</td>\n",
       "      <td>12.0</td>\n",
       "      <td>70</td>\n",
       "      <td>1</td>\n",
       "    </tr>\n",
       "    <tr>\n",
       "      <th>1</th>\n",
       "      <td>15.0</td>\n",
       "      <td>8</td>\n",
       "      <td>350.0</td>\n",
       "      <td>165</td>\n",
       "      <td>3693</td>\n",
       "      <td>11.5</td>\n",
       "      <td>70</td>\n",
       "      <td>1</td>\n",
       "    </tr>\n",
       "    <tr>\n",
       "      <th>2</th>\n",
       "      <td>18.0</td>\n",
       "      <td>8</td>\n",
       "      <td>318.0</td>\n",
       "      <td>150</td>\n",
       "      <td>3436</td>\n",
       "      <td>11.0</td>\n",
       "      <td>70</td>\n",
       "      <td>1</td>\n",
       "    </tr>\n",
       "    <tr>\n",
       "      <th>3</th>\n",
       "      <td>16.0</td>\n",
       "      <td>8</td>\n",
       "      <td>304.0</td>\n",
       "      <td>150</td>\n",
       "      <td>3433</td>\n",
       "      <td>12.0</td>\n",
       "      <td>70</td>\n",
       "      <td>1</td>\n",
       "    </tr>\n",
       "    <tr>\n",
       "      <th>4</th>\n",
       "      <td>17.0</td>\n",
       "      <td>8</td>\n",
       "      <td>302.0</td>\n",
       "      <td>140</td>\n",
       "      <td>3449</td>\n",
       "      <td>10.5</td>\n",
       "      <td>70</td>\n",
       "      <td>1</td>\n",
       "    </tr>\n",
       "    <tr>\n",
       "      <th>...</th>\n",
       "      <td>...</td>\n",
       "      <td>...</td>\n",
       "      <td>...</td>\n",
       "      <td>...</td>\n",
       "      <td>...</td>\n",
       "      <td>...</td>\n",
       "      <td>...</td>\n",
       "      <td>...</td>\n",
       "    </tr>\n",
       "    <tr>\n",
       "      <th>393</th>\n",
       "      <td>27.0</td>\n",
       "      <td>4</td>\n",
       "      <td>140.0</td>\n",
       "      <td>86</td>\n",
       "      <td>2790</td>\n",
       "      <td>15.6</td>\n",
       "      <td>82</td>\n",
       "      <td>1</td>\n",
       "    </tr>\n",
       "    <tr>\n",
       "      <th>394</th>\n",
       "      <td>44.0</td>\n",
       "      <td>4</td>\n",
       "      <td>97.0</td>\n",
       "      <td>52</td>\n",
       "      <td>2130</td>\n",
       "      <td>24.6</td>\n",
       "      <td>82</td>\n",
       "      <td>2</td>\n",
       "    </tr>\n",
       "    <tr>\n",
       "      <th>395</th>\n",
       "      <td>32.0</td>\n",
       "      <td>4</td>\n",
       "      <td>135.0</td>\n",
       "      <td>84</td>\n",
       "      <td>2295</td>\n",
       "      <td>11.6</td>\n",
       "      <td>82</td>\n",
       "      <td>1</td>\n",
       "    </tr>\n",
       "    <tr>\n",
       "      <th>396</th>\n",
       "      <td>28.0</td>\n",
       "      <td>4</td>\n",
       "      <td>120.0</td>\n",
       "      <td>79</td>\n",
       "      <td>2625</td>\n",
       "      <td>18.6</td>\n",
       "      <td>82</td>\n",
       "      <td>1</td>\n",
       "    </tr>\n",
       "    <tr>\n",
       "      <th>397</th>\n",
       "      <td>31.0</td>\n",
       "      <td>4</td>\n",
       "      <td>119.0</td>\n",
       "      <td>82</td>\n",
       "      <td>2720</td>\n",
       "      <td>19.4</td>\n",
       "      <td>82</td>\n",
       "      <td>1</td>\n",
       "    </tr>\n",
       "  </tbody>\n",
       "</table>\n",
       "<p>398 rows × 8 columns</p>\n",
       "</div>"
      ],
      "text/plain": [
       "      mpg  cylinders  displacement horsepower  weight  acceleration  \\\n",
       "0    18.0          8         307.0        130    3504          12.0   \n",
       "1    15.0          8         350.0        165    3693          11.5   \n",
       "2    18.0          8         318.0        150    3436          11.0   \n",
       "3    16.0          8         304.0        150    3433          12.0   \n",
       "4    17.0          8         302.0        140    3449          10.5   \n",
       "..    ...        ...           ...        ...     ...           ...   \n",
       "393  27.0          4         140.0         86    2790          15.6   \n",
       "394  44.0          4          97.0         52    2130          24.6   \n",
       "395  32.0          4         135.0         84    2295          11.6   \n",
       "396  28.0          4         120.0         79    2625          18.6   \n",
       "397  31.0          4         119.0         82    2720          19.4   \n",
       "\n",
       "     model year  origin  \n",
       "0            70       1  \n",
       "1            70       1  \n",
       "2            70       1  \n",
       "3            70       1  \n",
       "4            70       1  \n",
       "..          ...     ...  \n",
       "393          82       1  \n",
       "394          82       2  \n",
       "395          82       1  \n",
       "396          82       1  \n",
       "397          82       1  \n",
       "\n",
       "[398 rows x 8 columns]"
      ]
     },
     "execution_count": 3,
     "metadata": {},
     "output_type": "execute_result"
    }
   ],
   "source": [
    "cleaned_df = df.drop(columns=['car name'])\n",
    "cleaned_df"
   ]
  },
  {
   "cell_type": "markdown",
   "id": "28b08d58-bf3a-4e93-84a8-cfcef9dd49b7",
   "metadata": {},
   "source": [
    "## Clean the Horsepower Column\n",
    "Remove strings and impute with column mean"
   ]
  },
  {
   "cell_type": "code",
   "execution_count": 4,
   "id": "1832e91c-abd1-42c3-822c-71bdbb6eca4a",
   "metadata": {},
   "outputs": [],
   "source": [
    "cleaned_df['horsepower'] = cleaned_df['horsepower'].apply(pd.to_numeric, errors = 'coerce')\n",
    "cleaned_df['horsepower'] = cleaned_df['horsepower'].fillna(cleaned_df['horsepower'].mean())\n"
   ]
  },
  {
   "cell_type": "markdown",
   "id": "f4cccd11-492f-4e78-95d4-40160971063e",
   "metadata": {},
   "source": [
    "## Create Dummy Variables for the Origin Column"
   ]
  },
  {
   "cell_type": "code",
   "execution_count": 5,
   "id": "01b3cd1d-8f36-4eb9-a50c-59445eee6f37",
   "metadata": {},
   "outputs": [
    {
     "data": {
      "text/plain": [
       "array([1, 3, 2])"
      ]
     },
     "execution_count": 5,
     "metadata": {},
     "output_type": "execute_result"
    }
   ],
   "source": [
    "cleaned_df['origin'].unique()"
   ]
  },
  {
   "cell_type": "markdown",
   "id": "6ab6f3d6-7991-4e9b-86f7-c6b5f57141da",
   "metadata": {},
   "source": [
    "## Create Dummy Variables for the Origin Column"
   ]
  },
  {
   "cell_type": "code",
   "execution_count": 6,
   "id": "092ba15c-1824-4dc3-98b7-2fb628f3a69e",
   "metadata": {},
   "outputs": [],
   "source": [
    "# Create one hot encodings for the origin column\n",
    "one_hot_encoded = pd.get_dummies(cleaned_df['origin'], prefix='origin', dtype='float')"
   ]
  },
  {
   "cell_type": "code",
   "execution_count": 7,
   "id": "ad2a4e2d-5187-4af7-b73e-13d74528d0ae",
   "metadata": {},
   "outputs": [],
   "source": [
    "# Add the one_hot_encoded columns onto the cleaned_df dataframe\n",
    "cleaned_df = pd.concat([cleaned_df, one_hot_encoded], axis=1)"
   ]
  },
  {
   "cell_type": "code",
   "execution_count": 8,
   "id": "4dd4741b-b557-4387-a005-72312a14b036",
   "metadata": {},
   "outputs": [
    {
     "data": {
      "text/html": [
       "<div>\n",
       "<style scoped>\n",
       "    .dataframe tbody tr th:only-of-type {\n",
       "        vertical-align: middle;\n",
       "    }\n",
       "\n",
       "    .dataframe tbody tr th {\n",
       "        vertical-align: top;\n",
       "    }\n",
       "\n",
       "    .dataframe thead th {\n",
       "        text-align: right;\n",
       "    }\n",
       "</style>\n",
       "<table border=\"1\" class=\"dataframe\">\n",
       "  <thead>\n",
       "    <tr style=\"text-align: right;\">\n",
       "      <th></th>\n",
       "      <th>mpg</th>\n",
       "      <th>cylinders</th>\n",
       "      <th>displacement</th>\n",
       "      <th>horsepower</th>\n",
       "      <th>weight</th>\n",
       "      <th>acceleration</th>\n",
       "      <th>model year</th>\n",
       "      <th>origin</th>\n",
       "      <th>origin_1</th>\n",
       "      <th>origin_2</th>\n",
       "      <th>origin_3</th>\n",
       "    </tr>\n",
       "  </thead>\n",
       "  <tbody>\n",
       "    <tr>\n",
       "      <th>0</th>\n",
       "      <td>18.0</td>\n",
       "      <td>8</td>\n",
       "      <td>307.0</td>\n",
       "      <td>130.0</td>\n",
       "      <td>3504</td>\n",
       "      <td>12.0</td>\n",
       "      <td>70</td>\n",
       "      <td>1</td>\n",
       "      <td>1.0</td>\n",
       "      <td>0.0</td>\n",
       "      <td>0.0</td>\n",
       "    </tr>\n",
       "    <tr>\n",
       "      <th>1</th>\n",
       "      <td>15.0</td>\n",
       "      <td>8</td>\n",
       "      <td>350.0</td>\n",
       "      <td>165.0</td>\n",
       "      <td>3693</td>\n",
       "      <td>11.5</td>\n",
       "      <td>70</td>\n",
       "      <td>1</td>\n",
       "      <td>1.0</td>\n",
       "      <td>0.0</td>\n",
       "      <td>0.0</td>\n",
       "    </tr>\n",
       "    <tr>\n",
       "      <th>2</th>\n",
       "      <td>18.0</td>\n",
       "      <td>8</td>\n",
       "      <td>318.0</td>\n",
       "      <td>150.0</td>\n",
       "      <td>3436</td>\n",
       "      <td>11.0</td>\n",
       "      <td>70</td>\n",
       "      <td>1</td>\n",
       "      <td>1.0</td>\n",
       "      <td>0.0</td>\n",
       "      <td>0.0</td>\n",
       "    </tr>\n",
       "    <tr>\n",
       "      <th>3</th>\n",
       "      <td>16.0</td>\n",
       "      <td>8</td>\n",
       "      <td>304.0</td>\n",
       "      <td>150.0</td>\n",
       "      <td>3433</td>\n",
       "      <td>12.0</td>\n",
       "      <td>70</td>\n",
       "      <td>1</td>\n",
       "      <td>1.0</td>\n",
       "      <td>0.0</td>\n",
       "      <td>0.0</td>\n",
       "    </tr>\n",
       "    <tr>\n",
       "      <th>4</th>\n",
       "      <td>17.0</td>\n",
       "      <td>8</td>\n",
       "      <td>302.0</td>\n",
       "      <td>140.0</td>\n",
       "      <td>3449</td>\n",
       "      <td>10.5</td>\n",
       "      <td>70</td>\n",
       "      <td>1</td>\n",
       "      <td>1.0</td>\n",
       "      <td>0.0</td>\n",
       "      <td>0.0</td>\n",
       "    </tr>\n",
       "    <tr>\n",
       "      <th>...</th>\n",
       "      <td>...</td>\n",
       "      <td>...</td>\n",
       "      <td>...</td>\n",
       "      <td>...</td>\n",
       "      <td>...</td>\n",
       "      <td>...</td>\n",
       "      <td>...</td>\n",
       "      <td>...</td>\n",
       "      <td>...</td>\n",
       "      <td>...</td>\n",
       "      <td>...</td>\n",
       "    </tr>\n",
       "    <tr>\n",
       "      <th>393</th>\n",
       "      <td>27.0</td>\n",
       "      <td>4</td>\n",
       "      <td>140.0</td>\n",
       "      <td>86.0</td>\n",
       "      <td>2790</td>\n",
       "      <td>15.6</td>\n",
       "      <td>82</td>\n",
       "      <td>1</td>\n",
       "      <td>1.0</td>\n",
       "      <td>0.0</td>\n",
       "      <td>0.0</td>\n",
       "    </tr>\n",
       "    <tr>\n",
       "      <th>394</th>\n",
       "      <td>44.0</td>\n",
       "      <td>4</td>\n",
       "      <td>97.0</td>\n",
       "      <td>52.0</td>\n",
       "      <td>2130</td>\n",
       "      <td>24.6</td>\n",
       "      <td>82</td>\n",
       "      <td>2</td>\n",
       "      <td>0.0</td>\n",
       "      <td>1.0</td>\n",
       "      <td>0.0</td>\n",
       "    </tr>\n",
       "    <tr>\n",
       "      <th>395</th>\n",
       "      <td>32.0</td>\n",
       "      <td>4</td>\n",
       "      <td>135.0</td>\n",
       "      <td>84.0</td>\n",
       "      <td>2295</td>\n",
       "      <td>11.6</td>\n",
       "      <td>82</td>\n",
       "      <td>1</td>\n",
       "      <td>1.0</td>\n",
       "      <td>0.0</td>\n",
       "      <td>0.0</td>\n",
       "    </tr>\n",
       "    <tr>\n",
       "      <th>396</th>\n",
       "      <td>28.0</td>\n",
       "      <td>4</td>\n",
       "      <td>120.0</td>\n",
       "      <td>79.0</td>\n",
       "      <td>2625</td>\n",
       "      <td>18.6</td>\n",
       "      <td>82</td>\n",
       "      <td>1</td>\n",
       "      <td>1.0</td>\n",
       "      <td>0.0</td>\n",
       "      <td>0.0</td>\n",
       "    </tr>\n",
       "    <tr>\n",
       "      <th>397</th>\n",
       "      <td>31.0</td>\n",
       "      <td>4</td>\n",
       "      <td>119.0</td>\n",
       "      <td>82.0</td>\n",
       "      <td>2720</td>\n",
       "      <td>19.4</td>\n",
       "      <td>82</td>\n",
       "      <td>1</td>\n",
       "      <td>1.0</td>\n",
       "      <td>0.0</td>\n",
       "      <td>0.0</td>\n",
       "    </tr>\n",
       "  </tbody>\n",
       "</table>\n",
       "<p>398 rows × 11 columns</p>\n",
       "</div>"
      ],
      "text/plain": [
       "      mpg  cylinders  displacement  horsepower  weight  acceleration  \\\n",
       "0    18.0          8         307.0       130.0    3504          12.0   \n",
       "1    15.0          8         350.0       165.0    3693          11.5   \n",
       "2    18.0          8         318.0       150.0    3436          11.0   \n",
       "3    16.0          8         304.0       150.0    3433          12.0   \n",
       "4    17.0          8         302.0       140.0    3449          10.5   \n",
       "..    ...        ...           ...         ...     ...           ...   \n",
       "393  27.0          4         140.0        86.0    2790          15.6   \n",
       "394  44.0          4          97.0        52.0    2130          24.6   \n",
       "395  32.0          4         135.0        84.0    2295          11.6   \n",
       "396  28.0          4         120.0        79.0    2625          18.6   \n",
       "397  31.0          4         119.0        82.0    2720          19.4   \n",
       "\n",
       "     model year  origin  origin_1  origin_2  origin_3  \n",
       "0            70       1       1.0       0.0       0.0  \n",
       "1            70       1       1.0       0.0       0.0  \n",
       "2            70       1       1.0       0.0       0.0  \n",
       "3            70       1       1.0       0.0       0.0  \n",
       "4            70       1       1.0       0.0       0.0  \n",
       "..          ...     ...       ...       ...       ...  \n",
       "393          82       1       1.0       0.0       0.0  \n",
       "394          82       2       0.0       1.0       0.0  \n",
       "395          82       1       1.0       0.0       0.0  \n",
       "396          82       1       1.0       0.0       0.0  \n",
       "397          82       1       1.0       0.0       0.0  \n",
       "\n",
       "[398 rows x 11 columns]"
      ]
     },
     "execution_count": 8,
     "metadata": {},
     "output_type": "execute_result"
    }
   ],
   "source": [
    "# View the new dataframe\n",
    "cleaned_df"
   ]
  },
  {
   "cell_type": "markdown",
   "id": "7c776bef-f255-4a66-9997-8aba5c6a5f8b",
   "metadata": {},
   "source": [
    "## Step 3: Create a Correlation Coefficient Matrix\n"
   ]
  },
  {
   "cell_type": "code",
   "execution_count": 9,
   "id": "c5534a52-8282-43f8-af37-92980ecfbbb5",
   "metadata": {},
   "outputs": [
    {
     "data": {
      "text/html": [
       "<div>\n",
       "<style scoped>\n",
       "    .dataframe tbody tr th:only-of-type {\n",
       "        vertical-align: middle;\n",
       "    }\n",
       "\n",
       "    .dataframe tbody tr th {\n",
       "        vertical-align: top;\n",
       "    }\n",
       "\n",
       "    .dataframe thead th {\n",
       "        text-align: right;\n",
       "    }\n",
       "</style>\n",
       "<table border=\"1\" class=\"dataframe\">\n",
       "  <thead>\n",
       "    <tr style=\"text-align: right;\">\n",
       "      <th></th>\n",
       "      <th>mpg</th>\n",
       "      <th>cylinders</th>\n",
       "      <th>displacement</th>\n",
       "      <th>horsepower</th>\n",
       "      <th>weight</th>\n",
       "      <th>acceleration</th>\n",
       "      <th>model year</th>\n",
       "      <th>origin</th>\n",
       "      <th>origin_1</th>\n",
       "      <th>origin_2</th>\n",
       "      <th>origin_3</th>\n",
       "    </tr>\n",
       "  </thead>\n",
       "  <tbody>\n",
       "    <tr>\n",
       "      <th>mpg</th>\n",
       "      <td>1.000000</td>\n",
       "      <td>-0.775396</td>\n",
       "      <td>-0.804203</td>\n",
       "      <td>-0.771437</td>\n",
       "      <td>-0.831741</td>\n",
       "      <td>0.420289</td>\n",
       "      <td>0.579267</td>\n",
       "      <td>0.563450</td>\n",
       "      <td>-0.568192</td>\n",
       "      <td>0.259022</td>\n",
       "      <td>0.442174</td>\n",
       "    </tr>\n",
       "    <tr>\n",
       "      <th>cylinders</th>\n",
       "      <td>-0.775396</td>\n",
       "      <td>1.000000</td>\n",
       "      <td>0.950721</td>\n",
       "      <td>0.838939</td>\n",
       "      <td>0.896017</td>\n",
       "      <td>-0.505419</td>\n",
       "      <td>-0.348746</td>\n",
       "      <td>-0.562543</td>\n",
       "      <td>0.604351</td>\n",
       "      <td>-0.352861</td>\n",
       "      <td>-0.396479</td>\n",
       "    </tr>\n",
       "    <tr>\n",
       "      <th>displacement</th>\n",
       "      <td>-0.804203</td>\n",
       "      <td>0.950721</td>\n",
       "      <td>1.000000</td>\n",
       "      <td>0.893646</td>\n",
       "      <td>0.932824</td>\n",
       "      <td>-0.543684</td>\n",
       "      <td>-0.370164</td>\n",
       "      <td>-0.609409</td>\n",
       "      <td>0.651407</td>\n",
       "      <td>-0.373886</td>\n",
       "      <td>-0.433505</td>\n",
       "    </tr>\n",
       "    <tr>\n",
       "      <th>horsepower</th>\n",
       "      <td>-0.771437</td>\n",
       "      <td>0.838939</td>\n",
       "      <td>0.893646</td>\n",
       "      <td>1.000000</td>\n",
       "      <td>0.860574</td>\n",
       "      <td>-0.684259</td>\n",
       "      <td>-0.411651</td>\n",
       "      <td>-0.453669</td>\n",
       "      <td>0.486083</td>\n",
       "      <td>-0.281258</td>\n",
       "      <td>-0.321325</td>\n",
       "    </tr>\n",
       "    <tr>\n",
       "      <th>weight</th>\n",
       "      <td>-0.831741</td>\n",
       "      <td>0.896017</td>\n",
       "      <td>0.932824</td>\n",
       "      <td>0.860574</td>\n",
       "      <td>1.000000</td>\n",
       "      <td>-0.417457</td>\n",
       "      <td>-0.306564</td>\n",
       "      <td>-0.581024</td>\n",
       "      <td>0.598398</td>\n",
       "      <td>-0.298843</td>\n",
       "      <td>-0.440817</td>\n",
       "    </tr>\n",
       "    <tr>\n",
       "      <th>acceleration</th>\n",
       "      <td>0.420289</td>\n",
       "      <td>-0.505419</td>\n",
       "      <td>-0.543684</td>\n",
       "      <td>-0.684259</td>\n",
       "      <td>-0.417457</td>\n",
       "      <td>1.000000</td>\n",
       "      <td>0.288137</td>\n",
       "      <td>0.205873</td>\n",
       "      <td>-0.250806</td>\n",
       "      <td>0.204473</td>\n",
       "      <td>0.109144</td>\n",
       "    </tr>\n",
       "    <tr>\n",
       "      <th>model year</th>\n",
       "      <td>0.579267</td>\n",
       "      <td>-0.348746</td>\n",
       "      <td>-0.370164</td>\n",
       "      <td>-0.411651</td>\n",
       "      <td>-0.306564</td>\n",
       "      <td>0.288137</td>\n",
       "      <td>1.000000</td>\n",
       "      <td>0.180662</td>\n",
       "      <td>-0.139883</td>\n",
       "      <td>-0.024489</td>\n",
       "      <td>0.193101</td>\n",
       "    </tr>\n",
       "    <tr>\n",
       "      <th>origin</th>\n",
       "      <td>0.563450</td>\n",
       "      <td>-0.562543</td>\n",
       "      <td>-0.609409</td>\n",
       "      <td>-0.453669</td>\n",
       "      <td>-0.581024</td>\n",
       "      <td>0.205873</td>\n",
       "      <td>0.180662</td>\n",
       "      <td>1.000000</td>\n",
       "      <td>-0.924486</td>\n",
       "      <td>0.246332</td>\n",
       "      <td>0.886596</td>\n",
       "    </tr>\n",
       "    <tr>\n",
       "      <th>origin_1</th>\n",
       "      <td>-0.568192</td>\n",
       "      <td>0.604351</td>\n",
       "      <td>0.651407</td>\n",
       "      <td>0.486083</td>\n",
       "      <td>0.598398</td>\n",
       "      <td>-0.250806</td>\n",
       "      <td>-0.139883</td>\n",
       "      <td>-0.924486</td>\n",
       "      <td>1.000000</td>\n",
       "      <td>-0.597198</td>\n",
       "      <td>-0.643317</td>\n",
       "    </tr>\n",
       "    <tr>\n",
       "      <th>origin_2</th>\n",
       "      <td>0.259022</td>\n",
       "      <td>-0.352861</td>\n",
       "      <td>-0.373886</td>\n",
       "      <td>-0.281258</td>\n",
       "      <td>-0.298843</td>\n",
       "      <td>0.204473</td>\n",
       "      <td>-0.024489</td>\n",
       "      <td>0.246332</td>\n",
       "      <td>-0.597198</td>\n",
       "      <td>1.000000</td>\n",
       "      <td>-0.229895</td>\n",
       "    </tr>\n",
       "    <tr>\n",
       "      <th>origin_3</th>\n",
       "      <td>0.442174</td>\n",
       "      <td>-0.396479</td>\n",
       "      <td>-0.433505</td>\n",
       "      <td>-0.321325</td>\n",
       "      <td>-0.440817</td>\n",
       "      <td>0.109144</td>\n",
       "      <td>0.193101</td>\n",
       "      <td>0.886596</td>\n",
       "      <td>-0.643317</td>\n",
       "      <td>-0.229895</td>\n",
       "      <td>1.000000</td>\n",
       "    </tr>\n",
       "  </tbody>\n",
       "</table>\n",
       "</div>"
      ],
      "text/plain": [
       "                   mpg  cylinders  displacement  horsepower    weight  \\\n",
       "mpg           1.000000  -0.775396     -0.804203   -0.771437 -0.831741   \n",
       "cylinders    -0.775396   1.000000      0.950721    0.838939  0.896017   \n",
       "displacement -0.804203   0.950721      1.000000    0.893646  0.932824   \n",
       "horsepower   -0.771437   0.838939      0.893646    1.000000  0.860574   \n",
       "weight       -0.831741   0.896017      0.932824    0.860574  1.000000   \n",
       "acceleration  0.420289  -0.505419     -0.543684   -0.684259 -0.417457   \n",
       "model year    0.579267  -0.348746     -0.370164   -0.411651 -0.306564   \n",
       "origin        0.563450  -0.562543     -0.609409   -0.453669 -0.581024   \n",
       "origin_1     -0.568192   0.604351      0.651407    0.486083  0.598398   \n",
       "origin_2      0.259022  -0.352861     -0.373886   -0.281258 -0.298843   \n",
       "origin_3      0.442174  -0.396479     -0.433505   -0.321325 -0.440817   \n",
       "\n",
       "              acceleration  model year    origin  origin_1  origin_2  origin_3  \n",
       "mpg               0.420289    0.579267  0.563450 -0.568192  0.259022  0.442174  \n",
       "cylinders        -0.505419   -0.348746 -0.562543  0.604351 -0.352861 -0.396479  \n",
       "displacement     -0.543684   -0.370164 -0.609409  0.651407 -0.373886 -0.433505  \n",
       "horsepower       -0.684259   -0.411651 -0.453669  0.486083 -0.281258 -0.321325  \n",
       "weight           -0.417457   -0.306564 -0.581024  0.598398 -0.298843 -0.440817  \n",
       "acceleration      1.000000    0.288137  0.205873 -0.250806  0.204473  0.109144  \n",
       "model year        0.288137    1.000000  0.180662 -0.139883 -0.024489  0.193101  \n",
       "origin            0.205873    0.180662  1.000000 -0.924486  0.246332  0.886596  \n",
       "origin_1         -0.250806   -0.139883 -0.924486  1.000000 -0.597198 -0.643317  \n",
       "origin_2          0.204473   -0.024489  0.246332 -0.597198  1.000000 -0.229895  \n",
       "origin_3          0.109144    0.193101  0.886596 -0.643317 -0.229895  1.000000  "
      ]
     },
     "execution_count": 9,
     "metadata": {},
     "output_type": "execute_result"
    }
   ],
   "source": [
    "cleaned_df.corr()"
   ]
  },
  {
   "cell_type": "code",
   "execution_count": 10,
   "id": "74503e18-b296-43fd-800a-d26a6c9f6d47",
   "metadata": {},
   "outputs": [],
   "source": [
    "# Create a rounded correlation matrix that is easier to read\n",
    "matrix = cleaned_df.corr().round(2)\n",
    "\n",
    "# Create a triangle mask to hide duplicate entries in the matrix\n",
    "mask = np.triu(np.ones_like(matrix, dtype=bool))"
   ]
  },
  {
   "cell_type": "code",
   "execution_count": 11,
   "id": "381054ff-fc3e-4a76-abf4-f9c390ad5ac3",
   "metadata": {},
   "outputs": [
    {
     "data": {
      "text/plain": [
       "<Axes: >"
      ]
     },
     "execution_count": 11,
     "metadata": {},
     "output_type": "execute_result"
    },
    {
     "data": {
      "image/png": "[encoded data removed]",
      "text/plain": [
       "<Figure size 640x480 with 2 Axes>"
      ]
     },
     "metadata": {},
     "output_type": "display_data"
    }
   ],
   "source": [
    "# Display a heatmap to view the correlation matrix easily\n",
    "sns.heatmap(matrix, annot=True, vmax=1, vmin=-1, center=0, cmap='vlag', mask=mask)"
   ]
  },
  {
   "cell_type": "markdown",
   "id": "94e73a1c-defa-4f56-898c-7a984f220ffe",
   "metadata": {},
   "source": [
    "## Correlation Heatmap Discussion\n",
    "The columns that had the highest correlation with mpg weight, displacement, and cylinders. The first is weight with a correlation at -0.83, the second is displacement at -0.8, and the third is cylinders at -0.78.  "
   ]
  },
  {
   "cell_type": "markdown",
   "id": "2ff261a9-a555-4bd8-ae21-cbdde2bbaddc",
   "metadata": {},
   "source": [
    "## Step 4: Plot the Data\n",
    "Plot mpg versus weight. Analyze this graph and explain how it relates to the corresponding correlation coefficient."
   ]
  },
  {
   "cell_type": "code",
   "execution_count": 12,
   "id": "31e7cf34-ceef-4192-8cd1-d6f7fa1a6409",
   "metadata": {},
   "outputs": [
    {
     "data": {
      "image/png": "[encoded data removed]",
      "text/plain": [
       "<Figure size 640x480 with 1 Axes>"
      ]
     },
     "metadata": {},
     "output_type": "display_data"
    }
   ],
   "source": [
    "# Create a normal scatter plot\n",
    "plt.scatter(cleaned_df['weight'], cleaned_df['mpg'])\n",
    "plt.xlabel(\"Vehicle Weight\")\n",
    "plt.ylabel(\"Vehicle MPG\")\n",
    "plt.show()"
   ]
  },
  {
   "cell_type": "code",
   "execution_count": 13,
   "id": "7516c56b-4aa8-442c-9011-d767ddf020da",
   "metadata": {},
   "outputs": [
    {
     "data": {
      "image/png": "[encoded data removed]",
      "text/plain": [
       "<Figure size 500x500 with 1 Axes>"
      ]
     },
     "metadata": {},
     "output_type": "display_data"
    }
   ],
   "source": [
    "# Create a scatter plot with line of perfect fit\n",
    "sns.lmplot(data=cleaned_df, x='weight', y='mpg')\n",
    "plt.title(\"Scatter Plot of Vehicle Weight and MPG\")\n",
    "plt.xlabel(\"Vehicle Weight\")\n",
    "plt.ylabel(\"Vehicle MPG\")\n",
    "plt.show()"
   ]
  },
  {
   "cell_type": "markdown",
   "id": "07b1a3ab-d621-404a-8eb1-e2637300c9b3",
   "metadata": {},
   "source": [
    "## Scatter Plot Analysis\n",
    "\n",
    "From the graph above we can see a negative corelation between mpg and weight. As the weight increases, the miles per gallon decreases. It demonstrates a strong negative correlation. The line of perfect fit helps to illustrate how strong the correlation is and to better identify the a perfect negative trend. We can see that there are some outliers in the plot, but most points are gathered around the line of perfect fit. "
   ]
  },
  {
   "cell_type": "markdown",
   "id": "751425c7-a6fd-41b3-b54b-77ae733f3e37",
   "metadata": {},
   "source": [
    "## Step 5: Split the Data\n",
    "\n",
    "Randomly split the data into 80% training data and 20% test data, where your target is mpg."
   ]
  },
  {
   "cell_type": "code",
   "execution_count": 28,
   "id": "fb1a766a-a9cd-4273-99fa-b99662ee1184",
   "metadata": {},
   "outputs": [
    {
     "name": "stdout",
     "output_type": "stream",
     "text": [
      "X Train set shape (318, 10)\n",
      "X Test set shape (80, 10)\n",
      "y train set shape (318,)\n",
      "y test set shape (80,)\n"
     ]
    }
   ],
   "source": [
    "# Drop the mpg column so that all of the features are together\n",
    "X = cleaned_df.drop(\"mpg\", axis=1)\n",
    "y = cleaned_df['mpg'] # Create the target variable\n",
    "X_train, X_test, y_train, y_test = train_test_split(X, y, test_size=0.2, random_state=42)\n",
    "\n",
    "print(f\"X Train set shape {X_train.shape}\")\n",
    "print(f\"X Test set shape {X_test.shape}\")\n",
    "print(f\"y train set shape {y_train.shape}\")\n",
    "print(f\"y test set shape {y_test.shape}\")\n"
   ]
  },
  {
   "cell_type": "markdown",
   "id": "c7f8a773-f758-4dc7-bd73-a98ca4fd7d96",
   "metadata": {},
   "source": [
    "## Step 6: Train the data \n",
    "\n",
    "Train an ordinary linear regression on the training data"
   ]
  },
  {
   "cell_type": "code",
   "execution_count": 29,
   "id": "99aa33e5-dc60-42b1-a92f-08b61ada7ecf",
   "metadata": {},
   "outputs": [],
   "source": [
    "# Create linear regression model\n",
    "regression = LinearRegression()\n",
    "\n",
    "# Train the model\n",
    "model = regression.fit(X_train, y_train)"
   ]
  },
  {
   "cell_type": "code",
   "execution_count": 30,
   "id": "ead3913e-f12b-4f41-8355-c94a56f098fd",
   "metadata": {},
   "outputs": [],
   "source": [
    "# Make predictions on the training data\n",
    "y_train_prediction = model.predict(X_train)\n",
    "\n",
    "# Make predictions on the test data \n",
    "y_test_prediction = model.predict(X_test)"
   ]
  },
  {
   "cell_type": "markdown",
   "id": "7e39c254-1b29-4b33-9905-54395b272a63",
   "metadata": {},
   "source": [
    "## Step 7: Calculate R2, RMSE, and MAE\n",
    "\n",
    "Calculate R2, RMSE, and MAE on both the training and test sets and interpret your results.\n"
   ]
  },
  {
   "cell_type": "code",
   "execution_count": 31,
   "id": "779c5a1b-91b4-45a6-9299-d9b234f83df0",
   "metadata": {},
   "outputs": [
    {
     "name": "stdout",
     "output_type": "stream",
     "text": [
      "Train R2 Score: 0.8188288951042786\n",
      "Test R2 Score: 0.8449006123776617\n"
     ]
    }
   ],
   "source": [
    "# R2 Scores\n",
    "train_r2 = r2_score(y_train, y_train_prediction)\n",
    "test_r2 = r2_score(y_test, y_test_prediction)\n",
    "print(f\"Train R2 Score: {train_r2}\")\n",
    "print(f\"Test R2 Score: {test_r2}\")"
   ]
  },
  {
   "cell_type": "code",
   "execution_count": 32,
   "id": "0d4fda56-11b3-491a-81b3-fe4ef541c040",
   "metadata": {},
   "outputs": [
    {
     "name": "stdout",
     "output_type": "stream",
     "text": [
      "Train RMSE: 3.3702735639389054\n",
      "Test RMSE: 2.8877573478836314\n"
     ]
    }
   ],
   "source": [
    "# RMSE \n",
    "train_rmse = np.sqrt(mean_squared_error(y_train, y_train_prediction))\n",
    "test_rmse = np.sqrt(mean_squared_error(y_test, y_test_prediction))\n",
    "print(f\"Train RMSE: {train_rmse}\")\n",
    "print(f\"Test RMSE: {test_rmse}\")"
   ]
  },
  {
   "cell_type": "code",
   "execution_count": 33,
   "id": "f7104aac-9062-4a58-befd-c06ce26dba07",
   "metadata": {},
   "outputs": [
    {
     "name": "stdout",
     "output_type": "stream",
     "text": [
      "Train MAE 2.6054846937710354\n",
      "Test MAE 2.2875867704421067\n"
     ]
    }
   ],
   "source": [
    "# MAE\n",
    "train_mae = mean_absolute_error(y_train, y_train_prediction)\n",
    "test_mae = mean_absolute_error(y_test, y_test_prediction)\n",
    "print(f\"Train MAE {train_mae}\")\n",
    "print(f\"Test MAE {test_mae}\")"
   ]
  },
  {
   "cell_type": "code",
   "execution_count": 34,
   "id": "1940de29-fd3b-4214-95f2-6861f1e8395a",
   "metadata": {},
   "outputs": [
    {
     "name": "stdout",
     "output_type": "stream",
     "text": [
      "Train MAPE 0.12005579547842314\n",
      "Test MAPE 0.11621598325246248\n"
     ]
    }
   ],
   "source": [
    "# MAPE\n",
    "train_mape = mean_absolute_percentage_error(y_train, y_train_prediction)\n",
    "test_mape = mean_absolute_percentage_error(y_test, y_test_prediction)\n",
    "print(f\"Train MAPE {train_mape}\")\n",
    "print(f\"Test MAPE {test_mape}\")"
   ]
  },
  {
   "cell_type": "markdown",
   "id": "2bddb4fb-da19-41e7-ae45-ce719dc23c6e",
   "metadata": {},
   "source": [
    "## Interpret the Results\n",
    "\n",
    "### R2 Score\n",
    "\n",
    "The R2 Scores for both the train and test sets performed pretty good with scores of 81.88% and 84.49%, respectively. R2 Scores can be interpreted as the percentage of the dependent variable (mpg in this case) variance is explained by the independent variables (Allwright, 2022). The better score for the test data is a good sign that indicates the model generalizes well to new, previously unseen data. The ability to generalize well is an indication that our model is not overfit. \n",
    "\n",
    "### RMSE Root Mean Squared Error\n",
    "\n",
    "RMSE is used to assess how well a regression model fits a dataset by using the average distance between the predicted values from the actual values. Since this is an error value, we want a lower value. RMSE provides us with the square root of the variance of the residuals. The low scores indicate that this model is a good fit for the data and the lower test score indicates that it generalizes well.   \n",
    "\n",
    "### MAE Mean Average Error\n",
    "\n",
    "MAE is a measure of model accuracy on the same scale as the prediction target. Therefore, it is important to remember that MAE values need to be viewed at in relation to the dataset. With a train and test score of 2.6 and 2.28 respectively, this is a pretty good error value for the dataset. If we wanted to view this outside of the context of the dataset, we can use Mean Absolute Percentage Error or MAPE\n",
    "\n",
    "The MAPE percentages were 12% for train and 11% for test, which is a good value to have. Stephen Allwright recommends less than 20% as being good. \n",
    "\n",
    "\n",
    "\n",
    "References:\n",
    "Allwright, S. (2022, December 6). How to interpret R Squared (simply explained). Stephen Allwright. https://stephenallwright.com/interpret-r-squared/"
   ]
  },
  {
   "cell_type": "markdown",
   "id": "93fdbe2d-a54d-436e-89de-a6fab6c1066d",
   "metadata": {},
   "source": [
    "## Step 8: Pick Another Model\n",
    "Pick another regression model and repeat the previous two steps. Note: Do NOT choose logistic regression as it is more like a classification model.\n",
    "\n",
    "We will look at Gradient Boosting Regression for the alternative model"
   ]
  },
  {
   "cell_type": "markdown",
   "id": "e2916b30-29b7-4909-bff5-829c844aae2c",
   "metadata": {},
   "source": [
    "## Create a Gradient Boosting Regression Model\n"
   ]
  },
  {
   "cell_type": "code",
   "execution_count": 40,
   "id": "5d8516ac-9496-4222-9b97-d6297e86ab41",
   "metadata": {},
   "outputs": [],
   "source": [
    "# Create the model\n",
    "reg = GradientBoostingRegressor()\n",
    "# Train the model\n",
    "gbr_model = reg.fit(X_train, y_train)"
   ]
  },
  {
   "cell_type": "code",
   "execution_count": 48,
   "id": "41003a10-ef0f-499c-8248-cca9261e1e24",
   "metadata": {},
   "outputs": [],
   "source": [
    "# Make predictions on the training data\n",
    "gbr_y_train_prediction = gbr_model.predict(X_train)"
   ]
  },
  {
   "cell_type": "code",
   "execution_count": 49,
   "id": "a78519a6-88cc-42d0-b81e-58ab777668f9",
   "metadata": {},
   "outputs": [],
   "source": [
    "# Make predictions on the test data\n",
    "gbr_y_test_prediction = gbr_model.predict(X_test)"
   ]
  },
  {
   "cell_type": "code",
   "execution_count": 52,
   "id": "f3e8fc99-1a41-4f7d-b657-c5f489192fe1",
   "metadata": {},
   "outputs": [
    {
     "name": "stdout",
     "output_type": "stream",
     "text": [
      "GBR Train R2 Score: 0.9722703074402246\n",
      "GBR Test R2 Score: 0.9040249857006827\n"
     ]
    }
   ],
   "source": [
    "# R2 Scores\n",
    "\n",
    "gbr_train_r2 = r2_score(y_train, gbr_y_train_prediction)\n",
    "gbr_test_r2 = r2_score(y_test, gbr_y_test_prediction)\n",
    "print(f\"GBR Train R2 Score: {gbr_train_r2}\")\n",
    "print(f\"GBR Test R2 Score: {gbr_test_r2}\")"
   ]
  },
  {
   "cell_type": "code",
   "execution_count": 54,
   "id": "c8f89b5a-a71f-4f6b-a7b2-7cae687e194a",
   "metadata": {},
   "outputs": [
    {
     "name": "stdout",
     "output_type": "stream",
     "text": [
      "Train RMSE: 1.3185397125087797\n",
      "Test RMSE: 2.271615109944836\n"
     ]
    }
   ],
   "source": [
    "# RMSE \n",
    "gbr_train_rmse = np.sqrt(mean_squared_error(y_train, gbr_y_train_prediction))\n",
    "gbr_test_rmse = np.sqrt(mean_squared_error(y_test, gbr_y_test_prediction))\n",
    "print(f\"Train RMSE: {gbr_train_rmse}\")\n",
    "print(f\"Test RMSE: {gbr_test_rmse}\")"
   ]
  },
  {
   "cell_type": "code",
   "execution_count": 53,
   "id": "94260908-d712-49f2-b3e5-c69d1abcebe5",
   "metadata": {},
   "outputs": [
    {
     "name": "stdout",
     "output_type": "stream",
     "text": [
      "GBR Train MAE 1.0276315935126283\n",
      "GBR Test MAE 1.7152216179576325\n"
     ]
    }
   ],
   "source": [
    "# MAE\n",
    "gbr_train_mae = mean_absolute_error(y_train, gbr_y_train_prediction)\n",
    "gbr_test_mae = mean_absolute_error(y_test, gbr_y_test_prediction)\n",
    "print(f\"GBR Train MAE {gbr_train_mae}\")\n",
    "print(f\"GBR Test MAE {gbr_test_mae}\")"
   ]
  },
  {
   "cell_type": "code",
   "execution_count": null,
   "id": "41283f63-0724-4ea0-a952-0f51d5a2ceaf",
   "metadata": {},
   "outputs": [],
   "source": []
  }
 ],
 "metadata": {
  "kernelspec": {
   "display_name": "Python 3 (ipykernel)",
   "language": "python",
   "name": "python3"
  },
  "language_info": {
   "codemirror_mode": {
    "name": "ipython",
    "version": 3
   },
   "file_extension": ".py",
   "mimetype": "text/x-python",
   "name": "python",
   "nbconvert_exporter": "python",
   "pygments_lexer": "ipython3",
   "version": "3.10.12"
  }
 },
 "nbformat": 4,
 "nbformat_minor": 5
}
