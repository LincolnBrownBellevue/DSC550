{
 "cells": [
  {
   "cell_type": "markdown",
   "id": "8d839b2f-19de-41e0-a23f-423f2afaead7",
   "metadata": {},
   "source": [
    "## Wk7 Assignment\n",
    "\n",
    "## Lincoln Brown\n",
    "\n",
    "## DSC550-T302\n",
    "\n",
    "## Professor Werner"
   ]
  },
  {
   "cell_type": "markdown",
   "id": "b3d2b8f8-0047-4219-8814-76ca6a9b1890",
   "metadata": {},
   "source": [
    "## Part 1: PCA and Variance Threshold in a Linear Regression"
   ]
  },
  {
   "cell_type": "code",
   "execution_count": 1,
   "id": "4918bc48-d594-4caf-a839-26211e71ae9b",
   "metadata": {},
   "outputs": [],
   "source": [
    "import matplotlib.pyplot as plt\n",
    "import numpy as np\n",
    "import os\n",
    "import pandas as pd\n",
    "import seaborn as sns\n",
    "from sklearn import tree\n",
    "from sklearn.decomposition import PCA\n",
    "from sklearn.feature_selection import chi2\n",
    "from sklearn.feature_selection import f_classif\n",
    "from sklearn.feature_selection import SelectKBest\n",
    "from sklearn.feature_selection import VarianceThreshold\n",
    "from sklearn.linear_model import LinearRegression\n",
    "from sklearn.metrics import accuracy_score\n",
    "from sklearn.metrics import confusion_matrix\n",
    "from sklearn.metrics import mean_absolute_error\n",
    "from sklearn.metrics import mean_squared_error\n",
    "from sklearn.metrics import r2_score\n",
    "from sklearn.model_selection import train_test_split\n",
    "from sklearn.preprocessing import LabelEncoder\n",
    "from sklearn.preprocessing import MinMaxScaler\n",
    "from sklearn.preprocessing import StandardScaler\n",
    "from sklearn.tree import DecisionTreeClassifier\n",
    "from ydata_profiling import ProfileReport"
   ]
  },
  {
   "cell_type": "markdown",
   "id": "ea365ee0-ca09-4f65-b628-c9c07c23e635",
   "metadata": {},
   "source": [
    "## Step 1: Import the Data\n",
    "Import the housing data as a dataframe and ensure that the data is loaded properly."
   ]
  },
  {
   "cell_type": "code",
   "execution_count": 2,
   "id": "190dd901-daa3-48f5-8539-d5fb2ec8935f",
   "metadata": {},
   "outputs": [
    {
     "data": {
      "text/plain": [
       "['AmesHousing.html',\n",
       " 'test.csv',\n",
       " 'data_description.txt',\n",
       " 'train.csv',\n",
       " '.ipynb_checkpoints',\n",
       " 'sample_submission.csv']"
      ]
     },
     "execution_count": 2,
     "metadata": {},
     "output_type": "execute_result"
    }
   ],
   "source": [
    "if not os.getcwd().__contains__('house-prices-advanced'):\n",
    "    os.chdir('house-prices-advanced-regression-techniques')\n",
    "os.listdir()"
   ]
  },
  {
   "cell_type": "code",
   "execution_count": 3,
   "id": "5a364b90-bb5d-4ba8-a588-d2c8e68f3295",
   "metadata": {},
   "outputs": [
    {
     "data": {
      "text/html": [
       "<div>\n",
       "<style scoped>\n",
       "    .dataframe tbody tr th:only-of-type {\n",
       "        vertical-align: middle;\n",
       "    }\n",
       "\n",
       "    .dataframe tbody tr th {\n",
       "        vertical-align: top;\n",
       "    }\n",
       "\n",
       "    .dataframe thead th {\n",
       "        text-align: right;\n",
       "    }\n",
       "</style>\n",
       "<table border=\"1\" class=\"dataframe\">\n",
       "  <thead>\n",
       "    <tr style=\"text-align: right;\">\n",
       "      <th></th>\n",
       "      <th>Id</th>\n",
       "      <th>MSSubClass</th>\n",
       "      <th>MSZoning</th>\n",
       "      <th>LotFrontage</th>\n",
       "      <th>LotArea</th>\n",
       "      <th>Street</th>\n",
       "      <th>Alley</th>\n",
       "      <th>LotShape</th>\n",
       "      <th>LandContour</th>\n",
       "      <th>Utilities</th>\n",
       "      <th>...</th>\n",
       "      <th>PoolArea</th>\n",
       "      <th>PoolQC</th>\n",
       "      <th>Fence</th>\n",
       "      <th>MiscFeature</th>\n",
       "      <th>MiscVal</th>\n",
       "      <th>MoSold</th>\n",
       "      <th>YrSold</th>\n",
       "      <th>SaleType</th>\n",
       "      <th>SaleCondition</th>\n",
       "      <th>SalePrice</th>\n",
       "    </tr>\n",
       "  </thead>\n",
       "  <tbody>\n",
       "    <tr>\n",
       "      <th>0</th>\n",
       "      <td>1</td>\n",
       "      <td>60</td>\n",
       "      <td>RL</td>\n",
       "      <td>65.0</td>\n",
       "      <td>8450</td>\n",
       "      <td>Pave</td>\n",
       "      <td>NaN</td>\n",
       "      <td>Reg</td>\n",
       "      <td>Lvl</td>\n",
       "      <td>AllPub</td>\n",
       "      <td>...</td>\n",
       "      <td>0</td>\n",
       "      <td>NaN</td>\n",
       "      <td>NaN</td>\n",
       "      <td>NaN</td>\n",
       "      <td>0</td>\n",
       "      <td>2</td>\n",
       "      <td>2008</td>\n",
       "      <td>WD</td>\n",
       "      <td>Normal</td>\n",
       "      <td>208500</td>\n",
       "    </tr>\n",
       "    <tr>\n",
       "      <th>1</th>\n",
       "      <td>2</td>\n",
       "      <td>20</td>\n",
       "      <td>RL</td>\n",
       "      <td>80.0</td>\n",
       "      <td>9600</td>\n",
       "      <td>Pave</td>\n",
       "      <td>NaN</td>\n",
       "      <td>Reg</td>\n",
       "      <td>Lvl</td>\n",
       "      <td>AllPub</td>\n",
       "      <td>...</td>\n",
       "      <td>0</td>\n",
       "      <td>NaN</td>\n",
       "      <td>NaN</td>\n",
       "      <td>NaN</td>\n",
       "      <td>0</td>\n",
       "      <td>5</td>\n",
       "      <td>2007</td>\n",
       "      <td>WD</td>\n",
       "      <td>Normal</td>\n",
       "      <td>181500</td>\n",
       "    </tr>\n",
       "    <tr>\n",
       "      <th>2</th>\n",
       "      <td>3</td>\n",
       "      <td>60</td>\n",
       "      <td>RL</td>\n",
       "      <td>68.0</td>\n",
       "      <td>11250</td>\n",
       "      <td>Pave</td>\n",
       "      <td>NaN</td>\n",
       "      <td>IR1</td>\n",
       "      <td>Lvl</td>\n",
       "      <td>AllPub</td>\n",
       "      <td>...</td>\n",
       "      <td>0</td>\n",
       "      <td>NaN</td>\n",
       "      <td>NaN</td>\n",
       "      <td>NaN</td>\n",
       "      <td>0</td>\n",
       "      <td>9</td>\n",
       "      <td>2008</td>\n",
       "      <td>WD</td>\n",
       "      <td>Normal</td>\n",
       "      <td>223500</td>\n",
       "    </tr>\n",
       "    <tr>\n",
       "      <th>3</th>\n",
       "      <td>4</td>\n",
       "      <td>70</td>\n",
       "      <td>RL</td>\n",
       "      <td>60.0</td>\n",
       "      <td>9550</td>\n",
       "      <td>Pave</td>\n",
       "      <td>NaN</td>\n",
       "      <td>IR1</td>\n",
       "      <td>Lvl</td>\n",
       "      <td>AllPub</td>\n",
       "      <td>...</td>\n",
       "      <td>0</td>\n",
       "      <td>NaN</td>\n",
       "      <td>NaN</td>\n",
       "      <td>NaN</td>\n",
       "      <td>0</td>\n",
       "      <td>2</td>\n",
       "      <td>2006</td>\n",
       "      <td>WD</td>\n",
       "      <td>Abnorml</td>\n",
       "      <td>140000</td>\n",
       "    </tr>\n",
       "    <tr>\n",
       "      <th>4</th>\n",
       "      <td>5</td>\n",
       "      <td>60</td>\n",
       "      <td>RL</td>\n",
       "      <td>84.0</td>\n",
       "      <td>14260</td>\n",
       "      <td>Pave</td>\n",
       "      <td>NaN</td>\n",
       "      <td>IR1</td>\n",
       "      <td>Lvl</td>\n",
       "      <td>AllPub</td>\n",
       "      <td>...</td>\n",
       "      <td>0</td>\n",
       "      <td>NaN</td>\n",
       "      <td>NaN</td>\n",
       "      <td>NaN</td>\n",
       "      <td>0</td>\n",
       "      <td>12</td>\n",
       "      <td>2008</td>\n",
       "      <td>WD</td>\n",
       "      <td>Normal</td>\n",
       "      <td>250000</td>\n",
       "    </tr>\n",
       "    <tr>\n",
       "      <th>...</th>\n",
       "      <td>...</td>\n",
       "      <td>...</td>\n",
       "      <td>...</td>\n",
       "      <td>...</td>\n",
       "      <td>...</td>\n",
       "      <td>...</td>\n",
       "      <td>...</td>\n",
       "      <td>...</td>\n",
       "      <td>...</td>\n",
       "      <td>...</td>\n",
       "      <td>...</td>\n",
       "      <td>...</td>\n",
       "      <td>...</td>\n",
       "      <td>...</td>\n",
       "      <td>...</td>\n",
       "      <td>...</td>\n",
       "      <td>...</td>\n",
       "      <td>...</td>\n",
       "      <td>...</td>\n",
       "      <td>...</td>\n",
       "      <td>...</td>\n",
       "    </tr>\n",
       "    <tr>\n",
       "      <th>1455</th>\n",
       "      <td>1456</td>\n",
       "      <td>60</td>\n",
       "      <td>RL</td>\n",
       "      <td>62.0</td>\n",
       "      <td>7917</td>\n",
       "      <td>Pave</td>\n",
       "      <td>NaN</td>\n",
       "      <td>Reg</td>\n",
       "      <td>Lvl</td>\n",
       "      <td>AllPub</td>\n",
       "      <td>...</td>\n",
       "      <td>0</td>\n",
       "      <td>NaN</td>\n",
       "      <td>NaN</td>\n",
       "      <td>NaN</td>\n",
       "      <td>0</td>\n",
       "      <td>8</td>\n",
       "      <td>2007</td>\n",
       "      <td>WD</td>\n",
       "      <td>Normal</td>\n",
       "      <td>175000</td>\n",
       "    </tr>\n",
       "    <tr>\n",
       "      <th>1456</th>\n",
       "      <td>1457</td>\n",
       "      <td>20</td>\n",
       "      <td>RL</td>\n",
       "      <td>85.0</td>\n",
       "      <td>13175</td>\n",
       "      <td>Pave</td>\n",
       "      <td>NaN</td>\n",
       "      <td>Reg</td>\n",
       "      <td>Lvl</td>\n",
       "      <td>AllPub</td>\n",
       "      <td>...</td>\n",
       "      <td>0</td>\n",
       "      <td>NaN</td>\n",
       "      <td>MnPrv</td>\n",
       "      <td>NaN</td>\n",
       "      <td>0</td>\n",
       "      <td>2</td>\n",
       "      <td>2010</td>\n",
       "      <td>WD</td>\n",
       "      <td>Normal</td>\n",
       "      <td>210000</td>\n",
       "    </tr>\n",
       "    <tr>\n",
       "      <th>1457</th>\n",
       "      <td>1458</td>\n",
       "      <td>70</td>\n",
       "      <td>RL</td>\n",
       "      <td>66.0</td>\n",
       "      <td>9042</td>\n",
       "      <td>Pave</td>\n",
       "      <td>NaN</td>\n",
       "      <td>Reg</td>\n",
       "      <td>Lvl</td>\n",
       "      <td>AllPub</td>\n",
       "      <td>...</td>\n",
       "      <td>0</td>\n",
       "      <td>NaN</td>\n",
       "      <td>GdPrv</td>\n",
       "      <td>Shed</td>\n",
       "      <td>2500</td>\n",
       "      <td>5</td>\n",
       "      <td>2010</td>\n",
       "      <td>WD</td>\n",
       "      <td>Normal</td>\n",
       "      <td>266500</td>\n",
       "    </tr>\n",
       "    <tr>\n",
       "      <th>1458</th>\n",
       "      <td>1459</td>\n",
       "      <td>20</td>\n",
       "      <td>RL</td>\n",
       "      <td>68.0</td>\n",
       "      <td>9717</td>\n",
       "      <td>Pave</td>\n",
       "      <td>NaN</td>\n",
       "      <td>Reg</td>\n",
       "      <td>Lvl</td>\n",
       "      <td>AllPub</td>\n",
       "      <td>...</td>\n",
       "      <td>0</td>\n",
       "      <td>NaN</td>\n",
       "      <td>NaN</td>\n",
       "      <td>NaN</td>\n",
       "      <td>0</td>\n",
       "      <td>4</td>\n",
       "      <td>2010</td>\n",
       "      <td>WD</td>\n",
       "      <td>Normal</td>\n",
       "      <td>142125</td>\n",
       "    </tr>\n",
       "    <tr>\n",
       "      <th>1459</th>\n",
       "      <td>1460</td>\n",
       "      <td>20</td>\n",
       "      <td>RL</td>\n",
       "      <td>75.0</td>\n",
       "      <td>9937</td>\n",
       "      <td>Pave</td>\n",
       "      <td>NaN</td>\n",
       "      <td>Reg</td>\n",
       "      <td>Lvl</td>\n",
       "      <td>AllPub</td>\n",
       "      <td>...</td>\n",
       "      <td>0</td>\n",
       "      <td>NaN</td>\n",
       "      <td>NaN</td>\n",
       "      <td>NaN</td>\n",
       "      <td>0</td>\n",
       "      <td>6</td>\n",
       "      <td>2008</td>\n",
       "      <td>WD</td>\n",
       "      <td>Normal</td>\n",
       "      <td>147500</td>\n",
       "    </tr>\n",
       "  </tbody>\n",
       "</table>\n",
       "<p>1460 rows × 81 columns</p>\n",
       "</div>"
      ],
      "text/plain": [
       "        Id  MSSubClass MSZoning  LotFrontage  LotArea Street Alley LotShape  \\\n",
       "0        1          60       RL         65.0     8450   Pave   NaN      Reg   \n",
       "1        2          20       RL         80.0     9600   Pave   NaN      Reg   \n",
       "2        3          60       RL         68.0    11250   Pave   NaN      IR1   \n",
       "3        4          70       RL         60.0     9550   Pave   NaN      IR1   \n",
       "4        5          60       RL         84.0    14260   Pave   NaN      IR1   \n",
       "...    ...         ...      ...          ...      ...    ...   ...      ...   \n",
       "1455  1456          60       RL         62.0     7917   Pave   NaN      Reg   \n",
       "1456  1457          20       RL         85.0    13175   Pave   NaN      Reg   \n",
       "1457  1458          70       RL         66.0     9042   Pave   NaN      Reg   \n",
       "1458  1459          20       RL         68.0     9717   Pave   NaN      Reg   \n",
       "1459  1460          20       RL         75.0     9937   Pave   NaN      Reg   \n",
       "\n",
       "     LandContour Utilities  ... PoolArea PoolQC  Fence MiscFeature MiscVal  \\\n",
       "0            Lvl    AllPub  ...        0    NaN    NaN         NaN       0   \n",
       "1            Lvl    AllPub  ...        0    NaN    NaN         NaN       0   \n",
       "2            Lvl    AllPub  ...        0    NaN    NaN         NaN       0   \n",
       "3            Lvl    AllPub  ...        0    NaN    NaN         NaN       0   \n",
       "4            Lvl    AllPub  ...        0    NaN    NaN         NaN       0   \n",
       "...          ...       ...  ...      ...    ...    ...         ...     ...   \n",
       "1455         Lvl    AllPub  ...        0    NaN    NaN         NaN       0   \n",
       "1456         Lvl    AllPub  ...        0    NaN  MnPrv         NaN       0   \n",
       "1457         Lvl    AllPub  ...        0    NaN  GdPrv        Shed    2500   \n",
       "1458         Lvl    AllPub  ...        0    NaN    NaN         NaN       0   \n",
       "1459         Lvl    AllPub  ...        0    NaN    NaN         NaN       0   \n",
       "\n",
       "     MoSold YrSold  SaleType  SaleCondition  SalePrice  \n",
       "0         2   2008        WD         Normal     208500  \n",
       "1         5   2007        WD         Normal     181500  \n",
       "2         9   2008        WD         Normal     223500  \n",
       "3         2   2006        WD        Abnorml     140000  \n",
       "4        12   2008        WD         Normal     250000  \n",
       "...     ...    ...       ...            ...        ...  \n",
       "1455      8   2007        WD         Normal     175000  \n",
       "1456      2   2010        WD         Normal     210000  \n",
       "1457      5   2010        WD         Normal     266500  \n",
       "1458      4   2010        WD         Normal     142125  \n",
       "1459      6   2008        WD         Normal     147500  \n",
       "\n",
       "[1460 rows x 81 columns]"
      ]
     },
     "execution_count": 3,
     "metadata": {},
     "output_type": "execute_result"
    }
   ],
   "source": [
    "df = pd.read_csv('train.csv')\n",
    "df"
   ]
  },
  {
   "cell_type": "markdown",
   "id": "2beaf7f2-ae0e-4103-b2d5-58196e67de97",
   "metadata": {},
   "source": [
    "## Step 2: Drop Columns\n",
    "\n",
    "Drop the \"Id\" column and any features that are missing more than 40% of their values."
   ]
  },
  {
   "cell_type": "code",
   "execution_count": 4,
   "id": "1fb5acaa-2c1e-46fe-a1db-8d3e6e65f22f",
   "metadata": {},
   "outputs": [
    {
     "name": "stdout",
     "output_type": "stream",
     "text": [
      "There are 1460 records and 80 features in the dataset.\n"
     ]
    },
    {
     "data": {
      "text/plain": [
       "80"
      ]
     },
     "execution_count": 4,
     "metadata": {},
     "output_type": "execute_result"
    }
   ],
   "source": [
    "cleaned_df = df.copy()\n",
    "if \"Id\" in cleaned_df.columns:\n",
    "    cleaned_df = cleaned_df.drop(\"Id\", axis=1)\n",
    "nans = cleaned_df.isna().sum()\n",
    "nans[nans > 0]\n",
    "print(f\"There are {cleaned_df.shape[0]} records and {cleaned_df.shape[1]} features in the dataset.\")\n",
    "len(cleaned_df.columns)"
   ]
  },
  {
   "cell_type": "code",
   "execution_count": 5,
   "id": "82cb06e9-45a9-4aef-b62c-cb906721bf2a",
   "metadata": {},
   "outputs": [
    {
     "name": "stdout",
     "output_type": "stream",
     "text": [
      "584\n",
      "There are 6 columns to be removed.\n"
     ]
    },
    {
     "data": {
      "text/plain": [
       "['Alley', 'MasVnrType', 'FireplaceQu', 'PoolQC', 'Fence', 'MiscFeature']"
      ]
     },
     "execution_count": 5,
     "metadata": {},
     "output_type": "execute_result"
    }
   ],
   "source": [
    "# Get the names of columns to be dropped and number of non-null values desired\n",
    "null_threshold = int(0.4 * len(cleaned_df))\n",
    "print(null_threshold)\n",
    "missing_val_cols = cleaned_df.columns[cleaned_df.isnull().sum() > null_threshold].tolist()\n",
    "print(f\"There are {len(missing_val_cols)} columns to be removed.\")\n",
    "missing_val_cols"
   ]
  },
  {
   "cell_type": "code",
   "execution_count": 6,
   "id": "f27db573-e3ac-4270-b384-6da54fd950b4",
   "metadata": {},
   "outputs": [
    {
     "data": {
      "text/plain": [
       "(1460, 74)"
      ]
     },
     "execution_count": 6,
     "metadata": {},
     "output_type": "execute_result"
    }
   ],
   "source": [
    "# Drop any features that are missing more than 40% of their data\n",
    "threshold = 0.6 * len(df)\n",
    "cleaned_df = cleaned_df.dropna(thresh=threshold, axis=1)\n",
    "cleaned_df.shape"
   ]
  },
  {
   "cell_type": "code",
   "execution_count": 7,
   "id": "f753f16f-aacc-49c8-b535-9640fb4789bb",
   "metadata": {},
   "outputs": [
    {
     "data": {
      "text/plain": [
       "Series([], dtype: int64)"
      ]
     },
     "execution_count": 7,
     "metadata": {},
     "output_type": "execute_result"
    }
   ],
   "source": [
    "nans = cleaned_df.isna().sum()\n",
    "nans[nans > threshold]"
   ]
  },
  {
   "cell_type": "code",
   "execution_count": 8,
   "id": "088717e0-2e16-4297-9b18-621c039200e6",
   "metadata": {},
   "outputs": [
    {
     "name": "stdout",
     "output_type": "stream",
     "text": [
      "After cleaning, there are 1460 records and 74 features.\n"
     ]
    }
   ],
   "source": [
    "print(f\"After cleaning, there are {cleaned_df.shape[0]} records and {cleaned_df.shape[1]} features.\")"
   ]
  },
  {
   "cell_type": "markdown",
   "id": "0bb273c0-aa4c-4e84-9f10-4649995fd847",
   "metadata": {},
   "source": [
    "## Step 3: Fill in Missing Numeric Values\n",
    "\n",
    "For numerical columns, fill in any missing data with the median value."
   ]
  },
  {
   "cell_type": "code",
   "execution_count": 9,
   "id": "ecd9277b-ef21-46cb-bf42-1f812bd32c8c",
   "metadata": {},
   "outputs": [
    {
     "data": {
      "text/plain": [
       "object     37\n",
       "int64      34\n",
       "float64     3\n",
       "Name: count, dtype: int64"
      ]
     },
     "execution_count": 9,
     "metadata": {},
     "output_type": "execute_result"
    }
   ],
   "source": [
    "# Get the number of column types\n",
    "cleaned_df.dtypes.value_counts()"
   ]
  },
  {
   "cell_type": "code",
   "execution_count": 10,
   "id": "8da69003-d1c1-487e-9aa8-2dadfe0f28c5",
   "metadata": {},
   "outputs": [
    {
     "data": {
      "text/plain": [
       "LotFrontage     259\n",
       "MasVnrArea        8\n",
       "BsmtQual         37\n",
       "BsmtCond         37\n",
       "BsmtExposure     38\n",
       "BsmtFinType1     37\n",
       "BsmtFinType2     38\n",
       "Electrical        1\n",
       "GarageType       81\n",
       "GarageYrBlt      81\n",
       "GarageFinish     81\n",
       "GarageQual       81\n",
       "GarageCond       81\n",
       "dtype: int64"
      ]
     },
     "execution_count": 10,
     "metadata": {},
     "output_type": "execute_result"
    }
   ],
   "source": [
    "# Print the columns with NaNs\n",
    "nans = cleaned_df.isna().sum()\n",
    "nans[nans > 0]"
   ]
  },
  {
   "cell_type": "code",
   "execution_count": 11,
   "id": "bf6b40ae-8a63-4d61-beb4-d5cde20aa4f1",
   "metadata": {},
   "outputs": [
    {
     "name": "stdout",
     "output_type": "stream",
     "text": [
      "MSSubClass\n",
      "LotFrontage\n",
      "LotArea\n",
      "OverallQual\n",
      "OverallCond\n",
      "YearBuilt\n",
      "YearRemodAdd\n",
      "MasVnrArea\n",
      "BsmtFinSF1\n",
      "BsmtFinSF2\n",
      "BsmtUnfSF\n",
      "TotalBsmtSF\n",
      "1stFlrSF\n",
      "2ndFlrSF\n",
      "LowQualFinSF\n",
      "GrLivArea\n",
      "BsmtFullBath\n",
      "BsmtHalfBath\n",
      "FullBath\n",
      "HalfBath\n",
      "BedroomAbvGr\n",
      "KitchenAbvGr\n",
      "TotRmsAbvGrd\n",
      "Fireplaces\n",
      "GarageYrBlt\n",
      "GarageCars\n",
      "GarageArea\n",
      "WoodDeckSF\n",
      "OpenPorchSF\n",
      "EnclosedPorch\n",
      "3SsnPorch\n",
      "ScreenPorch\n",
      "PoolArea\n",
      "MiscVal\n",
      "MoSold\n",
      "YrSold\n",
      "SalePrice\n"
     ]
    }
   ],
   "source": [
    "numeric_cols = cleaned_df.select_dtypes(include=['number']).columns\n",
    "cleaned_df[numeric_cols] = cleaned_df[numeric_cols].fillna(cleaned_df[numeric_cols].median())\n",
    "for col in numeric_cols:\n",
    "    print(col)"
   ]
  },
  {
   "cell_type": "code",
   "execution_count": 12,
   "id": "8ed76d2d-3dd1-4b16-80d1-b5e237f3c698",
   "metadata": {},
   "outputs": [
    {
     "data": {
      "text/plain": [
       "BsmtQual        37\n",
       "BsmtCond        37\n",
       "BsmtExposure    38\n",
       "BsmtFinType1    37\n",
       "BsmtFinType2    38\n",
       "Electrical       1\n",
       "GarageType      81\n",
       "GarageFinish    81\n",
       "GarageQual      81\n",
       "GarageCond      81\n",
       "dtype: int64"
      ]
     },
     "execution_count": 12,
     "metadata": {},
     "output_type": "execute_result"
    }
   ],
   "source": [
    "# Print the columns with NaNs\n",
    "nans = cleaned_df.isna().sum()\n",
    "nans[nans > 0]"
   ]
  },
  {
   "cell_type": "markdown",
   "id": "f93705af-fc31-429f-9239-f83ca4c5b657",
   "metadata": {},
   "source": [
    "## Fill in Missing Categorical Values\n",
    "\n",
    "For categorical columns, fill in any missing data with the most common value (mode)."
   ]
  },
  {
   "cell_type": "code",
   "execution_count": 13,
   "id": "7ea0a986-9a2f-4cbd-9eb8-cfc13f2c51bf",
   "metadata": {},
   "outputs": [
    {
     "name": "stdout",
     "output_type": "stream",
     "text": [
      "MSZoning\n",
      "Street\n",
      "LotShape\n",
      "LandContour\n",
      "Utilities\n",
      "LotConfig\n",
      "LandSlope\n",
      "Neighborhood\n",
      "Condition1\n",
      "Condition2\n",
      "BldgType\n",
      "HouseStyle\n",
      "RoofStyle\n",
      "RoofMatl\n",
      "Exterior1st\n",
      "Exterior2nd\n",
      "ExterQual\n",
      "ExterCond\n",
      "Foundation\n",
      "BsmtQual\n",
      "BsmtCond\n",
      "BsmtExposure\n",
      "BsmtFinType1\n",
      "BsmtFinType2\n",
      "Heating\n",
      "HeatingQC\n",
      "CentralAir\n",
      "Electrical\n",
      "KitchenQual\n",
      "Functional\n",
      "GarageType\n",
      "GarageFinish\n",
      "GarageQual\n",
      "GarageCond\n",
      "PavedDrive\n",
      "SaleType\n",
      "SaleCondition\n"
     ]
    }
   ],
   "source": [
    "categoric_cols = cleaned_df.select_dtypes(include=['object']).columns\n",
    "cleaned_df[categoric_cols] = cleaned_df[categoric_cols].fillna(cleaned_df[categoric_cols].mode().iloc[0])\n",
    "for col in categoric_cols:\n",
    "    print(col)"
   ]
  },
  {
   "cell_type": "code",
   "execution_count": 14,
   "id": "0b92a88f-6370-499b-9709-9ca44f5117f2",
   "metadata": {},
   "outputs": [
    {
     "data": {
      "text/plain": [
       "Series([], dtype: int64)"
      ]
     },
     "execution_count": 14,
     "metadata": {},
     "output_type": "execute_result"
    }
   ],
   "source": [
    "# Confirm there are no more columns with NaNs\n",
    "nans = cleaned_df.isna().sum()\n",
    "nans[nans > 0]"
   ]
  },
  {
   "cell_type": "code",
   "execution_count": 15,
   "id": "5b2c5257-5bc1-4bc5-a785-2cf8bc9bdec9",
   "metadata": {},
   "outputs": [
    {
     "name": "stdout",
     "output_type": "stream",
     "text": [
      "After cleaning, there are 1460 rows and 74 columns.\n"
     ]
    }
   ],
   "source": [
    "print(f\"After cleaning, there are {cleaned_df.shape[0]} rows and {cleaned_df.shape[1]} columns.\")"
   ]
  },
  {
   "cell_type": "markdown",
   "id": "6d0db131-cb47-4d30-ae75-91beaa714d1e",
   "metadata": {},
   "source": [
    "## Convert to Dummy Variables\n",
    "\n",
    "Convert the categorical columns to dummy variables."
   ]
  },
  {
   "cell_type": "code",
   "execution_count": 16,
   "id": "c065f1bb-5f82-4675-a7c1-2d5bd9510665",
   "metadata": {},
   "outputs": [],
   "source": [
    "encoded_df = pd.get_dummies(data=cleaned_df, columns=categoric_cols, drop_first=True)"
   ]
  },
  {
   "cell_type": "code",
   "execution_count": 17,
   "id": "4b831f64-4f56-4d93-8d7f-87bfe1cc6129",
   "metadata": {},
   "outputs": [
    {
     "name": "stdout",
     "output_type": "stream",
     "text": [
      "After one hot encoding, there are 1460 rows and 230 columns.\n"
     ]
    }
   ],
   "source": [
    "print(f\"After one hot encoding, there are {encoded_df.shape[0]} rows and {encoded_df.shape[1]} columns.\")"
   ]
  },
  {
   "cell_type": "code",
   "execution_count": 18,
   "id": "001b18df-0ca7-4d19-a675-45358c90a2c9",
   "metadata": {},
   "outputs": [],
   "source": [
    "#profile = ProfileReport(cleaned_df, title=\"Ames Housing\")\n",
    "#profile.to_file(\"AmesHousing.html\")"
   ]
  },
  {
   "cell_type": "markdown",
   "id": "07886240-c723-4ebe-b73c-2bb5b1c6d33a",
   "metadata": {},
   "source": [
    "## Step 6: Split the data\n",
    "\n",
    "Split the data into a training and test set, where the SalePrice column is the target."
   ]
  },
  {
   "cell_type": "code",
   "execution_count": 19,
   "id": "763311d6-8b67-4a70-90d3-ee5f98d48736",
   "metadata": {},
   "outputs": [
    {
     "name": "stdout",
     "output_type": "stream",
     "text": [
      "X_train shape (1168, 229)\n",
      "X_test shape (292, 229)\n",
      "y_train shape (1168,)\n",
      "y_test shape (292,)\n"
     ]
    }
   ],
   "source": [
    "# Split features and target variable\n",
    "\n",
    "# Get features\n",
    "X = encoded_df.drop('SalePrice', axis=1) \n",
    "\n",
    "# Get Target Variable\n",
    "y = encoded_df['SalePrice'] \n",
    "\n",
    "X_train, X_test, y_train, y_test = train_test_split(X, y, test_size=0.2, random_state=42)\n",
    "\n",
    "print(f\"X_train shape {X_train.shape}\")\n",
    "print(f\"X_test shape {X_test.shape}\")\n",
    "print(f\"y_train shape {y_train.shape}\")\n",
    "print(f\"y_test shape {y_test.shape}\")"
   ]
  },
  {
   "cell_type": "markdown",
   "id": "53570e06-974b-4fbb-9f50-b64b1e3e3950",
   "metadata": {},
   "source": [
    "## Step 7: Run a Linear Regression\n",
    "\n",
    "Run a linear regression and report the R2-value and RMSE on the test set."
   ]
  },
  {
   "cell_type": "code",
   "execution_count": 20,
   "id": "7e079f16-7356-40e6-b1e3-d26851883095",
   "metadata": {},
   "outputs": [],
   "source": [
    "# Create a Linear Regression model\n",
    "linear_regression = LinearRegression()"
   ]
  },
  {
   "cell_type": "code",
   "execution_count": 21,
   "id": "87535b9c-7502-4e10-884c-905553a3a4ff",
   "metadata": {},
   "outputs": [
    {
     "name": "stdout",
     "output_type": "stream",
     "text": [
      "The Linear Regression Model achieved an R2 Score of 0.65 and a Root Mean Squared Error of 51,973.14.\n"
     ]
    }
   ],
   "source": [
    "# Train the linear regression model\n",
    "linear_reg_model = linear_regression.fit(X_train, y_train)\n",
    "    \n",
    "# Predict on the non-standardized model\n",
    "y_pred = linear_reg_model.predict(X_test)\n",
    "\n",
    "# Print the R2 and RMSE\n",
    "r2_val = r2_score(y_test, y_pred)\n",
    "rmse_val = mean_squared_error(y_test, y_pred, squared=False)\n",
    "\n",
    "print(f\"The Linear Regression Model achieved an R2 Score of {r2_val:.2f} and a Root Mean Squared Error of {rmse_val:,.2f}.\")"
   ]
  },
  {
   "cell_type": "code",
   "execution_count": 22,
   "id": "66b8578c-0c2a-464f-a192-08e48037ef5d",
   "metadata": {},
   "outputs": [
    {
     "name": "stdout",
     "output_type": "stream",
     "text": [
      "Standardized Linear Regression Model Mean Absolute Error: 16483654.270972138\n",
      "The Standardized Linear Regression model achieved an R2 score of -7354513.57 and a Root Mean Squared Error of 237,511,106.86.\n"
     ]
    }
   ],
   "source": [
    "# Use Standard Scaler\n",
    "scaler = StandardScaler()\n",
    "X_train_scaled = scaler.fit_transform(X_train)\n",
    "X_test_scaled = scaler.transform(X_test)\n",
    "\n",
    "# Train the scaled linear regression model\n",
    "scaled_linear_reg_model = linear_regression.fit(X_train_scaled, y_train)\n",
    "\n",
    "# Predict on the standardized model\n",
    "y_pred_scaled = scaled_linear_reg_model.predict(X_test_scaled)\n",
    "\n",
    "# Print the R2 and RMSE\n",
    "scaled_r2_val = r2_score(y_test, y_pred_scaled)\n",
    "scaled_rmse_val = mean_squared_error(y_test, y_pred_scaled, squared=False)\n",
    "scaled_mae_val = mean_absolute_error(y_test, y_pred_scaled)\n",
    "print(f\"Standardized Linear Regression Model Mean Absolute Error: {scaled_mae_val}\")\n",
    "print(f\"The Standardized Linear Regression model achieved an R2 score of {scaled_r2_val:.2f} and a Root Mean Squared Error of {scaled_rmse_val:,.2f}.\")"
   ]
  },
  {
   "cell_type": "markdown",
   "id": "6c99d2f4-0ff3-4eb0-bf14-cd22d77ad0ab",
   "metadata": {},
   "source": [
    "## Step 8: Create a PCA\n",
    "\n",
    "Fit and transform the training features with a PCA so that 90% of the variance is retained (see section 9.1 in the Machine Learning with Python Cookbook)."
   ]
  },
  {
   "cell_type": "code",
   "execution_count": 23,
   "id": "478435bb-5726-472f-a5f8-5c0620de6b42",
   "metadata": {},
   "outputs": [],
   "source": [
    "# Create a PCA that will retain 90% of variance\n",
    "pca = PCA(n_components=0.9, whiten=True)\n",
    "scaled_pca = PCA(n_components=0.9)\n",
    "minmax_pca = PCA(n_components=0.9)"
   ]
  },
  {
   "cell_type": "code",
   "execution_count": 24,
   "id": "3b562671-1538-4e65-aa53-6a783ae56200",
   "metadata": {
    "scrolled": true
   },
   "outputs": [
    {
     "data": {
      "text/plain": [
       "(1168, 1)"
      ]
     },
     "execution_count": 24,
     "metadata": {},
     "output_type": "execute_result"
    }
   ],
   "source": [
    "# Fit and transform the training features\n",
    "X_train_pca = pca.fit_transform(X_train)\n",
    "X_train_pca.shape"
   ]
  },
  {
   "cell_type": "code",
   "execution_count": 25,
   "id": "0ada4a6e-bc91-4603-9b27-5c7f85413a71",
   "metadata": {},
   "outputs": [
    {
     "data": {
      "text/plain": [
       "(1168, 127)"
      ]
     },
     "execution_count": 25,
     "metadata": {},
     "output_type": "execute_result"
    }
   ],
   "source": [
    "X_train_scaled_pca = scaled_pca.fit_transform(X_train_scaled)\n",
    "X_train_scaled_pca.shape"
   ]
  },
  {
   "cell_type": "markdown",
   "id": "49186e16-a4e8-4494-b266-c6f89a035451",
   "metadata": {},
   "source": [
    "## Step 9: Number of Features in PCA matrix\n",
    "\n",
    "How many features are in the PCA-transformed matrix?\n"
   ]
  },
  {
   "cell_type": "code",
   "execution_count": 26,
   "id": "eac3972f-13fa-4da3-b6d0-fb2463518b2f",
   "metadata": {},
   "outputs": [
    {
     "name": "stdout",
     "output_type": "stream",
     "text": [
      "Original number of features: 229\n",
      "Number of features after PCA reduction: 1\n",
      "Number of scaled features after PCA reduction 127\n"
     ]
    }
   ],
   "source": [
    "# Display the results\n",
    "print(f\"Original number of features: {X_train.shape[1]}\")\n",
    "print(f\"Number of features after PCA reduction: {X_train_pca.shape[1]}\")\n",
    "print(f\"Number of scaled features after PCA reduction {X_train_scaled_pca.shape[1]}\")\n"
   ]
  },
  {
   "cell_type": "markdown",
   "id": "0f713d6a-9355-48eb-a9cd-b7b69316d518",
   "metadata": {},
   "source": [
    "# Transform the Test Features with PCA\n",
    "\n",
    "Transform but DO NOT fit the test features with the same PCA."
   ]
  },
  {
   "cell_type": "code",
   "execution_count": 27,
   "id": "b9409b16-4ace-40a4-957d-41485698ff4c",
   "metadata": {},
   "outputs": [
    {
     "data": {
      "text/plain": [
       "(292, 1)"
      ]
     },
     "execution_count": 27,
     "metadata": {},
     "output_type": "execute_result"
    }
   ],
   "source": [
    "X_test_pca = pca.transform(X_test)\n",
    "X_test_pca.shape"
   ]
  },
  {
   "cell_type": "code",
   "execution_count": 28,
   "id": "e0cac81a-80a6-41f9-a4a0-98684979a22b",
   "metadata": {},
   "outputs": [
    {
     "data": {
      "text/plain": [
       "(292, 127)"
      ]
     },
     "execution_count": 28,
     "metadata": {},
     "output_type": "execute_result"
    }
   ],
   "source": [
    "X_test_scaled_pca = scaled_pca.transform(X_test_scaled)\n",
    "X_test_scaled_pca.shape"
   ]
  },
  {
   "cell_type": "markdown",
   "id": "b33929fa-2635-490c-b627-9aa2714d5b96",
   "metadata": {},
   "source": [
    "## Step 11: Run a Linear Regression on PCA transformed data\n",
    "\n",
    "Repeat step 7 with your PCA transformed data.\n"
   ]
  },
  {
   "cell_type": "code",
   "execution_count": 29,
   "id": "701376a0-a0b8-44e8-af73-e0a7a3d39998",
   "metadata": {},
   "outputs": [
    {
     "name": "stdout",
     "output_type": "stream",
     "text": [
      "The PCA Linear Regression Model achieved an R2 Score of 0.06 and a Root Mean Squared Error of 84,754.58.\n"
     ]
    }
   ],
   "source": [
    "# Train the linear regression model for PCA\n",
    "pca_linear_reg_model = linear_regression.fit(X_train_pca, y_train)\n",
    "    \n",
    "# Predict on the non-standardized model\n",
    "pca_y_pred = linear_reg_model.predict(X_test_pca)\n",
    "\n",
    "# Print the R2 and RMSE\n",
    "pca_r2_val = r2_score(y_test, pca_y_pred)\n",
    "pca_rmse_val = mean_squared_error(y_test, pca_y_pred, squared=False)\n",
    "\n",
    "print(f\"The PCA Linear Regression Model achieved an R2 Score of {pca_r2_val:.2f} and a Root Mean Squared Error of {pca_rmse_val:,.2f}.\")"
   ]
  },
  {
   "cell_type": "code",
   "execution_count": 30,
   "id": "71104dc5-aa7d-4617-86d7-439e8e4878dd",
   "metadata": {},
   "outputs": [
    {
     "name": "stdout",
     "output_type": "stream",
     "text": [
      "The Scaled PCA Linear Regression Model achieved an R2 Score of 0.84 and a Root Mean Squared Error of 34,938.50.\n"
     ]
    }
   ],
   "source": [
    "# Train the linear regression model for PCA\n",
    "scaled_pca_linear_reg_model = linear_regression.fit(X_train_scaled_pca, y_train)\n",
    "    \n",
    "# Predict on the non-standardized model\n",
    "scaled_pca_y_pred = linear_reg_model.predict(X_test_scaled_pca)\n",
    "\n",
    "# Print the R2 and RMSE\n",
    "scaled_pca_r2_val = r2_score(y_test, scaled_pca_y_pred)\n",
    "scaled_pca_rmse_val = np.sqrt(mean_squared_error(y_test, scaled_pca_y_pred))\n",
    "\n",
    "print(f\"The Scaled PCA Linear Regression Model achieved an R2 Score of {scaled_pca_r2_val:.2f} and a Root Mean Squared Error of {scaled_pca_rmse_val:,.2f}.\")"
   ]
  },
  {
   "cell_type": "markdown",
   "id": "0e8b6e38-c889-441a-a830-79b1ac35f889",
   "metadata": {},
   "source": [
    "## Step 12: Use a MinMax Scaler\n",
    "\n",
    "Take your original training features (from step 6) and apply a min-max scaler to them.\n"
   ]
  },
  {
   "cell_type": "code",
   "execution_count": 31,
   "id": "d9a58ef9-cdbf-4f87-a930-df12b732141b",
   "metadata": {},
   "outputs": [
    {
     "name": "stdout",
     "output_type": "stream",
     "text": [
      "The MinMax Linear Regression model achieved an R2 score of -4514954661650978.00 and a Root Mean Squared Error of 237,511,106.86.\n"
     ]
    }
   ],
   "source": [
    "# Create a MinMaxScaler\n",
    "min_max_scaler = MinMaxScaler()\n",
    "X_train_minmax = min_max_scaler.fit_transform(X_train)\n",
    "X_test_minmax = min_max_scaler.transform(X_test)\n",
    "\n",
    "# Train the minmax linear regression model\n",
    "minmax_linear_reg_model = linear_regression.fit(X_train_minmax, y_train)\n",
    "\n",
    "# Predict on the minmax model\n",
    "y_pred_minmax = minmax_linear_reg_model.predict(X_test_minmax)\n",
    "\n",
    "# Print the R2 and RMSE\n",
    "minmax_r2_val = r2_score(y_test, y_pred_minmax)\n",
    "minmax_rmse_val = mean_squared_error(y_test, y_pred_scaled, squared=False)\n",
    "\n",
    "print(f\"The MinMax Linear Regression model achieved an R2 score of {minmax_r2_val:.2f} and a Root Mean Squared Error of {minmax_rmse_val:,.2f}.\")"
   ]
  },
  {
   "cell_type": "code",
   "execution_count": 32,
   "id": "d1c0045f-bdce-47c4-b14e-b13bbc5a3475",
   "metadata": {},
   "outputs": [
    {
     "data": {
      "text/plain": [
       "(1168, 67)"
      ]
     },
     "execution_count": 32,
     "metadata": {},
     "output_type": "execute_result"
    }
   ],
   "source": [
    "X_train_minmax_pca = minmax_pca.fit_transform(X_train_minmax)\n",
    "X_test_minmax_pca = minmax_pca.transform(X_test_minmax)\n",
    "X_train_minmax_pca.shape"
   ]
  },
  {
   "cell_type": "code",
   "execution_count": 33,
   "id": "0e3c63b9-044f-49b7-afbe-649aafeef4c1",
   "metadata": {},
   "outputs": [
    {
     "name": "stdout",
     "output_type": "stream",
     "text": [
      "Number of minmax features after PCA reduction 67\n"
     ]
    }
   ],
   "source": [
    "print(f\"Number of minmax features after PCA reduction {X_train_minmax_pca.shape[1]}\")"
   ]
  },
  {
   "cell_type": "code",
   "execution_count": 34,
   "id": "beddc8f6-02c9-4a8f-b3d0-f663aca1e64a",
   "metadata": {},
   "outputs": [
    {
     "name": "stdout",
     "output_type": "stream",
     "text": [
      "The MinMax PCA Linear Regression Model achieved an R2 Score of 0.83 and a Root Mean Squared Error of 35,817.81.\n"
     ]
    }
   ],
   "source": [
    "# Train the linear regression model for PCA\n",
    "minmax_pca_linear_reg_model = linear_regression.fit(X_train_minmax_pca, y_train)\n",
    "    \n",
    "# Predict on the standardized model\n",
    "minmax_pca_y_pred = linear_reg_model.predict(X_test_minmax_pca)\n",
    "\n",
    "# Print the R2 and RMSE\n",
    "minmax_pca_r2_val = r2_score(y_test, minmax_pca_y_pred)\n",
    "minmax_pca_rmse_val = np.sqrt(mean_squared_error(y_test, minmax_pca_y_pred))\n",
    "\n",
    "print(f\"The MinMax PCA Linear Regression Model achieved an R2 Score of {minmax_pca_r2_val:.2f} and a Root Mean Squared Error of {minmax_pca_rmse_val:,.2f}.\")"
   ]
  },
  {
   "cell_type": "markdown",
   "id": "867f4488-236c-44ba-855c-959d6bfbd95a",
   "metadata": {},
   "source": [
    "## Step 13: Find the Min-Max Scaled Features\n",
    "\n",
    "Find the min-max scaled features in your training set that have a variance above 0.1 (see Section 10.1 in the Machine Learning with Python Cookbook)."
   ]
  },
  {
   "cell_type": "code",
   "execution_count": 35,
   "id": "dabbc78a-5678-424d-accb-f697ec9eb7cc",
   "metadata": {},
   "outputs": [
    {
     "data": {
      "text/plain": [
       "Index(['MSSubClass', 'LotFrontage', 'LotArea', 'OverallQual', 'OverallCond',\n",
       "       'YearBuilt', 'YearRemodAdd', 'MasVnrArea', 'BsmtFinSF1', 'BsmtFinSF2',\n",
       "       'BsmtUnfSF', 'TotalBsmtSF', '1stFlrSF', '2ndFlrSF', 'LowQualFinSF',\n",
       "       'GrLivArea', 'BsmtFullBath', 'BsmtHalfBath', 'FullBath', 'HalfBath',\n",
       "       'BedroomAbvGr', 'KitchenAbvGr', 'TotRmsAbvGrd', 'Fireplaces',\n",
       "       'GarageYrBlt', 'GarageCars', 'GarageArea', 'WoodDeckSF', 'OpenPorchSF'],\n",
       "      dtype='object')"
      ]
     },
     "execution_count": 35,
     "metadata": {},
     "output_type": "execute_result"
    }
   ],
   "source": [
    "thresholder = VarianceThreshold(threshold=0.1)\n",
    "\n",
    "# Create high variance feature matrix\n",
    "X_train_high_variance = thresholder.fit_transform(X_train_minmax_pca)\n",
    "X_train_selected_indices = thresholder.get_support(indices=True)\n",
    "X_train_selected_features = X_train.columns[X_train_selected_indices]\n",
    "X_train_selected_features"
   ]
  },
  {
   "cell_type": "markdown",
   "id": "e7aee76c-712b-4f75-b9dc-8bca4543dea2",
   "metadata": {},
   "source": [
    "## Step 14: Transform the Test Features\n",
    "\n",
    "Transform but DO NOT fit the test features with the same steps applied in steps 11 and 12."
   ]
  },
  {
   "cell_type": "code",
   "execution_count": 36,
   "id": "205a6bb8-e48d-4137-960e-eaac8a30bf96",
   "metadata": {},
   "outputs": [
    {
     "name": "stdout",
     "output_type": "stream",
     "text": [
      "X_test_minmax shape: (292, 229)\n",
      "X_test_minmax_pca shape: (292, 67)\n"
     ]
    }
   ],
   "source": [
    "# Transform the test features\n",
    "X_test_minmax = min_max_scaler.transform(X_test)\n",
    "X_test_minmax_pca = minmax_pca.transform(X_test_minmax)\n",
    "print(f\"X_test_minmax shape: {X_test_minmax.shape}\")\n",
    "print(f\"X_test_minmax_pca shape: {X_test_minmax_pca.shape}\")"
   ]
  },
  {
   "cell_type": "code",
   "execution_count": 37,
   "id": "d75a6221-3787-4aa2-96bd-2d6fde8c3f88",
   "metadata": {},
   "outputs": [
    {
     "data": {
      "text/plain": [
       "Index(['MSSubClass', 'LotFrontage', 'LotArea', 'OverallQual', 'OverallCond',\n",
       "       'YearBuilt', 'YearRemodAdd', 'MasVnrArea', 'BsmtFinSF1', 'BsmtFinSF2',\n",
       "       'BsmtUnfSF', 'TotalBsmtSF', '1stFlrSF', '2ndFlrSF', 'LowQualFinSF',\n",
       "       'GrLivArea', 'BsmtFullBath', 'BsmtHalfBath', 'FullBath', 'HalfBath',\n",
       "       'BedroomAbvGr', 'KitchenAbvGr', 'TotRmsAbvGrd', 'Fireplaces',\n",
       "       'GarageYrBlt', 'GarageCars', 'GarageArea', 'WoodDeckSF', 'OpenPorchSF'],\n",
       "      dtype='object')"
      ]
     },
     "execution_count": 37,
     "metadata": {},
     "output_type": "execute_result"
    }
   ],
   "source": [
    "# Find the min max features in your test set that have a variance above 0.1\n",
    "\n",
    "X_test_high_variance = thresholder.transform(X_test_minmax_pca)\n",
    "X_test_selected_indices = thresholder.get_support(indices=True)\n",
    "X_test_selected_features = X_test.columns[X_test_selected_indices]\n",
    "X_test_selected_features"
   ]
  },
  {
   "cell_type": "code",
   "execution_count": 38,
   "id": "b8861561-cad4-4829-926a-e96abddf8ac7",
   "metadata": {},
   "outputs": [],
   "source": [
    "high_variance_lr = LinearRegression()\n",
    "high_variance_lr.fit(X_train_high_variance, y_train)\n",
    "y_pred_high_variance = high_variance_lr.predict(X_test_high_variance)"
   ]
  },
  {
   "cell_type": "code",
   "execution_count": 39,
   "id": "f5455b54-cc06-4e55-a26d-fc7d16a27f35",
   "metadata": {},
   "outputs": [
    {
     "name": "stdout",
     "output_type": "stream",
     "text": [
      "The Linear Regression using High Variance features achieved an R2 Score of: 0.72 and an RMSE of: 45974.38\n"
     ]
    }
   ],
   "source": [
    "r2_high_variance = r2_score(y_test, y_pred_high_variance)\n",
    "rmse_high_variance = mean_squared_error(y_test, y_pred_high_variance, squared=False)\n",
    "print(f\"The Linear Regression using High Variance features achieved an R2 Score of: {r2_high_variance:.2f} and an RMSE of: {rmse_high_variance:.2f}\")"
   ]
  },
  {
   "cell_type": "markdown",
   "id": "e202fa91-6e28-4d24-a72e-90ae854d236d",
   "metadata": {},
   "source": [
    "## Conclusion\n",
    "\n",
    "In summary, the model that performed the best was the StandardScaler model with Principle Component Analysis reduction. Second best, was the MinMax Model with PCA reduction, and third best was Linear Regression after PCA reduction with the high variance categories selected. \n",
    "\n",
    "I ran into issues with the R2 Scores and RMSE values in the initial Linear Regression models before applying PCA reduction on the scaled models. I did a lot of research and couldn't find anything that pointed to explicitly why this was occuring other than problems in preprocessing or outliers in the data. I'm very interested to understand why this occurred, but am at a loss for how to investigate it further. \n",
    "\n",
    "At first I was running into issues with the threshold because I was setting it at .4 instead of .6. I was misunderstanding what the threshold represented (nulls instead of actual values). Although, after I sorted that issue out, the number of columns dropped remained the same. I then investigated into whether I was doing something wrong with my one hot encoding, and found more information about drop_first=True. While this reduced my total number of columns and subsequently, the number of PCA features, it also reduced my initial Linear Regression score. This is because it reduces correlation created among dummy variables, so that didn't really lend any insight either. \n",
    "\n",
    "Overall, this was a very good learning experience and I took a lot of time investigating issues and learned about scaling, feature extraction, and the importance of data cleaning. I'm still pretty sure if I spent more time eliminating outliers and performing other cleaning steps, I could resolve the issues with the R2 and RMSE scores. "
   ]
  },
  {
   "cell_type": "markdown",
   "id": "630791e2-1f78-4e67-bbcb-7983c17bb699",
   "metadata": {},
   "source": [
    "## Part 2: Categorical Feature Selection\n",
    "\n",
    "Download the data from this link Mushroom Classification. Based on several categorical features, you will predict whether or not a mushroom is edible or poisonous."
   ]
  },
  {
   "cell_type": "markdown",
   "id": "ff3e4a56-b839-4878-a80c-04682310401f",
   "metadata": {},
   "source": [
    "# Step 1: Import the Data\n",
    "\n",
    "Import the data as a data frame and ensure it is loaded correctly.\n"
   ]
  },
  {
   "cell_type": "code",
   "execution_count": 40,
   "id": "0aee8ce3-90e7-44e6-9df1-5d41df74a572",
   "metadata": {},
   "outputs": [
    {
     "data": {
      "text/plain": [
       "(8124, 23)"
      ]
     },
     "execution_count": 40,
     "metadata": {},
     "output_type": "execute_result"
    }
   ],
   "source": [
    "os.chdir(\"/Users/x/Documents/DSC550/Wk07\")\n",
    "mushroom_df = pd.read_csv(\"mushrooms.csv\")\n",
    "mushroom_df.shape"
   ]
  },
  {
   "cell_type": "code",
   "execution_count": 41,
   "id": "a45337aa-7fed-4874-a4d3-a866208f96c0",
   "metadata": {},
   "outputs": [
    {
     "data": {
      "text/html": [
       "<div>\n",
       "<style scoped>\n",
       "    .dataframe tbody tr th:only-of-type {\n",
       "        vertical-align: middle;\n",
       "    }\n",
       "\n",
       "    .dataframe tbody tr th {\n",
       "        vertical-align: top;\n",
       "    }\n",
       "\n",
       "    .dataframe thead th {\n",
       "        text-align: right;\n",
       "    }\n",
       "</style>\n",
       "<table border=\"1\" class=\"dataframe\">\n",
       "  <thead>\n",
       "    <tr style=\"text-align: right;\">\n",
       "      <th></th>\n",
       "      <th>class</th>\n",
       "      <th>cap-shape</th>\n",
       "      <th>cap-surface</th>\n",
       "      <th>cap-color</th>\n",
       "      <th>bruises</th>\n",
       "      <th>odor</th>\n",
       "      <th>gill-attachment</th>\n",
       "      <th>gill-spacing</th>\n",
       "      <th>gill-size</th>\n",
       "      <th>gill-color</th>\n",
       "      <th>...</th>\n",
       "      <th>stalk-surface-below-ring</th>\n",
       "      <th>stalk-color-above-ring</th>\n",
       "      <th>stalk-color-below-ring</th>\n",
       "      <th>veil-type</th>\n",
       "      <th>veil-color</th>\n",
       "      <th>ring-number</th>\n",
       "      <th>ring-type</th>\n",
       "      <th>spore-print-color</th>\n",
       "      <th>population</th>\n",
       "      <th>habitat</th>\n",
       "    </tr>\n",
       "  </thead>\n",
       "  <tbody>\n",
       "    <tr>\n",
       "      <th>0</th>\n",
       "      <td>p</td>\n",
       "      <td>x</td>\n",
       "      <td>s</td>\n",
       "      <td>n</td>\n",
       "      <td>t</td>\n",
       "      <td>p</td>\n",
       "      <td>f</td>\n",
       "      <td>c</td>\n",
       "      <td>n</td>\n",
       "      <td>k</td>\n",
       "      <td>...</td>\n",
       "      <td>s</td>\n",
       "      <td>w</td>\n",
       "      <td>w</td>\n",
       "      <td>p</td>\n",
       "      <td>w</td>\n",
       "      <td>o</td>\n",
       "      <td>p</td>\n",
       "      <td>k</td>\n",
       "      <td>s</td>\n",
       "      <td>u</td>\n",
       "    </tr>\n",
       "    <tr>\n",
       "      <th>1</th>\n",
       "      <td>e</td>\n",
       "      <td>x</td>\n",
       "      <td>s</td>\n",
       "      <td>y</td>\n",
       "      <td>t</td>\n",
       "      <td>a</td>\n",
       "      <td>f</td>\n",
       "      <td>c</td>\n",
       "      <td>b</td>\n",
       "      <td>k</td>\n",
       "      <td>...</td>\n",
       "      <td>s</td>\n",
       "      <td>w</td>\n",
       "      <td>w</td>\n",
       "      <td>p</td>\n",
       "      <td>w</td>\n",
       "      <td>o</td>\n",
       "      <td>p</td>\n",
       "      <td>n</td>\n",
       "      <td>n</td>\n",
       "      <td>g</td>\n",
       "    </tr>\n",
       "    <tr>\n",
       "      <th>2</th>\n",
       "      <td>e</td>\n",
       "      <td>b</td>\n",
       "      <td>s</td>\n",
       "      <td>w</td>\n",
       "      <td>t</td>\n",
       "      <td>l</td>\n",
       "      <td>f</td>\n",
       "      <td>c</td>\n",
       "      <td>b</td>\n",
       "      <td>n</td>\n",
       "      <td>...</td>\n",
       "      <td>s</td>\n",
       "      <td>w</td>\n",
       "      <td>w</td>\n",
       "      <td>p</td>\n",
       "      <td>w</td>\n",
       "      <td>o</td>\n",
       "      <td>p</td>\n",
       "      <td>n</td>\n",
       "      <td>n</td>\n",
       "      <td>m</td>\n",
       "    </tr>\n",
       "    <tr>\n",
       "      <th>3</th>\n",
       "      <td>p</td>\n",
       "      <td>x</td>\n",
       "      <td>y</td>\n",
       "      <td>w</td>\n",
       "      <td>t</td>\n",
       "      <td>p</td>\n",
       "      <td>f</td>\n",
       "      <td>c</td>\n",
       "      <td>n</td>\n",
       "      <td>n</td>\n",
       "      <td>...</td>\n",
       "      <td>s</td>\n",
       "      <td>w</td>\n",
       "      <td>w</td>\n",
       "      <td>p</td>\n",
       "      <td>w</td>\n",
       "      <td>o</td>\n",
       "      <td>p</td>\n",
       "      <td>k</td>\n",
       "      <td>s</td>\n",
       "      <td>u</td>\n",
       "    </tr>\n",
       "    <tr>\n",
       "      <th>4</th>\n",
       "      <td>e</td>\n",
       "      <td>x</td>\n",
       "      <td>s</td>\n",
       "      <td>g</td>\n",
       "      <td>f</td>\n",
       "      <td>n</td>\n",
       "      <td>f</td>\n",
       "      <td>w</td>\n",
       "      <td>b</td>\n",
       "      <td>k</td>\n",
       "      <td>...</td>\n",
       "      <td>s</td>\n",
       "      <td>w</td>\n",
       "      <td>w</td>\n",
       "      <td>p</td>\n",
       "      <td>w</td>\n",
       "      <td>o</td>\n",
       "      <td>e</td>\n",
       "      <td>n</td>\n",
       "      <td>a</td>\n",
       "      <td>g</td>\n",
       "    </tr>\n",
       "    <tr>\n",
       "      <th>...</th>\n",
       "      <td>...</td>\n",
       "      <td>...</td>\n",
       "      <td>...</td>\n",
       "      <td>...</td>\n",
       "      <td>...</td>\n",
       "      <td>...</td>\n",
       "      <td>...</td>\n",
       "      <td>...</td>\n",
       "      <td>...</td>\n",
       "      <td>...</td>\n",
       "      <td>...</td>\n",
       "      <td>...</td>\n",
       "      <td>...</td>\n",
       "      <td>...</td>\n",
       "      <td>...</td>\n",
       "      <td>...</td>\n",
       "      <td>...</td>\n",
       "      <td>...</td>\n",
       "      <td>...</td>\n",
       "      <td>...</td>\n",
       "      <td>...</td>\n",
       "    </tr>\n",
       "    <tr>\n",
       "      <th>8119</th>\n",
       "      <td>e</td>\n",
       "      <td>k</td>\n",
       "      <td>s</td>\n",
       "      <td>n</td>\n",
       "      <td>f</td>\n",
       "      <td>n</td>\n",
       "      <td>a</td>\n",
       "      <td>c</td>\n",
       "      <td>b</td>\n",
       "      <td>y</td>\n",
       "      <td>...</td>\n",
       "      <td>s</td>\n",
       "      <td>o</td>\n",
       "      <td>o</td>\n",
       "      <td>p</td>\n",
       "      <td>o</td>\n",
       "      <td>o</td>\n",
       "      <td>p</td>\n",
       "      <td>b</td>\n",
       "      <td>c</td>\n",
       "      <td>l</td>\n",
       "    </tr>\n",
       "    <tr>\n",
       "      <th>8120</th>\n",
       "      <td>e</td>\n",
       "      <td>x</td>\n",
       "      <td>s</td>\n",
       "      <td>n</td>\n",
       "      <td>f</td>\n",
       "      <td>n</td>\n",
       "      <td>a</td>\n",
       "      <td>c</td>\n",
       "      <td>b</td>\n",
       "      <td>y</td>\n",
       "      <td>...</td>\n",
       "      <td>s</td>\n",
       "      <td>o</td>\n",
       "      <td>o</td>\n",
       "      <td>p</td>\n",
       "      <td>n</td>\n",
       "      <td>o</td>\n",
       "      <td>p</td>\n",
       "      <td>b</td>\n",
       "      <td>v</td>\n",
       "      <td>l</td>\n",
       "    </tr>\n",
       "    <tr>\n",
       "      <th>8121</th>\n",
       "      <td>e</td>\n",
       "      <td>f</td>\n",
       "      <td>s</td>\n",
       "      <td>n</td>\n",
       "      <td>f</td>\n",
       "      <td>n</td>\n",
       "      <td>a</td>\n",
       "      <td>c</td>\n",
       "      <td>b</td>\n",
       "      <td>n</td>\n",
       "      <td>...</td>\n",
       "      <td>s</td>\n",
       "      <td>o</td>\n",
       "      <td>o</td>\n",
       "      <td>p</td>\n",
       "      <td>o</td>\n",
       "      <td>o</td>\n",
       "      <td>p</td>\n",
       "      <td>b</td>\n",
       "      <td>c</td>\n",
       "      <td>l</td>\n",
       "    </tr>\n",
       "    <tr>\n",
       "      <th>8122</th>\n",
       "      <td>p</td>\n",
       "      <td>k</td>\n",
       "      <td>y</td>\n",
       "      <td>n</td>\n",
       "      <td>f</td>\n",
       "      <td>y</td>\n",
       "      <td>f</td>\n",
       "      <td>c</td>\n",
       "      <td>n</td>\n",
       "      <td>b</td>\n",
       "      <td>...</td>\n",
       "      <td>k</td>\n",
       "      <td>w</td>\n",
       "      <td>w</td>\n",
       "      <td>p</td>\n",
       "      <td>w</td>\n",
       "      <td>o</td>\n",
       "      <td>e</td>\n",
       "      <td>w</td>\n",
       "      <td>v</td>\n",
       "      <td>l</td>\n",
       "    </tr>\n",
       "    <tr>\n",
       "      <th>8123</th>\n",
       "      <td>e</td>\n",
       "      <td>x</td>\n",
       "      <td>s</td>\n",
       "      <td>n</td>\n",
       "      <td>f</td>\n",
       "      <td>n</td>\n",
       "      <td>a</td>\n",
       "      <td>c</td>\n",
       "      <td>b</td>\n",
       "      <td>y</td>\n",
       "      <td>...</td>\n",
       "      <td>s</td>\n",
       "      <td>o</td>\n",
       "      <td>o</td>\n",
       "      <td>p</td>\n",
       "      <td>o</td>\n",
       "      <td>o</td>\n",
       "      <td>p</td>\n",
       "      <td>o</td>\n",
       "      <td>c</td>\n",
       "      <td>l</td>\n",
       "    </tr>\n",
       "  </tbody>\n",
       "</table>\n",
       "<p>8124 rows × 23 columns</p>\n",
       "</div>"
      ],
      "text/plain": [
       "     class cap-shape cap-surface cap-color bruises odor gill-attachment  \\\n",
       "0        p         x           s         n       t    p               f   \n",
       "1        e         x           s         y       t    a               f   \n",
       "2        e         b           s         w       t    l               f   \n",
       "3        p         x           y         w       t    p               f   \n",
       "4        e         x           s         g       f    n               f   \n",
       "...    ...       ...         ...       ...     ...  ...             ...   \n",
       "8119     e         k           s         n       f    n               a   \n",
       "8120     e         x           s         n       f    n               a   \n",
       "8121     e         f           s         n       f    n               a   \n",
       "8122     p         k           y         n       f    y               f   \n",
       "8123     e         x           s         n       f    n               a   \n",
       "\n",
       "     gill-spacing gill-size gill-color  ... stalk-surface-below-ring  \\\n",
       "0               c         n          k  ...                        s   \n",
       "1               c         b          k  ...                        s   \n",
       "2               c         b          n  ...                        s   \n",
       "3               c         n          n  ...                        s   \n",
       "4               w         b          k  ...                        s   \n",
       "...           ...       ...        ...  ...                      ...   \n",
       "8119            c         b          y  ...                        s   \n",
       "8120            c         b          y  ...                        s   \n",
       "8121            c         b          n  ...                        s   \n",
       "8122            c         n          b  ...                        k   \n",
       "8123            c         b          y  ...                        s   \n",
       "\n",
       "     stalk-color-above-ring stalk-color-below-ring veil-type veil-color  \\\n",
       "0                         w                      w         p          w   \n",
       "1                         w                      w         p          w   \n",
       "2                         w                      w         p          w   \n",
       "3                         w                      w         p          w   \n",
       "4                         w                      w         p          w   \n",
       "...                     ...                    ...       ...        ...   \n",
       "8119                      o                      o         p          o   \n",
       "8120                      o                      o         p          n   \n",
       "8121                      o                      o         p          o   \n",
       "8122                      w                      w         p          w   \n",
       "8123                      o                      o         p          o   \n",
       "\n",
       "     ring-number ring-type spore-print-color population habitat  \n",
       "0              o         p                 k          s       u  \n",
       "1              o         p                 n          n       g  \n",
       "2              o         p                 n          n       m  \n",
       "3              o         p                 k          s       u  \n",
       "4              o         e                 n          a       g  \n",
       "...          ...       ...               ...        ...     ...  \n",
       "8119           o         p                 b          c       l  \n",
       "8120           o         p                 b          v       l  \n",
       "8121           o         p                 b          c       l  \n",
       "8122           o         e                 w          v       l  \n",
       "8123           o         p                 o          c       l  \n",
       "\n",
       "[8124 rows x 23 columns]"
      ]
     },
     "execution_count": 41,
     "metadata": {},
     "output_type": "execute_result"
    }
   ],
   "source": [
    "mushroom_df"
   ]
  },
  {
   "cell_type": "markdown",
   "id": "cba1782d-b4e2-46ea-b6fb-54cb3206e637",
   "metadata": {},
   "source": [
    "## Step 2: Convert the Features to Dummy Values\n",
    "\n",
    "Convert the categorical features (all of them) to dummy variables.\n"
   ]
  },
  {
   "cell_type": "code",
   "execution_count": 61,
   "id": "142766ee-87de-4459-b738-880afa71bda8",
   "metadata": {},
   "outputs": [
    {
     "data": {
      "text/html": [
       "<div>\n",
       "<style scoped>\n",
       "    .dataframe tbody tr th:only-of-type {\n",
       "        vertical-align: middle;\n",
       "    }\n",
       "\n",
       "    .dataframe tbody tr th {\n",
       "        vertical-align: top;\n",
       "    }\n",
       "\n",
       "    .dataframe thead th {\n",
       "        text-align: right;\n",
       "    }\n",
       "</style>\n",
       "<table border=\"1\" class=\"dataframe\">\n",
       "  <thead>\n",
       "    <tr style=\"text-align: right;\">\n",
       "      <th></th>\n",
       "      <th>class</th>\n",
       "      <th>cap-shape</th>\n",
       "      <th>cap-surface</th>\n",
       "      <th>cap-color</th>\n",
       "      <th>bruises</th>\n",
       "      <th>odor</th>\n",
       "      <th>gill-attachment</th>\n",
       "      <th>gill-spacing</th>\n",
       "      <th>gill-size</th>\n",
       "      <th>gill-color</th>\n",
       "      <th>...</th>\n",
       "      <th>stalk-surface-below-ring</th>\n",
       "      <th>stalk-color-above-ring</th>\n",
       "      <th>stalk-color-below-ring</th>\n",
       "      <th>veil-type</th>\n",
       "      <th>veil-color</th>\n",
       "      <th>ring-number</th>\n",
       "      <th>ring-type</th>\n",
       "      <th>spore-print-color</th>\n",
       "      <th>population</th>\n",
       "      <th>habitat</th>\n",
       "    </tr>\n",
       "  </thead>\n",
       "  <tbody>\n",
       "    <tr>\n",
       "      <th>0</th>\n",
       "      <td>1</td>\n",
       "      <td>5</td>\n",
       "      <td>2</td>\n",
       "      <td>4</td>\n",
       "      <td>1</td>\n",
       "      <td>6</td>\n",
       "      <td>1</td>\n",
       "      <td>0</td>\n",
       "      <td>1</td>\n",
       "      <td>4</td>\n",
       "      <td>...</td>\n",
       "      <td>2</td>\n",
       "      <td>7</td>\n",
       "      <td>7</td>\n",
       "      <td>0</td>\n",
       "      <td>2</td>\n",
       "      <td>1</td>\n",
       "      <td>4</td>\n",
       "      <td>2</td>\n",
       "      <td>3</td>\n",
       "      <td>5</td>\n",
       "    </tr>\n",
       "    <tr>\n",
       "      <th>1</th>\n",
       "      <td>0</td>\n",
       "      <td>5</td>\n",
       "      <td>2</td>\n",
       "      <td>9</td>\n",
       "      <td>1</td>\n",
       "      <td>0</td>\n",
       "      <td>1</td>\n",
       "      <td>0</td>\n",
       "      <td>0</td>\n",
       "      <td>4</td>\n",
       "      <td>...</td>\n",
       "      <td>2</td>\n",
       "      <td>7</td>\n",
       "      <td>7</td>\n",
       "      <td>0</td>\n",
       "      <td>2</td>\n",
       "      <td>1</td>\n",
       "      <td>4</td>\n",
       "      <td>3</td>\n",
       "      <td>2</td>\n",
       "      <td>1</td>\n",
       "    </tr>\n",
       "    <tr>\n",
       "      <th>2</th>\n",
       "      <td>0</td>\n",
       "      <td>0</td>\n",
       "      <td>2</td>\n",
       "      <td>8</td>\n",
       "      <td>1</td>\n",
       "      <td>3</td>\n",
       "      <td>1</td>\n",
       "      <td>0</td>\n",
       "      <td>0</td>\n",
       "      <td>5</td>\n",
       "      <td>...</td>\n",
       "      <td>2</td>\n",
       "      <td>7</td>\n",
       "      <td>7</td>\n",
       "      <td>0</td>\n",
       "      <td>2</td>\n",
       "      <td>1</td>\n",
       "      <td>4</td>\n",
       "      <td>3</td>\n",
       "      <td>2</td>\n",
       "      <td>3</td>\n",
       "    </tr>\n",
       "    <tr>\n",
       "      <th>3</th>\n",
       "      <td>1</td>\n",
       "      <td>5</td>\n",
       "      <td>3</td>\n",
       "      <td>8</td>\n",
       "      <td>1</td>\n",
       "      <td>6</td>\n",
       "      <td>1</td>\n",
       "      <td>0</td>\n",
       "      <td>1</td>\n",
       "      <td>5</td>\n",
       "      <td>...</td>\n",
       "      <td>2</td>\n",
       "      <td>7</td>\n",
       "      <td>7</td>\n",
       "      <td>0</td>\n",
       "      <td>2</td>\n",
       "      <td>1</td>\n",
       "      <td>4</td>\n",
       "      <td>2</td>\n",
       "      <td>3</td>\n",
       "      <td>5</td>\n",
       "    </tr>\n",
       "    <tr>\n",
       "      <th>4</th>\n",
       "      <td>0</td>\n",
       "      <td>5</td>\n",
       "      <td>2</td>\n",
       "      <td>3</td>\n",
       "      <td>0</td>\n",
       "      <td>5</td>\n",
       "      <td>1</td>\n",
       "      <td>1</td>\n",
       "      <td>0</td>\n",
       "      <td>4</td>\n",
       "      <td>...</td>\n",
       "      <td>2</td>\n",
       "      <td>7</td>\n",
       "      <td>7</td>\n",
       "      <td>0</td>\n",
       "      <td>2</td>\n",
       "      <td>1</td>\n",
       "      <td>0</td>\n",
       "      <td>3</td>\n",
       "      <td>0</td>\n",
       "      <td>1</td>\n",
       "    </tr>\n",
       "    <tr>\n",
       "      <th>...</th>\n",
       "      <td>...</td>\n",
       "      <td>...</td>\n",
       "      <td>...</td>\n",
       "      <td>...</td>\n",
       "      <td>...</td>\n",
       "      <td>...</td>\n",
       "      <td>...</td>\n",
       "      <td>...</td>\n",
       "      <td>...</td>\n",
       "      <td>...</td>\n",
       "      <td>...</td>\n",
       "      <td>...</td>\n",
       "      <td>...</td>\n",
       "      <td>...</td>\n",
       "      <td>...</td>\n",
       "      <td>...</td>\n",
       "      <td>...</td>\n",
       "      <td>...</td>\n",
       "      <td>...</td>\n",
       "      <td>...</td>\n",
       "      <td>...</td>\n",
       "    </tr>\n",
       "    <tr>\n",
       "      <th>8119</th>\n",
       "      <td>0</td>\n",
       "      <td>3</td>\n",
       "      <td>2</td>\n",
       "      <td>4</td>\n",
       "      <td>0</td>\n",
       "      <td>5</td>\n",
       "      <td>0</td>\n",
       "      <td>0</td>\n",
       "      <td>0</td>\n",
       "      <td>11</td>\n",
       "      <td>...</td>\n",
       "      <td>2</td>\n",
       "      <td>5</td>\n",
       "      <td>5</td>\n",
       "      <td>0</td>\n",
       "      <td>1</td>\n",
       "      <td>1</td>\n",
       "      <td>4</td>\n",
       "      <td>0</td>\n",
       "      <td>1</td>\n",
       "      <td>2</td>\n",
       "    </tr>\n",
       "    <tr>\n",
       "      <th>8120</th>\n",
       "      <td>0</td>\n",
       "      <td>5</td>\n",
       "      <td>2</td>\n",
       "      <td>4</td>\n",
       "      <td>0</td>\n",
       "      <td>5</td>\n",
       "      <td>0</td>\n",
       "      <td>0</td>\n",
       "      <td>0</td>\n",
       "      <td>11</td>\n",
       "      <td>...</td>\n",
       "      <td>2</td>\n",
       "      <td>5</td>\n",
       "      <td>5</td>\n",
       "      <td>0</td>\n",
       "      <td>0</td>\n",
       "      <td>1</td>\n",
       "      <td>4</td>\n",
       "      <td>0</td>\n",
       "      <td>4</td>\n",
       "      <td>2</td>\n",
       "    </tr>\n",
       "    <tr>\n",
       "      <th>8121</th>\n",
       "      <td>0</td>\n",
       "      <td>2</td>\n",
       "      <td>2</td>\n",
       "      <td>4</td>\n",
       "      <td>0</td>\n",
       "      <td>5</td>\n",
       "      <td>0</td>\n",
       "      <td>0</td>\n",
       "      <td>0</td>\n",
       "      <td>5</td>\n",
       "      <td>...</td>\n",
       "      <td>2</td>\n",
       "      <td>5</td>\n",
       "      <td>5</td>\n",
       "      <td>0</td>\n",
       "      <td>1</td>\n",
       "      <td>1</td>\n",
       "      <td>4</td>\n",
       "      <td>0</td>\n",
       "      <td>1</td>\n",
       "      <td>2</td>\n",
       "    </tr>\n",
       "    <tr>\n",
       "      <th>8122</th>\n",
       "      <td>1</td>\n",
       "      <td>3</td>\n",
       "      <td>3</td>\n",
       "      <td>4</td>\n",
       "      <td>0</td>\n",
       "      <td>8</td>\n",
       "      <td>1</td>\n",
       "      <td>0</td>\n",
       "      <td>1</td>\n",
       "      <td>0</td>\n",
       "      <td>...</td>\n",
       "      <td>1</td>\n",
       "      <td>7</td>\n",
       "      <td>7</td>\n",
       "      <td>0</td>\n",
       "      <td>2</td>\n",
       "      <td>1</td>\n",
       "      <td>0</td>\n",
       "      <td>7</td>\n",
       "      <td>4</td>\n",
       "      <td>2</td>\n",
       "    </tr>\n",
       "    <tr>\n",
       "      <th>8123</th>\n",
       "      <td>0</td>\n",
       "      <td>5</td>\n",
       "      <td>2</td>\n",
       "      <td>4</td>\n",
       "      <td>0</td>\n",
       "      <td>5</td>\n",
       "      <td>0</td>\n",
       "      <td>0</td>\n",
       "      <td>0</td>\n",
       "      <td>11</td>\n",
       "      <td>...</td>\n",
       "      <td>2</td>\n",
       "      <td>5</td>\n",
       "      <td>5</td>\n",
       "      <td>0</td>\n",
       "      <td>1</td>\n",
       "      <td>1</td>\n",
       "      <td>4</td>\n",
       "      <td>4</td>\n",
       "      <td>1</td>\n",
       "      <td>2</td>\n",
       "    </tr>\n",
       "  </tbody>\n",
       "</table>\n",
       "<p>8124 rows × 23 columns</p>\n",
       "</div>"
      ],
      "text/plain": [
       "      class  cap-shape  cap-surface  cap-color  bruises  odor  \\\n",
       "0         1          5            2          4        1     6   \n",
       "1         0          5            2          9        1     0   \n",
       "2         0          0            2          8        1     3   \n",
       "3         1          5            3          8        1     6   \n",
       "4         0          5            2          3        0     5   \n",
       "...     ...        ...          ...        ...      ...   ...   \n",
       "8119      0          3            2          4        0     5   \n",
       "8120      0          5            2          4        0     5   \n",
       "8121      0          2            2          4        0     5   \n",
       "8122      1          3            3          4        0     8   \n",
       "8123      0          5            2          4        0     5   \n",
       "\n",
       "      gill-attachment  gill-spacing  gill-size  gill-color  ...  \\\n",
       "0                   1             0          1           4  ...   \n",
       "1                   1             0          0           4  ...   \n",
       "2                   1             0          0           5  ...   \n",
       "3                   1             0          1           5  ...   \n",
       "4                   1             1          0           4  ...   \n",
       "...               ...           ...        ...         ...  ...   \n",
       "8119                0             0          0          11  ...   \n",
       "8120                0             0          0          11  ...   \n",
       "8121                0             0          0           5  ...   \n",
       "8122                1             0          1           0  ...   \n",
       "8123                0             0          0          11  ...   \n",
       "\n",
       "      stalk-surface-below-ring  stalk-color-above-ring  \\\n",
       "0                            2                       7   \n",
       "1                            2                       7   \n",
       "2                            2                       7   \n",
       "3                            2                       7   \n",
       "4                            2                       7   \n",
       "...                        ...                     ...   \n",
       "8119                         2                       5   \n",
       "8120                         2                       5   \n",
       "8121                         2                       5   \n",
       "8122                         1                       7   \n",
       "8123                         2                       5   \n",
       "\n",
       "      stalk-color-below-ring  veil-type  veil-color  ring-number  ring-type  \\\n",
       "0                          7          0           2            1          4   \n",
       "1                          7          0           2            1          4   \n",
       "2                          7          0           2            1          4   \n",
       "3                          7          0           2            1          4   \n",
       "4                          7          0           2            1          0   \n",
       "...                      ...        ...         ...          ...        ...   \n",
       "8119                       5          0           1            1          4   \n",
       "8120                       5          0           0            1          4   \n",
       "8121                       5          0           1            1          4   \n",
       "8122                       7          0           2            1          0   \n",
       "8123                       5          0           1            1          4   \n",
       "\n",
       "      spore-print-color  population  habitat  \n",
       "0                     2           3        5  \n",
       "1                     3           2        1  \n",
       "2                     3           2        3  \n",
       "3                     2           3        5  \n",
       "4                     3           0        1  \n",
       "...                 ...         ...      ...  \n",
       "8119                  0           1        2  \n",
       "8120                  0           4        2  \n",
       "8121                  0           1        2  \n",
       "8122                  7           4        2  \n",
       "8123                  4           1        2  \n",
       "\n",
       "[8124 rows x 23 columns]"
      ]
     },
     "execution_count": 61,
     "metadata": {},
     "output_type": "execute_result"
    }
   ],
   "source": [
    "# Encode the values using a LabelEncoder\n",
    "mushroom_encoded = mushroom_df.copy()\n",
    "labelencoder=LabelEncoder()\n",
    "for column in mushroom_encoded.columns:\n",
    "    mushroom_encoded[column]=labelencoder.fit_transform(mushroom_encoded[column])\n",
    "\n",
    "mushroom_encoded"
   ]
  },
  {
   "cell_type": "code",
   "execution_count": 43,
   "id": "25ec097b-f421-4e4b-9a74-5bed945f05cf",
   "metadata": {},
   "outputs": [
    {
     "data": {
      "text/html": [
       "<div>\n",
       "<style scoped>\n",
       "    .dataframe tbody tr th:only-of-type {\n",
       "        vertical-align: middle;\n",
       "    }\n",
       "\n",
       "    .dataframe tbody tr th {\n",
       "        vertical-align: top;\n",
       "    }\n",
       "\n",
       "    .dataframe thead th {\n",
       "        text-align: right;\n",
       "    }\n",
       "</style>\n",
       "<table border=\"1\" class=\"dataframe\">\n",
       "  <thead>\n",
       "    <tr style=\"text-align: right;\">\n",
       "      <th></th>\n",
       "      <th>class</th>\n",
       "      <th>cap-shape_c</th>\n",
       "      <th>cap-shape_f</th>\n",
       "      <th>cap-shape_k</th>\n",
       "      <th>cap-shape_s</th>\n",
       "      <th>cap-shape_x</th>\n",
       "      <th>cap-surface_g</th>\n",
       "      <th>cap-surface_s</th>\n",
       "      <th>cap-surface_y</th>\n",
       "      <th>cap-color_c</th>\n",
       "      <th>...</th>\n",
       "      <th>population_n</th>\n",
       "      <th>population_s</th>\n",
       "      <th>population_v</th>\n",
       "      <th>population_y</th>\n",
       "      <th>habitat_g</th>\n",
       "      <th>habitat_l</th>\n",
       "      <th>habitat_m</th>\n",
       "      <th>habitat_p</th>\n",
       "      <th>habitat_u</th>\n",
       "      <th>habitat_w</th>\n",
       "    </tr>\n",
       "  </thead>\n",
       "  <tbody>\n",
       "    <tr>\n",
       "      <th>0</th>\n",
       "      <td>p</td>\n",
       "      <td>False</td>\n",
       "      <td>False</td>\n",
       "      <td>False</td>\n",
       "      <td>False</td>\n",
       "      <td>True</td>\n",
       "      <td>False</td>\n",
       "      <td>True</td>\n",
       "      <td>False</td>\n",
       "      <td>False</td>\n",
       "      <td>...</td>\n",
       "      <td>False</td>\n",
       "      <td>True</td>\n",
       "      <td>False</td>\n",
       "      <td>False</td>\n",
       "      <td>False</td>\n",
       "      <td>False</td>\n",
       "      <td>False</td>\n",
       "      <td>False</td>\n",
       "      <td>True</td>\n",
       "      <td>False</td>\n",
       "    </tr>\n",
       "    <tr>\n",
       "      <th>1</th>\n",
       "      <td>e</td>\n",
       "      <td>False</td>\n",
       "      <td>False</td>\n",
       "      <td>False</td>\n",
       "      <td>False</td>\n",
       "      <td>True</td>\n",
       "      <td>False</td>\n",
       "      <td>True</td>\n",
       "      <td>False</td>\n",
       "      <td>False</td>\n",
       "      <td>...</td>\n",
       "      <td>True</td>\n",
       "      <td>False</td>\n",
       "      <td>False</td>\n",
       "      <td>False</td>\n",
       "      <td>True</td>\n",
       "      <td>False</td>\n",
       "      <td>False</td>\n",
       "      <td>False</td>\n",
       "      <td>False</td>\n",
       "      <td>False</td>\n",
       "    </tr>\n",
       "    <tr>\n",
       "      <th>2</th>\n",
       "      <td>e</td>\n",
       "      <td>False</td>\n",
       "      <td>False</td>\n",
       "      <td>False</td>\n",
       "      <td>False</td>\n",
       "      <td>False</td>\n",
       "      <td>False</td>\n",
       "      <td>True</td>\n",
       "      <td>False</td>\n",
       "      <td>False</td>\n",
       "      <td>...</td>\n",
       "      <td>True</td>\n",
       "      <td>False</td>\n",
       "      <td>False</td>\n",
       "      <td>False</td>\n",
       "      <td>False</td>\n",
       "      <td>False</td>\n",
       "      <td>True</td>\n",
       "      <td>False</td>\n",
       "      <td>False</td>\n",
       "      <td>False</td>\n",
       "    </tr>\n",
       "    <tr>\n",
       "      <th>3</th>\n",
       "      <td>p</td>\n",
       "      <td>False</td>\n",
       "      <td>False</td>\n",
       "      <td>False</td>\n",
       "      <td>False</td>\n",
       "      <td>True</td>\n",
       "      <td>False</td>\n",
       "      <td>False</td>\n",
       "      <td>True</td>\n",
       "      <td>False</td>\n",
       "      <td>...</td>\n",
       "      <td>False</td>\n",
       "      <td>True</td>\n",
       "      <td>False</td>\n",
       "      <td>False</td>\n",
       "      <td>False</td>\n",
       "      <td>False</td>\n",
       "      <td>False</td>\n",
       "      <td>False</td>\n",
       "      <td>True</td>\n",
       "      <td>False</td>\n",
       "    </tr>\n",
       "    <tr>\n",
       "      <th>4</th>\n",
       "      <td>e</td>\n",
       "      <td>False</td>\n",
       "      <td>False</td>\n",
       "      <td>False</td>\n",
       "      <td>False</td>\n",
       "      <td>True</td>\n",
       "      <td>False</td>\n",
       "      <td>True</td>\n",
       "      <td>False</td>\n",
       "      <td>False</td>\n",
       "      <td>...</td>\n",
       "      <td>False</td>\n",
       "      <td>False</td>\n",
       "      <td>False</td>\n",
       "      <td>False</td>\n",
       "      <td>True</td>\n",
       "      <td>False</td>\n",
       "      <td>False</td>\n",
       "      <td>False</td>\n",
       "      <td>False</td>\n",
       "      <td>False</td>\n",
       "    </tr>\n",
       "    <tr>\n",
       "      <th>...</th>\n",
       "      <td>...</td>\n",
       "      <td>...</td>\n",
       "      <td>...</td>\n",
       "      <td>...</td>\n",
       "      <td>...</td>\n",
       "      <td>...</td>\n",
       "      <td>...</td>\n",
       "      <td>...</td>\n",
       "      <td>...</td>\n",
       "      <td>...</td>\n",
       "      <td>...</td>\n",
       "      <td>...</td>\n",
       "      <td>...</td>\n",
       "      <td>...</td>\n",
       "      <td>...</td>\n",
       "      <td>...</td>\n",
       "      <td>...</td>\n",
       "      <td>...</td>\n",
       "      <td>...</td>\n",
       "      <td>...</td>\n",
       "      <td>...</td>\n",
       "    </tr>\n",
       "    <tr>\n",
       "      <th>8119</th>\n",
       "      <td>e</td>\n",
       "      <td>False</td>\n",
       "      <td>False</td>\n",
       "      <td>True</td>\n",
       "      <td>False</td>\n",
       "      <td>False</td>\n",
       "      <td>False</td>\n",
       "      <td>True</td>\n",
       "      <td>False</td>\n",
       "      <td>False</td>\n",
       "      <td>...</td>\n",
       "      <td>False</td>\n",
       "      <td>False</td>\n",
       "      <td>False</td>\n",
       "      <td>False</td>\n",
       "      <td>False</td>\n",
       "      <td>True</td>\n",
       "      <td>False</td>\n",
       "      <td>False</td>\n",
       "      <td>False</td>\n",
       "      <td>False</td>\n",
       "    </tr>\n",
       "    <tr>\n",
       "      <th>8120</th>\n",
       "      <td>e</td>\n",
       "      <td>False</td>\n",
       "      <td>False</td>\n",
       "      <td>False</td>\n",
       "      <td>False</td>\n",
       "      <td>True</td>\n",
       "      <td>False</td>\n",
       "      <td>True</td>\n",
       "      <td>False</td>\n",
       "      <td>False</td>\n",
       "      <td>...</td>\n",
       "      <td>False</td>\n",
       "      <td>False</td>\n",
       "      <td>True</td>\n",
       "      <td>False</td>\n",
       "      <td>False</td>\n",
       "      <td>True</td>\n",
       "      <td>False</td>\n",
       "      <td>False</td>\n",
       "      <td>False</td>\n",
       "      <td>False</td>\n",
       "    </tr>\n",
       "    <tr>\n",
       "      <th>8121</th>\n",
       "      <td>e</td>\n",
       "      <td>False</td>\n",
       "      <td>True</td>\n",
       "      <td>False</td>\n",
       "      <td>False</td>\n",
       "      <td>False</td>\n",
       "      <td>False</td>\n",
       "      <td>True</td>\n",
       "      <td>False</td>\n",
       "      <td>False</td>\n",
       "      <td>...</td>\n",
       "      <td>False</td>\n",
       "      <td>False</td>\n",
       "      <td>False</td>\n",
       "      <td>False</td>\n",
       "      <td>False</td>\n",
       "      <td>True</td>\n",
       "      <td>False</td>\n",
       "      <td>False</td>\n",
       "      <td>False</td>\n",
       "      <td>False</td>\n",
       "    </tr>\n",
       "    <tr>\n",
       "      <th>8122</th>\n",
       "      <td>p</td>\n",
       "      <td>False</td>\n",
       "      <td>False</td>\n",
       "      <td>True</td>\n",
       "      <td>False</td>\n",
       "      <td>False</td>\n",
       "      <td>False</td>\n",
       "      <td>False</td>\n",
       "      <td>True</td>\n",
       "      <td>False</td>\n",
       "      <td>...</td>\n",
       "      <td>False</td>\n",
       "      <td>False</td>\n",
       "      <td>True</td>\n",
       "      <td>False</td>\n",
       "      <td>False</td>\n",
       "      <td>True</td>\n",
       "      <td>False</td>\n",
       "      <td>False</td>\n",
       "      <td>False</td>\n",
       "      <td>False</td>\n",
       "    </tr>\n",
       "    <tr>\n",
       "      <th>8123</th>\n",
       "      <td>e</td>\n",
       "      <td>False</td>\n",
       "      <td>False</td>\n",
       "      <td>False</td>\n",
       "      <td>False</td>\n",
       "      <td>True</td>\n",
       "      <td>False</td>\n",
       "      <td>True</td>\n",
       "      <td>False</td>\n",
       "      <td>False</td>\n",
       "      <td>...</td>\n",
       "      <td>False</td>\n",
       "      <td>False</td>\n",
       "      <td>False</td>\n",
       "      <td>False</td>\n",
       "      <td>False</td>\n",
       "      <td>True</td>\n",
       "      <td>False</td>\n",
       "      <td>False</td>\n",
       "      <td>False</td>\n",
       "      <td>False</td>\n",
       "    </tr>\n",
       "  </tbody>\n",
       "</table>\n",
       "<p>8124 rows × 96 columns</p>\n",
       "</div>"
      ],
      "text/plain": [
       "     class  cap-shape_c  cap-shape_f  cap-shape_k  cap-shape_s  cap-shape_x  \\\n",
       "0        p        False        False        False        False         True   \n",
       "1        e        False        False        False        False         True   \n",
       "2        e        False        False        False        False        False   \n",
       "3        p        False        False        False        False         True   \n",
       "4        e        False        False        False        False         True   \n",
       "...    ...          ...          ...          ...          ...          ...   \n",
       "8119     e        False        False         True        False        False   \n",
       "8120     e        False        False        False        False         True   \n",
       "8121     e        False         True        False        False        False   \n",
       "8122     p        False        False         True        False        False   \n",
       "8123     e        False        False        False        False         True   \n",
       "\n",
       "      cap-surface_g  cap-surface_s  cap-surface_y  cap-color_c  ...  \\\n",
       "0             False           True          False        False  ...   \n",
       "1             False           True          False        False  ...   \n",
       "2             False           True          False        False  ...   \n",
       "3             False          False           True        False  ...   \n",
       "4             False           True          False        False  ...   \n",
       "...             ...            ...            ...          ...  ...   \n",
       "8119          False           True          False        False  ...   \n",
       "8120          False           True          False        False  ...   \n",
       "8121          False           True          False        False  ...   \n",
       "8122          False          False           True        False  ...   \n",
       "8123          False           True          False        False  ...   \n",
       "\n",
       "      population_n  population_s  population_v  population_y  habitat_g  \\\n",
       "0            False          True         False         False      False   \n",
       "1             True         False         False         False       True   \n",
       "2             True         False         False         False      False   \n",
       "3            False          True         False         False      False   \n",
       "4            False         False         False         False       True   \n",
       "...            ...           ...           ...           ...        ...   \n",
       "8119         False         False         False         False      False   \n",
       "8120         False         False          True         False      False   \n",
       "8121         False         False         False         False      False   \n",
       "8122         False         False          True         False      False   \n",
       "8123         False         False         False         False      False   \n",
       "\n",
       "      habitat_l  habitat_m  habitat_p  habitat_u  habitat_w  \n",
       "0         False      False      False       True      False  \n",
       "1         False      False      False      False      False  \n",
       "2         False       True      False      False      False  \n",
       "3         False      False      False       True      False  \n",
       "4         False      False      False      False      False  \n",
       "...         ...        ...        ...        ...        ...  \n",
       "8119       True      False      False      False      False  \n",
       "8120       True      False      False      False      False  \n",
       "8121       True      False      False      False      False  \n",
       "8122       True      False      False      False      False  \n",
       "8123       True      False      False      False      False  \n",
       "\n",
       "[8124 rows x 96 columns]"
      ]
     },
     "execution_count": 43,
     "metadata": {},
     "output_type": "execute_result"
    }
   ],
   "source": [
    "# Encoding using get_dummies\n",
    "# I ended up not using this encoding method as my performance was better with LabelEncoding\n",
    "target = mushroom_df['class']\n",
    "features_encoded = mushroom_df.drop('class', axis=1)\n",
    "features_encoded = pd.get_dummies(features_encoded, drop_first=True)\n",
    "features_encoded = pd.concat([target, features_encoded], axis=1)\n",
    "features_encoded"
   ]
  },
  {
   "cell_type": "code",
   "execution_count": 44,
   "id": "5b46d889-0513-4c53-96eb-f0a615077284",
   "metadata": {},
   "outputs": [
    {
     "data": {
      "text/plain": [
       "(8124, 23)"
      ]
     },
     "execution_count": 44,
     "metadata": {},
     "output_type": "execute_result"
    }
   ],
   "source": [
    "mushroom_encoded.shape"
   ]
  },
  {
   "cell_type": "markdown",
   "id": "eb6a2041-5319-4eb6-9258-35c33ccd6b5a",
   "metadata": {},
   "source": [
    "## Step 3: Split the data\n",
    "\n",
    "Split the data into a training and test set.\n"
   ]
  },
  {
   "cell_type": "code",
   "execution_count": 62,
   "id": "029b3d4f-d7ca-472e-8812-d07290d5f1d2",
   "metadata": {},
   "outputs": [
    {
     "name": "stdout",
     "output_type": "stream",
     "text": [
      "X_train rows: (6499, 22)\n",
      "X_test rows: (1625, 22)\n",
      "y_train rows: (6499,)\n",
      "y_test rows: (1625,)\n"
     ]
    }
   ],
   "source": [
    "# Create X and y for mushroom dataset\n",
    "X_mushroom = mushroom_encoded.drop('class', axis=1)\n",
    "y_mushroom = mushroom_encoded['class']\n",
    "# Split the data\n",
    "X_train_mushroom, X_test_mushroom, y_train_mushroom, y_test_mushroom = train_test_split(X_mushroom, y_mushroom, test_size=0.2, random_state=42)\n",
    "# Print the shapes\n",
    "print(f\"X_train rows: {X_train_mushroom.shape}\")\n",
    "print(f\"X_test rows: {X_test_mushroom.shape}\")\n",
    "print(f\"y_train rows: {y_train_mushroom.shape}\")\n",
    "print(f\"y_test rows: {y_test_mushroom.shape}\")"
   ]
  },
  {
   "cell_type": "markdown",
   "id": "0eb5c1d0-93f9-4f45-b4f6-02c4a47ba370",
   "metadata": {},
   "source": [
    "## Step 4: Fit a Decision Tree Classifier\n",
    "\n",
    "Fit a decision tree classifier on the training set.\n"
   ]
  },
  {
   "cell_type": "code",
   "execution_count": 46,
   "id": "d4020e37-c6d4-4410-aa6b-8db60d043548",
   "metadata": {},
   "outputs": [],
   "source": [
    "# Create a DecisionTree\n",
    "\n",
    "decision_tree = DecisionTreeClassifier(max_depth=3, random_state=42)"
   ]
  },
  {
   "cell_type": "code",
   "execution_count": 47,
   "id": "d0958364-a685-4e7b-8667-0bf4f929d22e",
   "metadata": {},
   "outputs": [
    {
     "data": {
      "text/html": [
       "<style>#sk-container-id-1 {color: black;}#sk-container-id-1 pre{padding: 0;}#sk-container-id-1 div.sk-toggleable {background-color: white;}#sk-container-id-1 label.sk-toggleable__label {cursor: pointer;display: block;width: 100%;margin-bottom: 0;padding: 0.3em;box-sizing: border-box;text-align: center;}#sk-container-id-1 label.sk-toggleable__label-arrow:before {content: \"▸\";float: left;margin-right: 0.25em;color: #696969;}#sk-container-id-1 label.sk-toggleable__label-arrow:hover:before {color: black;}#sk-container-id-1 div.sk-estimator:hover label.sk-toggleable__label-arrow:before {color: black;}#sk-container-id-1 div.sk-toggleable__content {max-height: 0;max-width: 0;overflow: hidden;text-align: left;background-color: #f0f8ff;}#sk-container-id-1 div.sk-toggleable__content pre {margin: 0.2em;color: black;border-radius: 0.25em;background-color: #f0f8ff;}#sk-container-id-1 input.sk-toggleable__control:checked~div.sk-toggleable__content {max-height: 200px;max-width: 100%;overflow: auto;}#sk-container-id-1 input.sk-toggleable__control:checked~label.sk-toggleable__label-arrow:before {content: \"▾\";}#sk-container-id-1 div.sk-estimator input.sk-toggleable__control:checked~label.sk-toggleable__label {background-color: #d4ebff;}#sk-container-id-1 div.sk-label input.sk-toggleable__control:checked~label.sk-toggleable__label {background-color: #d4ebff;}#sk-container-id-1 input.sk-hidden--visually {border: 0;clip: rect(1px 1px 1px 1px);clip: rect(1px, 1px, 1px, 1px);height: 1px;margin: -1px;overflow: hidden;padding: 0;position: absolute;width: 1px;}#sk-container-id-1 div.sk-estimator {font-family: monospace;background-color: #f0f8ff;border: 1px dotted black;border-radius: 0.25em;box-sizing: border-box;margin-bottom: 0.5em;}#sk-container-id-1 div.sk-estimator:hover {background-color: #d4ebff;}#sk-container-id-1 div.sk-parallel-item::after {content: \"\";width: 100%;border-bottom: 1px solid gray;flex-grow: 1;}#sk-container-id-1 div.sk-label:hover label.sk-toggleable__label {background-color: #d4ebff;}#sk-container-id-1 div.sk-serial::before {content: \"\";position: absolute;border-left: 1px solid gray;box-sizing: border-box;top: 0;bottom: 0;left: 50%;z-index: 0;}#sk-container-id-1 div.sk-serial {display: flex;flex-direction: column;align-items: center;background-color: white;padding-right: 0.2em;padding-left: 0.2em;position: relative;}#sk-container-id-1 div.sk-item {position: relative;z-index: 1;}#sk-container-id-1 div.sk-parallel {display: flex;align-items: stretch;justify-content: center;background-color: white;position: relative;}#sk-container-id-1 div.sk-item::before, #sk-container-id-1 div.sk-parallel-item::before {content: \"\";position: absolute;border-left: 1px solid gray;box-sizing: border-box;top: 0;bottom: 0;left: 50%;z-index: -1;}#sk-container-id-1 div.sk-parallel-item {display: flex;flex-direction: column;z-index: 1;position: relative;background-color: white;}#sk-container-id-1 div.sk-parallel-item:first-child::after {align-self: flex-end;width: 50%;}#sk-container-id-1 div.sk-parallel-item:last-child::after {align-self: flex-start;width: 50%;}#sk-container-id-1 div.sk-parallel-item:only-child::after {width: 0;}#sk-container-id-1 div.sk-dashed-wrapped {border: 1px dashed gray;margin: 0 0.4em 0.5em 0.4em;box-sizing: border-box;padding-bottom: 0.4em;background-color: white;}#sk-container-id-1 div.sk-label label {font-family: monospace;font-weight: bold;display: inline-block;line-height: 1.2em;}#sk-container-id-1 div.sk-label-container {text-align: center;}#sk-container-id-1 div.sk-container {/* jupyter's `normalize.less` sets `[hidden] { display: none; }` but bootstrap.min.css set `[hidden] { display: none !important; }` so we also need the `!important` here to be able to override the default hidden behavior on the sphinx rendered scikit-learn.org. See: https://github.com/scikit-learn/scikit-learn/issues/21755 */display: inline-block !important;position: relative;}#sk-container-id-1 div.sk-text-repr-fallback {display: none;}</style><div id=\"sk-container-id-1\" class=\"sk-top-container\"><div class=\"sk-text-repr-fallback\"><pre>DecisionTreeClassifier(max_depth=3, random_state=42)</pre><b>In a Jupyter environment, please rerun this cell to show the HTML representation or trust the notebook. <br />On GitHub, the HTML representation is unable to render, please try loading this page with nbviewer.org.</b></div><div class=\"sk-container\" hidden><div class=\"sk-item\"><div class=\"sk-estimator sk-toggleable\"><input class=\"sk-toggleable__control sk-hidden--visually\" id=\"sk-estimator-id-1\" type=\"checkbox\" checked><label for=\"sk-estimator-id-1\" class=\"sk-toggleable__label sk-toggleable__label-arrow\">DecisionTreeClassifier</label><div class=\"sk-toggleable__content\"><pre>DecisionTreeClassifier(max_depth=3, random_state=42)</pre></div></div></div></div></div>"
      ],
      "text/plain": [
       "DecisionTreeClassifier(max_depth=3, random_state=42)"
      ]
     },
     "execution_count": 47,
     "metadata": {},
     "output_type": "execute_result"
    }
   ],
   "source": [
    "decision_tree.fit(X_train_mushroom, y_train_mushroom)"
   ]
  },
  {
   "cell_type": "code",
   "execution_count": 48,
   "id": "0f968274-1b13-4549-9c9b-3b02c21e4cc9",
   "metadata": {},
   "outputs": [],
   "source": [
    "y_pred_mushroom = decision_tree.predict(X_test_mushroom)"
   ]
  },
  {
   "cell_type": "markdown",
   "id": "64f54a9c-9ae9-4810-bfac-7f783fac8293",
   "metadata": {},
   "source": [
    "## Step 5: Report the Accuracy and Create a Confusion Matrix\n",
    "\n",
    "Report the accuracy and create a confusion matrix for the model prediction on the test set.\n"
   ]
  },
  {
   "cell_type": "code",
   "execution_count": 49,
   "id": "83e6404d-e467-46b3-a4b7-8c67f416e953",
   "metadata": {},
   "outputs": [
    {
     "name": "stdout",
     "output_type": "stream",
     "text": [
      "Accuracy: 95.20%\n"
     ]
    }
   ],
   "source": [
    "model_accuracy = accuracy_score(y_test_mushroom, y_pred_mushroom)\n",
    "print(f\"Accuracy: {model_accuracy:.2%}\")"
   ]
  },
  {
   "cell_type": "code",
   "execution_count": 50,
   "id": "987328f8-336f-418a-ac6e-0ad0a5b90129",
   "metadata": {},
   "outputs": [
    {
     "name": "stdout",
     "output_type": "stream",
     "text": [
      "Confusion Matrix\n"
     ]
    },
    {
     "data": {
      "text/plain": [
       "array([[784,  59],\n",
       "       [ 19, 763]])"
      ]
     },
     "execution_count": 50,
     "metadata": {},
     "output_type": "execute_result"
    }
   ],
   "source": [
    "# Create a Confusion Matrix\n",
    "conf_matrix = confusion_matrix(y_test_mushroom, y_pred_mushroom)\n",
    "print(\"Confusion Matrix\")\n",
    "conf_matrix"
   ]
  },
  {
   "cell_type": "code",
   "execution_count": 51,
   "id": "43acff71-a9b3-4986-a177-253e4b9ce5a0",
   "metadata": {},
   "outputs": [
    {
     "data": {
      "image/png": "[encoded data removed]",
      "text/plain": [
       "<Figure size 640x480 with 1 Axes>"
      ]
     },
     "metadata": {},
     "output_type": "display_data"
    }
   ],
   "source": [
    "%matplotlib inline\n",
    "heatmap = sns.heatmap(conf_matrix, annot=True, fmt='d', cmap='Reds', cbar=None)\n",
    "plt.xlabel(\"Predicted\")\n",
    "plt.ylabel(\"Acutal\")\n",
    "plt.title(\"Confusion Matrix Heatmap\")\n",
    "plt.text(.15,.15, 'True Negative', va='center', color='white')\n",
    "plt.text(1.5,1.85, 'True Positive', va='center', color='white')\n",
    "plt.text(.15, 1.85, 'False Negative', va='center', color='black')\n",
    "plt.text(1.5,.15, 'False Positive', va='center', color='black')\n",
    "plt.show()"
   ]
  },
  {
   "cell_type": "code",
   "execution_count": 63,
   "id": "d282323b-172f-4842-8df5-6c54a9f8e017",
   "metadata": {
    "scrolled": true
   },
   "outputs": [
    {
     "name": "stdout",
     "output_type": "stream",
     "text": [
      "|--- feature_8 <= 3.50\n",
      "|   |--- feature_20 <= 3.50\n",
      "|   |   |--- feature_19 <= 1.50\n",
      "|   |   |   |--- class: 1\n",
      "|   |   |--- feature_19 >  1.50\n",
      "|   |   |   |--- class: 0\n",
      "|   |--- feature_20 >  3.50\n",
      "|   |   |--- feature_10 <= 2.00\n",
      "|   |   |   |--- class: 1\n",
      "|   |   |--- feature_10 >  2.00\n",
      "|   |   |   |--- class: 0\n",
      "|--- feature_8 >  3.50\n",
      "|   |--- feature_19 <= 1.50\n",
      "|   |   |--- feature_10 <= 0.50\n",
      "|   |   |   |--- class: 0\n",
      "|   |   |--- feature_10 >  0.50\n",
      "|   |   |   |--- class: 1\n",
      "|   |--- feature_19 >  1.50\n",
      "|   |   |--- feature_7 <= 0.50\n",
      "|   |   |   |--- class: 0\n",
      "|   |   |--- feature_7 >  0.50\n",
      "|   |   |   |--- class: 1\n",
      "\n"
     ]
    }
   ],
   "source": [
    "# Text Representation of the tree\n",
    "text_representation = tree.export_text(decision_tree)\n",
    "print(text_representation)"
   ]
  },
  {
   "cell_type": "code",
   "execution_count": 53,
   "id": "7f86b252-a133-4779-8cfa-5e50f8916443",
   "metadata": {},
   "outputs": [
    {
     "data": {
      "image/png": "[encoded data removed]",
      "text/plain": [
       "<Figure size 2000x2500 with 1 Axes>"
      ]
     },
     "metadata": {},
     "output_type": "display_data"
    }
   ],
   "source": [
    "plt.figure(figsize=(20,25))\n",
    "tree.plot_tree(decision_tree, feature_names=X_mushroom.columns)\n",
    "plt.show()"
   ]
  },
  {
   "cell_type": "markdown",
   "id": "6fc74097-3435-497d-a5c0-28db7d21c6a2",
   "metadata": {},
   "source": [
    "## Step 7: Use a $χ^2$-Statistic Selector\n",
    "\n",
    "Use a $χ^2$-statistic selector to pick the five best features for this data (see section 10.4 of the Machine Learning with Python Cookbook).\n"
   ]
  },
  {
   "cell_type": "code",
   "execution_count": 54,
   "id": "e719a143-4bd8-4075-b821-76bbf828621d",
   "metadata": {},
   "outputs": [],
   "source": [
    "# Select 5 features with the highest chi-squared statistics\n",
    "chi2_selector = SelectKBest(chi2, k=5)\n",
    "features_kbest = chi2_selector.fit_transform(X_train_mushroom, y_train_mushroom)"
   ]
  },
  {
   "cell_type": "markdown",
   "id": "5516c9d9-796b-4529-9fce-299792043f32",
   "metadata": {},
   "source": [
    "## Step 8: Get Selected Features\n",
    "\n",
    "Which five features were selected in step 7? Hint: Use the get_support function.\n"
   ]
  },
  {
   "cell_type": "code",
   "execution_count": 55,
   "id": "40cb4de0-67ea-4195-b9a5-518b4b796518",
   "metadata": {},
   "outputs": [
    {
     "name": "stdout",
     "output_type": "stream",
     "text": [
      "The selected features were bruises, gill-size, gill-color, stalk-root, ring-type.\n"
     ]
    }
   ],
   "source": [
    "selected_indices = chi2_selector.get_support(indices=True)\n",
    "selected_features = X_train_mushroom.columns[selected_indices]\n",
    "\n",
    "print(f\"The selected features were {', '.join(selected_features)}.\")"
   ]
  },
  {
   "cell_type": "markdown",
   "id": "19cabf29-1d13-4dee-9b4f-8240251a39c5",
   "metadata": {},
   "source": [
    "## Step 9: Make a Decision Tree for Selected Features\n",
    "\n",
    "Repeat steps 4 and 5 with the five best features selected in step 7.\n"
   ]
  },
  {
   "cell_type": "code",
   "execution_count": 56,
   "id": "7ef3e61c-4421-4e81-aaac-02ebc6f7c31a",
   "metadata": {},
   "outputs": [],
   "source": [
    "# Transform the Training set with the selected features\n",
    "X_train_selected_chi2 = chi2_selector.transform(X_train_mushroom)\n",
    "\n",
    "# Transform the Test set with the selected features\n",
    "X_test_selected_chi2 = chi2_selector.transform(X_test_mushroom)\n",
    "\n",
    "# Fit a Decision Tree Classifer on the Selected Features\n",
    "chi2_classifier = DecisionTreeClassifier(random_state=42)\n",
    "chi2_classifier.fit(X_train_selected_chi2, y_train_mushroom)\n",
    "\n",
    "# Make predictions on the test set\n",
    "y_pred_chi2 = chi2_classifier.predict(X_test_selected_chi2)\n"
   ]
  },
  {
   "cell_type": "code",
   "execution_count": 57,
   "id": "48b2057b-baaa-4b1c-ad2c-25f2110b5586",
   "metadata": {},
   "outputs": [
    {
     "name": "stdout",
     "output_type": "stream",
     "text": [
      "Chi2 Accuracy: 97.48%\n"
     ]
    }
   ],
   "source": [
    "# Report the Accuracy \n",
    "chi2_accuracy = accuracy_score(y_test_mushroom, y_pred_chi2)\n",
    "print(f\"Chi2 Accuracy: {chi2_accuracy:.2%}\")"
   ]
  },
  {
   "cell_type": "code",
   "execution_count": 58,
   "id": "797884a0-bda3-4662-b38c-eb4000e6e055",
   "metadata": {},
   "outputs": [
    {
     "name": "stdout",
     "output_type": "stream",
     "text": [
      "Chi2 Confusion Matrix\n",
      "[[843   0]\n",
      " [ 41 741]]\n"
     ]
    }
   ],
   "source": [
    "# Create a Confusion Matrix\n",
    "chi2_conf_matrix = confusion_matrix(y_test_mushroom, y_pred_chi2)\n",
    "print(\"Chi2 Confusion Matrix\")\n",
    "print(chi2_conf_matrix)"
   ]
  },
  {
   "cell_type": "code",
   "execution_count": 59,
   "id": "76c5ad5c-cc59-448f-877a-3b48bc03ee74",
   "metadata": {},
   "outputs": [
    {
     "data": {
      "image/png": "[encoded data removed]",
      "text/plain": [
       "<Figure size 640x480 with 1 Axes>"
      ]
     },
     "metadata": {},
     "output_type": "display_data"
    }
   ],
   "source": [
    "heatmap = sns.heatmap(chi2_conf_matrix, annot=True, fmt='d', cmap='Reds', cbar=None)\n",
    "plt.xlabel(\"Predicted\")\n",
    "plt.ylabel(\"Acutal\")\n",
    "plt.title(\"Confusion Matrix Heatmap\")\n",
    "plt.text(.15,.15, 'True Negative', va='center', color='white')\n",
    "plt.text(1.5,1.85, 'True Positive', va='center', color='white')\n",
    "plt.text(.15, 1.85, 'False Negative', va='center', color='black')\n",
    "plt.text(1.5,.15, 'False Positive', va='center', color='black')\n",
    "plt.show()"
   ]
  },
  {
   "cell_type": "markdown",
   "id": "b3e6fef5-10bf-41e3-a617-c5c7d362e364",
   "metadata": {},
   "source": [
    "## Conclusion\n",
    "\n",
    "The initial classifier initially performed too well at 100% accuracy. I thought that I might have data leakage, but confirmed that I did not have my class in any of the training data. I tried two different methods of one hot encoding and both performed at 100%. I then decided that I was overfitting the data and decided to reduce the depth of the Decision Tree Classifier to 3. This reduced my accuracy score to 95.20% and resulted in 59 false positives and 19 false negatives. While these may be acceptable in some situations, I definitely would not consider any false positives to be acceptable when identifying edible mushrooms. \n",
    "\n",
    "After removing all but the five features with the highest $χ^2$, the model performed at 97.48%, which is an improvement. However, the real improvement is evidenced by the fact that there were 0 False Positives for identifying edible mushrooms, which is ideal for this type of application. There still were 41 false negatives, but I think that it is better to identify potentially edible mushrooms as poisonous than the inverse. \n"
   ]
  }
 ],
 "metadata": {
  "kernelspec": {
   "display_name": "Python 3 (ipykernel)",
   "language": "python",
   "name": "python3"
  },
  "language_info": {
   "codemirror_mode": {
    "name": "ipython",
    "version": 3
   },
   "file_extension": ".py",
   "mimetype": "text/x-python",
   "name": "python",
   "nbconvert_exporter": "python",
   "pygments_lexer": "ipython3",
   "version": "3.10.12"
  }
 },
 "nbformat": 4,
 "nbformat_minor": 5
}
