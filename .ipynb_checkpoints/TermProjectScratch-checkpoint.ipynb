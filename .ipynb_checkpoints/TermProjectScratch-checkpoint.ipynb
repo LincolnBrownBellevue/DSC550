{
 "cells": [
  {
   "cell_type": "code",
   "execution_count": 1,
   "id": "234afed3-d595-4071-89b1-70ef5366cd6c",
   "metadata": {},
   "outputs": [],
   "source": [
    "# Unused function, developed for the sales_pids pids that were extracted from the excel spreadsheets\n",
    "# The get_parcel_data function works with the json files that were scraped from the API\n",
    "def get_parcel_info(pid):\n",
    "    path = f\"PID_Details/{pid}_detail.json\"\n",
    "    if os.path.exists(path):\n",
    "        with open(path) as pid_file:\n",
    "            [raw_text] = pid_file.readlines()\n",
    "        data = json.loads(raw_text)\n",
    "        parcel_data = data['items'][0]['items']\n",
    "        \n",
    "        # Extract 'Assessed Values' data, if present\n",
    "        value_data = next((item['items'] for item in parcel_data if 'Assessed Values' in item['title']), None)\n",
    "        \n",
    "        assessed_value = next((v_item['items'] for v_item in value_data if 'Total' in v_item['title']), None)\n",
    "\n",
    "        # Extract 'Sales Info' data, if present\n",
    "        sales_data = next((item['items'] for item in parcel_data if 'Sales Info' in item['title']), None)\n",
    "        if sales_data:\n",
    "            sale_price = next((s_item['items'] for s_item in sales_data if 'Sale Price' in s_item['title']), None)\n",
    "        \n",
    "        # Get Residential Datasheet\n",
    "        residential_data = next((item['items'] for item in parcel_data if 'Residential Datasheet' in item['title']), None)\n",
    "        for x in residential_data:\n",
    "            print(x)\n",
    "        condition = next((r_item['items'] for r_item in residential_data if 'Condition:' in r_item['title']), None)\n",
    "        year = next((r_item['items'] for r_item in residential_data if 'Year Built:' in r_item['title']), None)\n",
    "        bathroom = next((r_item['items'] for r_item in residential_data if 'Bathrooms:' in r_item['title']), None)\n",
    "        bedroom = next((r_item['items'] for r_item in residential_data if 'Bedrooms:' in r_item['title']), None)\n",
    "        building_size = next((r_item['items'] for r_item in residential_data if 'Building Size:' in r_item['title']), None)\n",
    "        basement_size = next((r_item['items'] for r_item in residential_data if 'Basement Size:' in r_item['title']), None)\n",
    "        garage_size = next((r_item['items'] for r_item in residential_data if 'Garage 1 Size:' in r_item['title']), None)\n",
    "        \n",
    "        for x in sales_data:\n",
    "            print(x)\n",
    "        \n",
    "        for x in residential_data:\n",
    "            print(x)\n",
    "        \n",
    "        # Process 'Assessed Values' data\n",
    "        #print(f\"Assessed 2023 Value: {assessed_value[0]}\")\n",
    "        row = [pid, assessed_value[0], year[0], building_size[0], condition[0], bathroom[0], bedroom[0], basement_size[0], garage_size[0]]\n",
    "        return row"
   ]
  },
  {
   "cell_type": "code",
   "execution_count": 2,
   "id": "b6c46421-d9df-4feb-af96-662e6c816053",
   "metadata": {},
   "outputs": [],
   "source": [
    "# V1 of get_parcel_info\n",
    "def get_parcel_info(pid):\n",
    "    path = f\"PID_Details/{pid}_detail.json\"\n",
    "    if os.path.exists(path):\n",
    "        with open(path) as pid_file:\n",
    "            [raw_text] = pid_file.readlines()\n",
    "        data = json.loads(raw_text)\n",
    "        parcel_data = data['items'][0]['items']\n",
    "        for item in parcel_data:\n",
    "            #print(item['title'])\n",
    "            if item['title'].__contains__('Assessed Values'):\n",
    "                value_data = item['items']\n",
    "                for v_item in value_data:\n",
    "                    print(v_item)\n",
    "                    if v_item['title'].__contains__(\"Total\"):\n",
    "                        assessed_totals = v_item['items']\n",
    "                        print(assessed_totals)\n",
    "                \n",
    "        "
   ]
  },
  {
   "cell_type": "code",
   "execution_count": null,
   "id": "fc079211-6c9d-4ee4-8cf5-7eb58542f844",
   "metadata": {},
   "outputs": [],
   "source": []
  }
 ],
 "metadata": {
  "kernelspec": {
   "display_name": "Python 3 (ipykernel)",
   "language": "python",
   "name": "python3"
  },
  "language_info": {
   "codemirror_mode": {
    "name": "ipython",
    "version": 3
   },
   "file_extension": ".py",
   "mimetype": "text/x-python",
   "name": "python",
   "nbconvert_exporter": "python",
   "pygments_lexer": "ipython3",
   "version": "3.10.12"
  }
 },
 "nbformat": 4,
 "nbformat_minor": 5
}
