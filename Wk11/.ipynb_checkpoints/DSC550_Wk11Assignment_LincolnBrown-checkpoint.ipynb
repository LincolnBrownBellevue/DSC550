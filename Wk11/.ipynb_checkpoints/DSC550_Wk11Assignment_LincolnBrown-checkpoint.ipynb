{
 "cells": [
  {
   "cell_type": "markdown",
   "id": "28c2af21-9625-4626-a01c-00a2707031f1",
   "metadata": {},
   "source": [
    "## Week 11 Assignment\n",
    "\n",
    "## Lincoln Brown\n",
    "\n",
    "## DSC550-T302\n",
    "\n",
    "## Professor Werner"
   ]
  },
  {
   "cell_type": "code",
   "execution_count": 1,
   "id": "2019cc25-fa4a-4fb9-b8b5-bdd783fabbdf",
   "metadata": {},
   "outputs": [],
   "source": [
    "import matplotlib.pyplot as plt\n",
    "import numpy as np\n",
    "import tensorflow as tf\n",
    "from tensorflow.keras import layers\n",
    "from tensorflow.keras import models\n",
    "from tensorflow.keras.datasets import mnist\n",
    "from tensorflow.keras.utils import to_categorical\n",
    "from sklearn.metrics import confusion_matrix\n",
    "from sklearn.metrics import ConfusionMatrixDisplay"
   ]
  },
  {
   "cell_type": "code",
   "execution_count": 2,
   "id": "45d8763b-97a0-44b6-8e5b-afd245e2cd5f",
   "metadata": {},
   "outputs": [],
   "source": [
    "# Set Image Information\n",
    "channels = 1 \n",
    "height = 28\n",
    "width = 28"
   ]
  },
  {
   "cell_type": "markdown",
   "id": "71457b0c-56b0-4e61-b2c7-25b30247fe2c",
   "metadata": {},
   "source": [
    "## Step 1: Load the MNIST Data\n",
    "Load the MNIST data set.\n"
   ]
  },
  {
   "cell_type": "code",
   "execution_count": 3,
   "id": "f93b7e6e-6c1e-4ad3-81ed-cd274114f00b",
   "metadata": {},
   "outputs": [],
   "source": [
    "# Load data and target from MNIST data\n",
    "(data_train, target_train), (data_test, target_test) = mnist.load_data()"
   ]
  },
  {
   "cell_type": "markdown",
   "id": "2a1f7161-b427-4b21-9451-3db09acd226a",
   "metadata": {},
   "source": [
    "## Step 2: Display the first five images\n",
    "Display the first five images in the training data set (see section 8.1 in the Machine Learning with Python Cookbook). Compare these to the first five training labels."
   ]
  },
  {
   "cell_type": "code",
   "execution_count": 4,
   "id": "50654b7f-efb3-4d29-b334-dff8757e67eb",
   "metadata": {},
   "outputs": [
    {
     "data": {
      "image/png": "[encoded data removed]",
      "text/plain": [
       "<Figure size 1500x300 with 5 Axes>"
      ]
     },
     "metadata": {},
     "output_type": "display_data"
    }
   ],
   "source": [
    "# Display the first five images\n",
    "fig, axes = plt.subplots(1, 5, figsize=(15,3))\n",
    "for i in range(5):\n",
    "    axes[i].imshow(data_train[i], cmap='gray')\n",
    "    label = target_train[i]\n",
    "    axes[i].set_title(f\"Label: {label}\")\n",
    "    axes[i].axis('off')"
   ]
  },
  {
   "cell_type": "markdown",
   "id": "44ef8a33-4b23-4cd4-bfe8-c9450186979d",
   "metadata": {},
   "source": [
    "## Compare the images to their labels\n",
    "The numbers all match their labels"
   ]
  },
  {
   "cell_type": "markdown",
   "id": "d754c338-9b17-4fa3-8d79-01eaa0fd2824",
   "metadata": {},
   "source": [
    "## Step 3: Build and Train a Keras CNN\n",
    "Build and train a Keras CNN classifier on the MNIST training set.\n"
   ]
  },
  {
   "cell_type": "code",
   "execution_count": 5,
   "id": "e3e9cbc3-48e4-46de-9091-f51821d19380",
   "metadata": {},
   "outputs": [],
   "source": [
    "# Reshape training image data into features\n",
    "data_train = data_train.reshape(data_train.shape[0], height, width, channels)"
   ]
  },
  {
   "cell_type": "code",
   "execution_count": 6,
   "id": "8637a356-f392-4269-84f5-b7a7949e6ac7",
   "metadata": {},
   "outputs": [],
   "source": [
    "# Reshape test image data into features\n",
    "data_test = data_test.reshape(data_test.shape[0], height, width, channels)"
   ]
  },
  {
   "cell_type": "code",
   "execution_count": 7,
   "id": "49620799-360c-4cb1-b19a-7c66beebe88b",
   "metadata": {},
   "outputs": [],
   "source": [
    "# Rescale pixel intensity to between 0 and 1 \n",
    "features_train = data_train / 255\n",
    "features_test = data_test / 255"
   ]
  },
  {
   "cell_type": "code",
   "execution_count": 8,
   "id": "50346610-884d-497e-9f48-720afb467547",
   "metadata": {},
   "outputs": [],
   "source": [
    "# One-hot encode target\n",
    "target_train = to_categorical(target_train)\n",
    "target_test = to_categorical(target_test)\n",
    "number_of_classes = target_test.shape[1]"
   ]
  },
  {
   "cell_type": "code",
   "execution_count": 9,
   "id": "4a8bddf1-8eec-4e9d-b496-5ffa5df698be",
   "metadata": {},
   "outputs": [],
   "source": [
    "# Start neural network\n",
    "network = models.Sequential()"
   ]
  },
  {
   "cell_type": "code",
   "execution_count": 10,
   "id": "b82283bc-3b6d-48c2-9433-84a541906eda",
   "metadata": {},
   "outputs": [],
   "source": [
    "# Add convolutional layer with 64 filters, a 5x5 window, and a ReLU activation function\n",
    "network.add(layers.Conv2D(64, (5,5), activation='relu', input_shape=(height, width, channels)))"
   ]
  },
  {
   "cell_type": "code",
   "execution_count": 11,
   "id": "8e282d58-8e89-4506-84c4-348facbe068a",
   "metadata": {},
   "outputs": [],
   "source": [
    "# Add max pooling layer with a 2x2 window\n",
    "network.add(layers.MaxPooling2D(pool_size=(2,2)))"
   ]
  },
  {
   "cell_type": "code",
   "execution_count": 12,
   "id": "cd8c637a-adbc-408f-adf3-b9e24d3a185b",
   "metadata": {},
   "outputs": [],
   "source": [
    "# Add dropout layer\n",
    "network.add(layers.Dropout(0.5))"
   ]
  },
  {
   "cell_type": "code",
   "execution_count": 13,
   "id": "10662c99-6a1e-4c95-92e6-3e58c4ad5f0d",
   "metadata": {},
   "outputs": [],
   "source": [
    "# Add layer to flatten input\n",
    "network.add(layers.Flatten())"
   ]
  },
  {
   "cell_type": "code",
   "execution_count": 14,
   "id": "eb94f6b8-be27-40f1-894a-fefbb2382f25",
   "metadata": {},
   "outputs": [],
   "source": [
    "# Add fully connected layer of 128 units with a ReLU actviation function\n",
    "network.add(layers.Dense(128, activation='relu'))"
   ]
  },
  {
   "cell_type": "code",
   "execution_count": 15,
   "id": "5baac055-f5b1-4f6c-9913-821ac52e40e8",
   "metadata": {},
   "outputs": [],
   "source": [
    "# Add dropout layer\n",
    "network.add(layers.Dropout(0.5))"
   ]
  },
  {
   "cell_type": "code",
   "execution_count": 16,
   "id": "3fe4af54-df39-4560-9d65-90bf31b90328",
   "metadata": {},
   "outputs": [],
   "source": [
    "# Add fully connected layer with a softmax activation function\n",
    "network.add(layers.Dense(number_of_classes, activation='softmax'))"
   ]
  },
  {
   "cell_type": "code",
   "execution_count": 17,
   "id": "14d5c444-8d8f-4b89-b1d6-507ba1976132",
   "metadata": {},
   "outputs": [],
   "source": [
    "# Compile neural network\n",
    "network.compile(loss='categorical_crossentropy', # Cross-entropy\n",
    "                optimizer='rmsprop', # Root Mean Square Propagation\n",
    "                metrics=['accuracy']) # Accuracy performance metric"
   ]
  },
  {
   "cell_type": "code",
   "execution_count": 18,
   "id": "6fb220b8-7513-47d3-a73c-c73bfc45e059",
   "metadata": {},
   "outputs": [
    {
     "data": {
      "text/plain": [
       "<keras.src.callbacks.History at 0x17e57bfd0>"
      ]
     },
     "execution_count": 18,
     "metadata": {},
     "output_type": "execute_result"
    }
   ],
   "source": [
    "# Train neural network\n",
    "network.fit(features_train, # Features\n",
    "            target_train, # Target\n",
    "            epochs=2, # Number of epochs\n",
    "            verbose=0, # Don't print description after each epoch\n",
    "            batch_size=1000, # Number of observations per batch\n",
    "            validation_data=(features_test, target_test)) # Data for evaluation\n"
   ]
  },
  {
   "cell_type": "markdown",
   "id": "f50fa8a0-338d-4ac3-af41-68b4137beb64",
   "metadata": {},
   "source": [
    "## Report the Test Accuracy of Your Model\n",
    "\n",
    "Report the test accuracy of your model.\n"
   ]
  },
  {
   "cell_type": "code",
   "execution_count": 19,
   "id": "23c087ac-b7cb-4e2b-8a4b-7f7d8044c644",
   "metadata": {},
   "outputs": [
    {
     "name": "stdout",
     "output_type": "stream",
     "text": [
      "313/313 [==============================] - 1s 2ms/step - loss: 0.0932 - accuracy: 0.9724\n",
      "The Test Accuracy of the Keras CNN model is: 97.24%\n"
     ]
    }
   ],
   "source": [
    "# Evalute the model and print the model accuracy\n",
    "test_loss, test_accuracy = network.evaluate(features_test, target_test)\n",
    "print(f\"The Test Accuracy of the Keras CNN model is: {test_accuracy:.2%}\")"
   ]
  },
  {
   "cell_type": "markdown",
   "id": "5ce2b514-4744-4c84-9779-ee0fc5181335",
   "metadata": {},
   "source": [
    "## Display a Confusion Matrix on the Test Set\n",
    "\n",
    "Display a confusion matrix on the test set classifications.\n"
   ]
  },
  {
   "cell_type": "code",
   "execution_count": 20,
   "id": "b8482900-ab7a-427d-a299-51c9ae872e6a",
   "metadata": {},
   "outputs": [
    {
     "name": "stdout",
     "output_type": "stream",
     "text": [
      "313/313 [==============================] - 1s 2ms/step\n"
     ]
    }
   ],
   "source": [
    "# Make predictions on the test set\n",
    "test_pred = network.predict(features_test)\n",
    "conf_matrix = confusion_matrix(np.argmax(target_test, axis=1), np.argmax(test_pred, axis=1))"
   ]
  },
  {
   "cell_type": "code",
   "execution_count": 21,
   "id": "ae1b689a-425d-46cc-b114-4b84a2303f5b",
   "metadata": {},
   "outputs": [
    {
     "data": {
      "image/png": "[encoded data removed]",
      "text/plain": [
       "<Figure size 640x480 with 2 Axes>"
      ]
     },
     "metadata": {},
     "output_type": "display_data"
    }
   ],
   "source": [
    "# Display the confusion matrix\n",
    "labels = [str(i) for i in range(number_of_classes)]\n",
    "disp = ConfusionMatrixDisplay(confusion_matrix = conf_matrix, display_labels=labels)\n",
    "disp.plot(cmap='Reds', values_format='d')\n",
    "plt.show()"
   ]
  },
  {
   "cell_type": "markdown",
   "id": "09e15e43-228f-4816-a1fa-b1214fcca0fc",
   "metadata": {},
   "source": [
    "## Step 6: Summary\n",
    "\n",
    "This was a really good introduction into the world of neural networks, albeit not without its difficulties. \n",
    "\n",
    "The goal of this Keras Convolutional Neural Network (CNN) was a multiclassification problem using the MNIST data set to correctly identify handwritten numbers. \n"
   ]
  },
  {
   "cell_type": "markdown",
   "id": "e6401449-32c1-4294-988a-20008fdd20fd",
   "metadata": {},
   "source": [
    "We start off with importing the MNIST dataset. From here, we need to reshape the data for loading into the CNN. Additionally, the pixel intensity needed to be rescaled between 0 and 1 to be handled by the network. We also one hot encoded the features. For the encoding, the features were converted into 10 classes representing the digits 0-9. \n",
    "\n",
    "We then created a Sequential model, which stacks linear layers on top of one another. \n",
    "\n",
    "The first layer we added was a convolutional input layer, with 64 filters, a 5x5 window, and a ReLU activiation function. I got the values for these hyperparameters from Machine Learning with Python Cookbook 1st Edition. \n",
    "\n",
    "Next, we added a max pooling layer that is used to summarize the nearby pixels. \n",
    "\n",
    "After that, we add a dropout layer which helps reduce the possibility of overfitting. \n",
    "\n",
    "Following the dropout layer, we add a flatten later that is used to convert the convolutionary inputs into a format that can be handled by a fully connected layer. \n",
    "\n",
    "Finally, we add the fully connected layers and an output layer to do the classification. We use a softmax activation function in the output layer because we are dealing with a multiclassification problem. \n",
    "\n",
    "The model achieved an accuracy score of 97.24%, which seems very good to me. Looking at the confusion matrix was also interesting, because you could see which numbers were incorrectly identified and which number the network thought they were. The number 7 was misclassified as the number 2, 18 times. This was the highest error for an individual label we saw. \n",
    "\n",
    "I really enjoyed working on this assignment and it went much easier after I pulled out my first edition copy of the book and worked through the example that the assignment was based on. "
   ]
  }
 ],
 "metadata": {
  "kernelspec": {
   "display_name": "Python 3 (ipykernel)",
   "language": "python",
   "name": "python3"
  },
  "language_info": {
   "codemirror_mode": {
    "name": "ipython",
    "version": 3
   },
   "file_extension": ".py",
   "mimetype": "text/x-python",
   "name": "python",
   "nbconvert_exporter": "python",
   "pygments_lexer": "ipython3",
   "version": "3.10.12"
  }
 },
 "nbformat": 4,
 "nbformat_minor": 5
}
